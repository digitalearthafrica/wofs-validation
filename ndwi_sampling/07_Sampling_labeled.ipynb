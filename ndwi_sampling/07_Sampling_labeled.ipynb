{
 "cells": [
  {
   "cell_type": "markdown",
   "metadata": {},
   "source": [
    "# Random sampling from classified NDWI image"
   ]
  },
  {
   "cell_type": "markdown",
   "metadata": {},
   "source": [
    "## Load packages"
   ]
  },
  {
   "cell_type": "code",
   "execution_count": 1,
   "metadata": {},
   "outputs": [],
   "source": [
    "%matplotlib inline\n",
    "\n",
    "import xarray as xr\n",
    "import numpy as np\n",
    "import pandas as pd\n",
    "import geopandas as gpd"
   ]
  },
  {
   "cell_type": "code",
   "execution_count": 2,
   "metadata": {},
   "outputs": [],
   "source": [
    "# define area name\n",
    "\n",
    "area_name = 'Sahel'"
   ]
  },
  {
   "cell_type": "code",
   "execution_count": 3,
   "metadata": {},
   "outputs": [],
   "source": [
    "#\n",
    "data = xr.open_rasterio(f'{area_name}/{area_name}_label.tif').squeeze()\n",
    "dataset = data.to_dataset(name='label')"
   ]
  },
  {
   "cell_type": "markdown",
   "metadata": {},
   "source": [
    "## sample from array"
   ]
  },
  {
   "cell_type": "code",
   "execution_count": 4,
   "metadata": {},
   "outputs": [
    {
     "name": "stdout",
     "output_type": "stream",
     "text": [
      "[30 30 60 90 90]\n"
     ]
    }
   ],
   "source": [
    "if area_name in ['Western', 'Eastern', 'Southern', 'Central']: \n",
    "    n_sample = 500\n",
    "else: n_sample = 300\n",
    "\n",
    "frac_sample = [0.1, 0.1, 0.2, 0.3, 0.3]\n",
    "n_class = len(frac_sample)\n",
    "\n",
    "# distribute points across classes\n",
    "n_sample_class = (n_sample * np.array(frac_sample)).astype(int) #np.ceil(n_sample*1./ n_class).astype(int)\n",
    "print(n_sample_class)"
   ]
  },
  {
   "cell_type": "code",
   "execution_count": 5,
   "metadata": {},
   "outputs": [],
   "source": [
    "def pick_random_common(labelarray, label, n_sample, min_dist=0, return_index=True):\n",
    "    \"\"\"\n",
    "    Pick random samples from a prevalent class\n",
    "    \n",
    "    \"\"\"\n",
    "    da_shape = labelarray.values.shape\n",
    "    picked_y = np.array([], dtype=int)\n",
    "    picked_x = np.array([], dtype=int)\n",
    "    while len(picked_y) < n_sample:\n",
    "        n_to_pick = n_sample - len(picked_y)\n",
    "        # over sample without knowing total number of points in this class\n",
    "        n_sample_over = 5*n_to_pick\n",
    "        random_x = np.random.choice(np.arange(da_shape[1]), n_sample_over, replace=False)\n",
    "        random_y = np.random.choice(np.arange(da_shape[0]), n_sample_over, replace=False)\n",
    "        # keep points matching label\n",
    "        match = labelarray.values[random_y, random_x] == label\n",
    "        random_y, random_x = random_y[match], random_x[match]\n",
    "        # remove points too close to previously picked ones\n",
    "        if len(picked_y) > 0 and min_dist > 0:\n",
    "            dist = np.sqrt((random_y-picked_y[:, None])**2 + (random_x-picked_x[:, None])**2)\n",
    "            keep = dist.min(axis=0) >= min_dist\n",
    "            random_y, random_x = random_y[keep], random_x[keep]\n",
    "        # remove points too close to others\n",
    "        if min_dist > 0:\n",
    "            dist = np.sqrt((random_y-random_y[:, None])**2 + (random_x-random_x[:, None])**2)\n",
    "            # set distances to themselves to min_dist\n",
    "            dist[np.arange(len(random_y)), np.arange(len(random_x))] = min_dist\n",
    "            keep = dist.min(axis=0) >= min_dist\n",
    "            random_y, random_x = random_y[keep], random_x[keep]\n",
    "        # remove extra points\n",
    "        if len(random_y) > n_to_pick:\n",
    "            pick = np.random.choice(np.arange(len(random_y)), n_to_pick, replace=False)\n",
    "            random_y, random_x = random_y[pick], random_x[pick]\n",
    "        picked_y, picked_x = np.concatenate((picked_y, random_y)), np.concatenate((picked_x, random_x))\n",
    "    \n",
    "    if return_index: return np.array(picked_y), np.array(picked_x)\n",
    "    else: return labelarray.y[np.array(picked_y)].values, labelarray.x[np.array(picked_x)].values\n",
    "\n",
    "\n",
    "def pick_random_rare(labelarray, label, n_sample, min_dist=0, return_index=True, n_points_per_batch=1):\n",
    "    \"\"\"\n",
    "    Pick random samples from a rare class\n",
    "    \n",
    "    \"\"\"\n",
    "    \n",
    "    # points will be picked from flattened index arrays\n",
    "    da_shape = labelarray.values.shape\n",
    "    index = np.argwhere(labelarray.values.flatten() == label).squeeze()\n",
    "    index_y, index_x = np.unravel_index(index, da_shape)\n",
    "    \n",
    "    picked_y = np.array([], dtype=int)\n",
    "    picked_x = np.array([], dtype=int)\n",
    "    # pick one or a few points at a time\n",
    "    while len(picked_y) < n_sample:\n",
    "        picked = np.random.choice(index, n_points_per_batch, replace=False)\n",
    "        # convert back to x, y \n",
    "        random_y, random_x  = np.unravel_index(picked, da_shape)\n",
    "        if n_points_per_batch > 1 and min_dist > 0:\n",
    "            # remove points too close to others\n",
    "            dist = np.sqrt((random_y-random_y[:, None])**2 + (random_x-random_x[:, None])**2)\n",
    "            dist[np.arange(len(random_y)),np.arange(len(random_x))] = min_dist\n",
    "            keep = dist.min(axis=0) >= min_dist\n",
    "            random_y, random_x = random_y[keep], random_x[keep]\n",
    "        if min_dist > 0:\n",
    "            # remove nearby points in the index array\n",
    "            keep = np.sqrt((index_y-random_y[:, None])**2 + (index_x-random_x[:, None])**2).min(axis=0) >= min_dist\n",
    "            index, index_y, index_x = index[keep], index_y[keep], index_x[keep]\n",
    "        picked_y, picked_x = np.concatenate((picked_y, random_y)), np.concatenate((picked_x, random_x))\n",
    "        \n",
    "    if len(picked_y) > n_sample:\n",
    "        pick = np.random.choice(np.arange(len(picked_y)), n_sample, replace=False)\n",
    "        picked_y, picked_x = picked_y[pick], picked_x[pick]\n",
    "    \n",
    "    if return_index: return np.array(picked_y), np.array(picked_x)\n",
    "    else: return labelarray.y[np.array(picked_y)].values, labelarray.x[np.array(picked_x)].values\n"
   ]
  },
  {
   "cell_type": "code",
   "execution_count": 6,
   "metadata": {},
   "outputs": [
    {
     "name": "stdout",
     "output_type": "stream",
     "text": [
      "CPU times: user 3min 54s, sys: 59.2 s, total: 4min 54s\n",
      "Wall time: 4min 54s\n"
     ]
    }
   ],
   "source": [
    "%%time\n",
    "\n",
    "from skimage.morphology import disk\n",
    "\n",
    "min_dist_between_class = False\n",
    "n_points_per_batch=1\n",
    "\n",
    "min_dist = 1000 # this is x, y index, so 30 km \n",
    "\n",
    "if min_dist_between_class:\n",
    "    # buffer around picked points\n",
    "    offset_y, offset_x = np.where(disk(min_dist)==1)\n",
    "    offset_y, offset_x = offset_y-min_dist, offset_x-min_dist\n",
    "\n",
    "    labelarray = dataset.label.copy()\n",
    "    da_shape = labelarray.values.shape\n",
    "else:\n",
    "    labelarray = dataset.label\n",
    "\n",
    "\n",
    "label_picked = {}\n",
    "\n",
    "class_id = 1\n",
    "y, x = pick_random_common(labelarray, class_id, n_sample_class[class_id-1], min_dist=min_dist, return_index=True)\n",
    "label_picked[class_id] = (y, x)\n",
    "\n",
    "# clear out areas next to picked points\n",
    "if min_dist_between_class:\n",
    "    for yx in zip(y,x):\n",
    "        buffer_y, buffer_x = yx[0]+offset_y, yx[1]+offset_x\n",
    "        # within boundary\n",
    "        mask_ind = (buffer_y>=0) & (buffer_x>=0) & (buffer_y<da_shape[0]) & (buffer_x<da_shape[1])\n",
    "        labelarray.values[buffer_y[mask_ind], buffer_x[mask_ind]] = 0\n",
    "    \n",
    "for class_id in np.arange(2, n_class+1):\n",
    "    \n",
    "    y, x = pick_random_rare(labelarray, class_id, n_sample_class[class_id-1], min_dist=min_dist, return_index=True,\n",
    "                            n_points_per_batch=n_points_per_batch)\n",
    "    label_picked[class_id] = (y, x)\n",
    "\n",
    "    # clear out areas next to picked points\n",
    "    if min_dist_between_class:\n",
    "        for yx in zip(y, x):\n",
    "            buffer_y, buffer_x = yx[0]+offset_y, yx[1]+offset_x\n",
    "            # within boundary\n",
    "            mask_ind = (buffer_y>=0) & (buffer_x>=0) & (buffer_y<da_shape[0]) & (buffer_x<da_shape[1])\n",
    "            labelarray.values[buffer_y[mask_ind], buffer_x[mask_ind]] = 0\n"
   ]
  },
  {
   "cell_type": "code",
   "execution_count": 7,
   "metadata": {},
   "outputs": [
    {
     "name": "stdout",
     "output_type": "stream",
     "text": [
      "1 30\n",
      "minimum distance in class 1 51.61641018125921\n",
      "2 30\n",
      "minimum distance in class 2 32.608564825824516\n",
      "3 60\n",
      "minimum distance in class 3 30.00314983464236\n",
      "4 90\n",
      "minimum distance in class 4 30.4836759594377\n",
      "5 90\n",
      "minimum distance in class 5 30.197350877187887\n",
      "total number of points 300\n",
      "minimum distance between all points 1.816177304119837\n"
     ]
    }
   ],
   "source": [
    "# check samples and distance between samples\n",
    "\n",
    "random_y = np.array([], dtype=int)\n",
    "random_x = np.array([], dtype=int)\n",
    "for label in label_picked.keys():\n",
    "    check_label = dataset.label.values[label_picked[label][0], label_picked[label][1]] == label\n",
    "    if np.any(~check_label):\n",
    "        print(\"wrong type picked?\", label)\n",
    "    print(label, check_label.sum())\n",
    "    dist = np.sqrt((label_picked[label][0]-label_picked[label][0][:, None])**2 + (label_picked[label][1]-label_picked[label][1][:, None])**2)\n",
    "    max_dist = dist.max()\n",
    "    dist[np.arange(len(label_picked[label][0])),np.arange(len(label_picked[label][0]))] = max_dist\n",
    "    print(\"minimum distance in class\", label, dist.min()*30/1000)\n",
    "    bad = dist.min(axis=0) < min_dist\n",
    "    if bad.sum()>0:\n",
    "        print(\"check min distanctance\",label, bad)\n",
    "    random_y, random_x = np.concatenate((random_y, label_picked[label][0])), np.concatenate((random_x, label_picked[label][1]))\n",
    "    \n",
    "#check minimum distance between points\n",
    "dist = np.sqrt((random_y-random_y[:, None])**2 + (random_x-random_x[:, None])**2)\n",
    "max_dist = dist.max()\n",
    "dist[np.arange(len(random_y)),np.arange(len(random_x))] = max_dist\n",
    "print(\"total number of points\", len(random_y))\n",
    "print(\"minimum distance between all points\", dist.min()*30/1000)\n"
   ]
  },
  {
   "cell_type": "code",
   "execution_count": 8,
   "metadata": {},
   "outputs": [
    {
     "data": {
      "text/plain": [
       "300"
      ]
     },
     "execution_count": 8,
     "metadata": {},
     "output_type": "execute_result"
    }
   ],
   "source": [
    "for class_id in np.arange(1, n_class+1):\n",
    "    y, x = label_picked[class_id]\n",
    "    df = pd.DataFrame({'y': dataset.y[y].values, 'x':dataset.x[x].values})\n",
    "    #df = pd.read_csv(f'{area_name}/{area_name}_class_{class_id}.csv', header=None, names=['y','x'] )\n",
    "    df['class']=class_id\n",
    "    if class_id ==1: \n",
    "        dfs = df\n",
    "    else: \n",
    "        dfs = dfs.append(df, ignore_index=True)\n",
    "\n",
    "len(dfs)"
   ]
  },
  {
   "cell_type": "code",
   "execution_count": 9,
   "metadata": {},
   "outputs": [],
   "source": [
    "gdf = gpd.GeoDataFrame(\n",
    "        dfs,\n",
    "        crs=dataset.label.crs,\n",
    "        geometry=gpd.points_from_xy(dfs.x, dfs.y)).reset_index()\n",
    "\n",
    "gdf = gdf.drop(['x', 'y'],axis=1)\n",
    "\n",
    "if min_dist_between_class:\n",
    "    gdf.to_file(f'{area_name}/{area_name}_samples_min_dist_between_class.shp')\n",
    "else:\n",
    "    gdf.to_file(f'{area_name}/{area_name}_samples.shp')"
   ]
  },
  {
   "cell_type": "code",
   "execution_count": 10,
   "metadata": {},
   "outputs": [
    {
     "data": {
      "text/plain": [
       "<matplotlib.axes._subplots.AxesSubplot at 0x7f5eef24a438>"
      ]
     },
     "execution_count": 10,
     "metadata": {},
     "output_type": "execute_result"
    },
    {
     "data": {
      "image/png": "[encoded data removed]",
      "text/plain": [
       "<Figure size 432x288 with 1 Axes>"
      ]
     },
     "metadata": {
      "needs_background": "light"
     },
     "output_type": "display_data"
    }
   ],
   "source": [
    "gdf.plot()"
   ]
  }
 ],
 "metadata": {
  "kernelspec": {
   "display_name": "Python 3",
   "language": "python",
   "name": "python3"
  },
  "language_info": {
   "codemirror_mode": {
    "name": "ipython",
    "version": 3
   },
   "file_extension": ".py",
   "mimetype": "text/x-python",
   "name": "python",
   "nbconvert_exporter": "python",
   "pygments_lexer": "ipython3",
   "version": "3.6.9"
  }
 },
 "nbformat": 4,
 "nbformat_minor": 4
}
