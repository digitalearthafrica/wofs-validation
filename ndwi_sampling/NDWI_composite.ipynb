{
 "cells": [
  {
   "cell_type": "markdown",
   "metadata": {},
   "source": [
    "# NDWI composites\n",
    "\n",
    "For use in stratifying WOfS validation\n"
   ]
  },
  {
   "cell_type": "markdown",
   "metadata": {},
   "source": [
    "### Load packages"
   ]
  },
  {
   "cell_type": "code",
   "execution_count": 1,
   "metadata": {},
   "outputs": [],
   "source": [
    "%matplotlib inline\n",
    "\n",
    "import geopandas as gpd\n",
    "import datacube\n",
    "from datacube.utils import geometry\n",
    "# from datacube.helpers import write_geotiff\n",
    "from datacube.utils.cog import write_cog\n",
    "import warnings\n",
    "warnings.filterwarnings(\"ignore\")\n",
    "\n",
    "import os\n",
    "import xarray as xr\n",
    "import numpy as np\n",
    "\n",
    "\n",
    "import sys\n",
    "sys.path.append('../Scripts')\n",
    "from deafrica_datahandling import load_ard\n",
    "from deafrica_dask import create_local_dask_cluster\n",
    "from deafrica_spatialtools import xr_rasterize\n",
    "from deafrica_classificationtools import HiddenPrints\n",
    "from deafrica_plotting import map_shapefile\n",
    "from deafrica_bandindices import calculate_indices"
   ]
  },
  {
   "cell_type": "markdown",
   "metadata": {},
   "source": [
    "### Set up a dask cluster"
   ]
  },
  {
   "cell_type": "code",
   "execution_count": 2,
   "metadata": {},
   "outputs": [
    {
     "data": {
      "text/html": [
       "<table style=\"border: 2px solid white;\">\n",
       "<tr>\n",
       "<td style=\"vertical-align: top; border: 0px solid white\">\n",
       "<h3 style=\"text-align: left;\">Client</h3>\n",
       "<ul style=\"text-align: left; list-style: none; margin: 0; padding: 0;\">\n",
       "  <li><b>Scheduler: </b>tcp://127.0.0.1:46723</li>\n",
       "  <li><b>Dashboard: </b><a href='/user/fangfy/proxy/45915/status' target='_blank'>/user/fangfy/proxy/45915/status</a></li>\n",
       "</ul>\n",
       "</td>\n",
       "<td style=\"vertical-align: top; border: 0px solid white\">\n",
       "<h3 style=\"text-align: left;\">Cluster</h3>\n",
       "<ul style=\"text-align: left; list-style:none; margin: 0; padding: 0;\">\n",
       "  <li><b>Workers: </b>1</li>\n",
       "  <li><b>Cores: </b>15</li>\n",
       "  <li><b>Memory: </b>104.37 GB</li>\n",
       "</ul>\n",
       "</td>\n",
       "</tr>\n",
       "</table>"
      ],
      "text/plain": [
       "<Client: 'tcp://127.0.0.1:46723' processes=1 threads=15, memory=104.37 GB>"
      ]
     },
     "metadata": {},
     "output_type": "display_data"
    }
   ],
   "source": [
    "create_local_dask_cluster(aws_unsigned=False)"
   ]
  },
  {
   "cell_type": "markdown",
   "metadata": {},
   "source": [
    "### Connect to the datacube"
   ]
  },
  {
   "cell_type": "code",
   "execution_count": 3,
   "metadata": {},
   "outputs": [],
   "source": [
    "dc = datacube.Datacube(app='Geomedian_composites')"
   ]
  },
  {
   "cell_type": "markdown",
   "metadata": {},
   "source": [
    "## Analysis Parameters"
   ]
  },
  {
   "cell_type": "code",
   "execution_count": 4,
   "metadata": {},
   "outputs": [],
   "source": [
    "area = 'Central'"
   ]
  },
  {
   "cell_type": "code",
   "execution_count": 5,
   "metadata": {},
   "outputs": [],
   "source": [
    "time_range = ('2013','2019')\n",
    "\n",
    "vector_file = '../../shapes/ls8_tiles/tiles.shp'\n",
    "attribute_col = 'id'\n",
    "aez_region = f'../../shapes/simplified_AEZs/{area}.shp'\n",
    "\n",
    "products = ['usgs_ls8c_level2_2']\n",
    "measurements = ['green', 'nir']\n",
    "resolution = (-30, 30)\n",
    "output_crs = 'EPSG:6933'\n",
    "align = (15,15)\n",
    "dask_chunks= {'x':2500,'y':2500, 'time':1}\n",
    "\n",
    "export_prefix=f\"NDWI_composite/{area.lower()}_NDWI_tile-\"\n",
    "if not os.path.exists(os.path.dirname(export_prefix)): os.system('mkdir -p '+os.path.dirname(export_prefix))"
   ]
  },
  {
   "cell_type": "markdown",
   "metadata": {},
   "source": [
    "### Set up a query"
   ]
  },
  {
   "cell_type": "code",
   "execution_count": 6,
   "metadata": {},
   "outputs": [
    {
     "data": {
      "text/plain": [
       "{'time': ('2013', '2019'),\n",
       " 'measurements': ['green', 'nir'],\n",
       " 'resolution': (-30, 30),\n",
       " 'output_crs': 'EPSG:6933',\n",
       " 'align': (15, 15),\n",
       " 'dask_chunks': {'x': 2500, 'y': 2500, 'time': 1}}"
      ]
     },
     "execution_count": 6,
     "metadata": {},
     "output_type": "execute_result"
    }
   ],
   "source": [
    "# Create a reusable query\n",
    "query = {'time': time_range,\n",
    "         'measurements': measurements,\n",
    "         'resolution': resolution,\n",
    "         'output_crs': output_crs,\n",
    "         'align': align,\n",
    "         'dask_chunks':dask_chunks\n",
    "         }\n",
    "\n",
    "query"
   ]
  },
  {
   "cell_type": "markdown",
   "metadata": {},
   "source": [
    "### Open and clip shapefiles\n",
    "\n",
    "Open `tiles.shp` and clip it to the boundary shapefile (in this example the `aez_region`)\n"
   ]
  },
  {
   "cell_type": "code",
   "execution_count": 7,
   "metadata": {},
   "outputs": [],
   "source": [
    "#read shapefile\n",
    "gdf = gpd.read_file(vector_file)\n",
    "\n",
    "#open shapefile\n",
    "aez=gpd.read_file(aez_region)\n",
    "\n",
    "# clip points to region\n",
    "gdf = gpd.overlay(gdf, aez, how='intersection')"
   ]
  },
  {
   "cell_type": "markdown",
   "metadata": {},
   "source": [
    "### Add a unique identifier\n",
    "\n",
    "and plot the tiles using `map_shapefile`, you can hover your mouse over the tiles to see the ID "
   ]
  },
  {
   "cell_type": "code",
   "execution_count": 8,
   "metadata": {},
   "outputs": [],
   "source": [
    "# add an ID column\n",
    "gdf[attribute_col]=range(0, len(gdf))\n",
    "\n",
    "#print gdf\n",
    "# map_shapefile(gdf, attribute_col)"
   ]
  },
  {
   "cell_type": "code",
   "execution_count": 9,
   "metadata": {},
   "outputs": [
    {
     "data": {
      "text/plain": [
       "294"
      ]
     },
     "execution_count": 9,
     "metadata": {},
     "output_type": "execute_result"
    }
   ],
   "source": [
    "len(gdf)"
   ]
  },
  {
   "cell_type": "markdown",
   "metadata": {},
   "source": [
    "### Generate a NDWI composite\n"
   ]
  },
  {
   "cell_type": "code",
   "execution_count": null,
   "metadata": {},
   "outputs": [
    {
     "name": "stdout",
     "output_type": "stream",
     "text": [
      "Working on tile: 21\n",
      "Working on tile: 32\n",
      "     Writing to file...\n",
      "Working on tile: 33\n",
      "     Writing to file...\n",
      "Working on tile: 34\n",
      "     Writing to file...\n",
      "Working on tile: 35\n",
      "     Writing to file...\n",
      "Working on tile: 42\n"
     ]
    },
    {
     "name": "stderr",
     "output_type": "stream",
     "text": [
      "distributed.nanny - WARNING - Restarting worker\n"
     ]
    },
    {
     "name": "stdout",
     "output_type": "stream",
     "text": [
      "Working on tile: 43\n",
      "     Writing to file...\n"
     ]
    }
   ],
   "source": [
    "%%time\n",
    "\n",
    "# Loop through polygons in geodataframe and extract satellite data\n",
    "for index, row in gdf.iloc[gdf['id'].loc[0:]].iterrows():\n",
    "    \n",
    "    output_name = export_prefix+str(row[attribute_col]) + '.tif'\n",
    "    if os.path.exists(output_name):\n",
    "        # redo tiles with missing data\n",
    "        data = xr.open_rasterio(output_name)\n",
    "        bad_frac = np.isnan(data).mean().values\n",
    "        if bad_frac < 0.0001: continue\n",
    "        t = os.system('rm '+output_name)\n",
    "    \n",
    "    print(\"Working on tile: \"+str(gdf['id'][index]))\n",
    "    \n",
    "    # Get the geometry\n",
    "    geom = geometry.Geometry(row.geometry.__geo_interface__,\n",
    "                             geometry.CRS(f'EPSG:{gdf.crs.to_epsg()}'))\n",
    "    \n",
    "    # Update dc query with geometry      \n",
    "    query.update({'geopolygon': geom}) \n",
    "    \n",
    "    with HiddenPrints():\n",
    "        try:\n",
    "            ds = load_ard(dc=dc, \n",
    "                          products=products,                 \n",
    "                          group_by='solar_day',\n",
    "                          **query)\n",
    "        except: \n",
    "            continue\n",
    "    \n",
    "    # Generate a polygon mask to keep only data within the polygon\n",
    "#     with HiddenPrints():\n",
    "#         mask = xr_rasterize(gdf.iloc[[index]], ds)\n",
    "    \n",
    "#     # Mask dataset to set pixels outside the polygon to `NaN`\n",
    "#     ds = ds.where(mask)\n",
    "    \n",
    "    with HiddenPrints():\n",
    "        ds = calculate_indices(ds, 'NDWI',collection='c2', drop=True)\n",
    "    \n",
    "    ndwi = ds.NDWI.median('time') \n",
    "    \n",
    "    print(\"     Writing to file...\")    \n",
    "    write_cog(ndwi.compute(), output_name)\n",
    "    "
   ]
  },
  {
   "cell_type": "markdown",
   "metadata": {},
   "source": [
    "---\n",
    "Code to get geojson from datacube UI "
   ]
  },
  {
   "cell_type": "code",
   "execution_count": 11,
   "metadata": {},
   "outputs": [],
   "source": [
    "# from datacube import Datacube\n",
    "# from odc.ui import DcViewer\n",
    "# dc = Datacube()\n",
    "# ui = DcViewer(dc, \"2018\", products=['ga_ls8c_gm_2_annual'])\n",
    "# ui\n",
    "\n",
    "# x = ui._gui.map.layers[1].data\n",
    "\n",
    "# from shapely.geometry import shape\n",
    "# geom = [shape(i) for i in x['features']]\n",
    "# gdf = gpd.GeoDataFrame({'geometry':geom}, crs='EPSG:4326')\n",
    "# gdf.to_file('data/tiles.shp')"
   ]
  },
  {
   "cell_type": "code",
   "execution_count": null,
   "metadata": {},
   "outputs": [],
   "source": []
  },
  {
   "cell_type": "code",
   "execution_count": null,
   "metadata": {},
   "outputs": [],
   "source": []
  }
 ],
 "metadata": {
  "kernelspec": {
   "display_name": "Python 3",
   "language": "python",
   "name": "python3"
  },
  "language_info": {
   "codemirror_mode": {
    "name": "ipython",
    "version": 3
   },
   "file_extension": ".py",
   "mimetype": "text/x-python",
   "name": "python",
   "nbconvert_exporter": "python",
   "pygments_lexer": "ipython3",
   "version": "3.6.9"
  },
  "widgets": {
   "application/vnd.jupyter.widget-state+json": {
    "state": {},
    "version_major": 2,
    "version_minor": 0
   }
  }
 },
 "nbformat": 4,
 "nbformat_minor": 4
}
