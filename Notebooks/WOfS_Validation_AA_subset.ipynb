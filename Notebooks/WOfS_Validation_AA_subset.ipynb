{
 "cells": [
  {
   "cell_type": "markdown",
   "metadata": {},
   "source": [
    "# WOfS Validation Accuracy Assessment <img align=\"right\" src=\"../Supplementary_data/DE_Africa_Logo_Stacked_RGB_small.jpg\">\n",
    "\n",
    "* **Products used:** \n",
    "[ga_ls8c_wofs_2](https://explorer.digitalearth.africa/ga_ls8c_wofs_2),\n",
    "[ga_ls8c_wofs_2_summary ](https://explorer.digitalearth.africa/ga_ls8c_wofs_2_summary)"
   ]
  },
  {
   "cell_type": "markdown",
   "metadata": {},
   "source": [
    "## Background\n",
    "Accuracy assessment for WOfS product in Africa includes generating a confusion error matrix for a WOFL binary classification.\n",
    "The inputs for the estimating the accuracy of WOfS derived product are a binary classification WOFL layer showing water/non-water and a shapefile containing validation points collected by [Collect Earth Online](https://collect.earth/) tool. Validation points are the ground truth or actual data while the extracted value for each location from WOFL is the predicted value. A confusion error matrix containing overall, producer's and user's accuracy is the output of this analysis. "
   ]
  },
  {
   "cell_type": "markdown",
   "metadata": {},
   "source": [
    "## Description\n",
    "This notebook explains how you can perform accuracy assessment for WOFS derived product using collected ground truth dataset. \n",
    "\n",
    "The notebook demonstrates how to:\n",
    "1. Generating a confusion error matrix for WOFL binary classification\n",
    "2. Assessing the accuracy of the classification \n",
    "***"
   ]
  },
  {
   "cell_type": "markdown",
   "metadata": {},
   "source": [
    "## Getting started\n",
    "\n",
    "To run this analysis, run all the cells in the notebook, starting with the \"Load packages\" cell.\n",
    "\n",
    "After finishing the analysis, you can modify some values in the \"Analysis parameters\" cell and re-run the analysis to load WOFLs for a different location or time period."
   ]
  },
  {
   "cell_type": "markdown",
   "metadata": {},
   "source": [
    "### Load packages\n",
    "Import Python packages that are used for the analysis."
   ]
  },
  {
   "cell_type": "code",
   "execution_count": 1,
   "metadata": {},
   "outputs": [],
   "source": [
    "%matplotlib inline\n",
    "\n",
    "import time \n",
    "import datacube\n",
    "from datacube.utils import masking, geometry \n",
    "import sys\n",
    "import os\n",
    "import dask \n",
    "import rasterio, rasterio.features\n",
    "import xarray\n",
    "import glob\n",
    "import numpy as np\n",
    "import pandas as pd\n",
    "import seaborn as sn\n",
    "import geopandas as gpd\n",
    "import subprocess as sp\n",
    "import matplotlib.pyplot as plt\n",
    "import scipy, scipy.ndimage\n",
    "import warnings\n",
    "warnings.filterwarnings(\"ignore\") #this will suppress the warnings for multiple UTM zones in your AOI \n",
    "\n",
    "sys.path.append(\"../Scripts\")\n",
    "from rasterio.mask import mask\n",
    "from geopandas import GeoSeries, GeoDataFrame\n",
    "from shapely.geometry import Point\n",
    "from sklearn.metrics import confusion_matrix, balanced_accuracy_score\n",
    "from sklearn.metrics import plot_confusion_matrix, f1_score  \n",
    "from deafrica_plotting import map_shapefile,display_map, rgb\n",
    "from deafrica_spatialtools import xr_rasterize\n",
    "from deafrica_datahandling import wofs_fuser, mostcommon_crs,load_ard,deepcopy\n",
    "from deafrica_dask import create_local_dask_cluster"
   ]
  },
  {
   "cell_type": "markdown",
   "metadata": {},
   "source": [
    "### Loading Dataset"
   ]
  },
  {
   "cell_type": "markdown",
   "metadata": {},
   "source": [
    "Read in the validation data csv, clean the table and rename the column associated with actual and predicted. \n",
    "\n",
    "We need to read two columns from this table:\n",
    "- Water flag as the groundtruth(actual)\n",
    "- Class Wet from WOfS (prediction)"
   ]
  },
  {
   "cell_type": "code",
   "execution_count": 2,
   "metadata": {},
   "outputs": [],
   "source": [
    "#Read the ground truth data following analysis step \n",
    "CEO = '../Supplementary_data/Validation/Refined/AFRIGIST/Groundtruth_AfriGIST_PointBased_5D.csv'\n",
    "# CEO = '../Supplementary_data/Validation/Refined/AFRIGIST/Groundtruth_AfriGIST_W305m.csv'\n",
    "df = pd.read_csv(CEO,delimiter=\",\")"
   ]
  },
  {
   "cell_type": "code",
   "execution_count": 3,
   "metadata": {},
   "outputs": [],
   "source": [
    "# df.columns"
   ]
  },
  {
   "cell_type": "code",
   "execution_count": 4,
   "metadata": {},
   "outputs": [],
   "source": [
    "input_data = df.drop(['Unnamed: 0', 'FLAGGED', 'ANALYSES','SENTINEL2Y','STARTDATE', 'ENDDATE', 'WATER', 'NO_WATER', 'BAD_IMAGE', 'NOT_SURE','COMMENT','geometry'], axis=1)\n",
    "input_data = input_data.rename(columns={'WATERFLAG':'ACTUAL'})"
   ]
  },
  {
   "cell_type": "code",
   "execution_count": 5,
   "metadata": {},
   "outputs": [
    {
     "data": {
      "text/plain": [
       "(2774, 8)"
      ]
     },
     "execution_count": 5,
     "metadata": {},
     "output_type": "execute_result"
    }
   ],
   "source": [
    "input_data.shape"
   ]
  },
  {
   "cell_type": "code",
   "execution_count": 6,
   "metadata": {},
   "outputs": [],
   "source": [
    "#setting the column prediction based on frequency flag or using class_wet flag \n",
    "#input_data['PREDICTION'] = input_data['FREQUENCY'].apply(lambda x: '1' if x > 0.5 else '0')\n",
    "input_data['PREDICTION'] = input_data['CLASS_WET'].apply(lambda x: '1' if x >=1 else '0') #you need to comment after this "
   ]
  },
  {
   "cell_type": "code",
   "execution_count": 7,
   "metadata": {},
   "outputs": [],
   "source": [
    "geometry = [Point(xy) for xy in zip(input_data.LON, input_data.LAT)]\n",
    "crs = {'init': 'epsg:4326'} \n",
    "ValPoints = GeoDataFrame(input_data, crs=crs, geometry=geometry)"
   ]
  },
  {
   "cell_type": "code",
   "execution_count": 8,
   "metadata": {},
   "outputs": [],
   "source": [
    "#Reading the boundary file for African countries \n",
    "aez = '../Supplementary_data/Validation/Refined/shapefiles/African_countries_Dissolve.shp'"
   ]
  },
  {
   "cell_type": "code",
   "execution_count": 9,
   "metadata": {},
   "outputs": [],
   "source": [
    "outline = gpd.read_file(aez).to_crs('EPSG:4326')\n",
    "#outline"
   ]
  },
  {
   "cell_type": "code",
   "execution_count": 10,
   "metadata": {},
   "outputs": [],
   "source": [
    "#Setting the buffer zone to exclude points that are located in intertidal areas \n",
    "buffer_zone = outline.buffer(-0.02,resolution=16)"
   ]
  },
  {
   "cell_type": "code",
   "execution_count": 11,
   "metadata": {},
   "outputs": [],
   "source": [
    "#Clipping the input data with the buffer zone to have all inland points that are not coastal \n",
    "include_points = gpd.clip(ValPoints, buffer_zone)"
   ]
  },
  {
   "cell_type": "code",
   "execution_count": 12,
   "metadata": {},
   "outputs": [
    {
     "data": {
      "text/html": [
       "<div>\n",
       "<style scoped>\n",
       "    .dataframe tbody tr th:only-of-type {\n",
       "        vertical-align: middle;\n",
       "    }\n",
       "\n",
       "    .dataframe tbody tr th {\n",
       "        vertical-align: top;\n",
       "    }\n",
       "\n",
       "    .dataframe thead th {\n",
       "        text-align: right;\n",
       "    }\n",
       "</style>\n",
       "<table border=\"1\" class=\"dataframe\">\n",
       "  <thead>\n",
       "    <tr style=\"text-align: right;\">\n",
       "      <th></th>\n",
       "      <th>PLOT_ID</th>\n",
       "      <th>LON</th>\n",
       "      <th>LAT</th>\n",
       "      <th>CLASS</th>\n",
       "      <th>MONTH</th>\n",
       "      <th>ACTUAL</th>\n",
       "      <th>CLASS_WET</th>\n",
       "      <th>CLEAR_OBS</th>\n",
       "      <th>PREDICTION</th>\n",
       "      <th>geometry</th>\n",
       "    </tr>\n",
       "  </thead>\n",
       "  <tbody>\n",
       "    <tr>\n",
       "      <th>0</th>\n",
       "      <td>137483175.0</td>\n",
       "      <td>30.463813</td>\n",
       "      <td>-26.653807</td>\n",
       "      <td>Open water - freshwater</td>\n",
       "      <td>1</td>\n",
       "      <td>1</td>\n",
       "      <td>1.0</td>\n",
       "      <td>2.0</td>\n",
       "      <td>1</td>\n",
       "      <td>POINT (30.46381 -26.65381)</td>\n",
       "    </tr>\n",
       "    <tr>\n",
       "      <th>1</th>\n",
       "      <td>137483175.0</td>\n",
       "      <td>30.463813</td>\n",
       "      <td>-26.653807</td>\n",
       "      <td>Open water - freshwater</td>\n",
       "      <td>5</td>\n",
       "      <td>1</td>\n",
       "      <td>1.0</td>\n",
       "      <td>1.0</td>\n",
       "      <td>1</td>\n",
       "      <td>POINT (30.46381 -26.65381)</td>\n",
       "    </tr>\n",
       "    <tr>\n",
       "      <th>2</th>\n",
       "      <td>137483175.0</td>\n",
       "      <td>30.463813</td>\n",
       "      <td>-26.653807</td>\n",
       "      <td>Open water - freshwater</td>\n",
       "      <td>6</td>\n",
       "      <td>1</td>\n",
       "      <td>1.0</td>\n",
       "      <td>3.0</td>\n",
       "      <td>1</td>\n",
       "      <td>POINT (30.46381 -26.65381)</td>\n",
       "    </tr>\n",
       "    <tr>\n",
       "      <th>3</th>\n",
       "      <td>137483175.0</td>\n",
       "      <td>30.463813</td>\n",
       "      <td>-26.653807</td>\n",
       "      <td>Open water - freshwater</td>\n",
       "      <td>7</td>\n",
       "      <td>1</td>\n",
       "      <td>1.0</td>\n",
       "      <td>1.0</td>\n",
       "      <td>1</td>\n",
       "      <td>POINT (30.46381 -26.65381)</td>\n",
       "    </tr>\n",
       "    <tr>\n",
       "      <th>4</th>\n",
       "      <td>137483175.0</td>\n",
       "      <td>30.463813</td>\n",
       "      <td>-26.653807</td>\n",
       "      <td>Open water - freshwater</td>\n",
       "      <td>9</td>\n",
       "      <td>1</td>\n",
       "      <td>1.0</td>\n",
       "      <td>1.0</td>\n",
       "      <td>1</td>\n",
       "      <td>POINT (30.46381 -26.65381)</td>\n",
       "    </tr>\n",
       "    <tr>\n",
       "      <th>...</th>\n",
       "      <td>...</td>\n",
       "      <td>...</td>\n",
       "      <td>...</td>\n",
       "      <td>...</td>\n",
       "      <td>...</td>\n",
       "      <td>...</td>\n",
       "      <td>...</td>\n",
       "      <td>...</td>\n",
       "      <td>...</td>\n",
       "      <td>...</td>\n",
       "    </tr>\n",
       "    <tr>\n",
       "      <th>2769</th>\n",
       "      <td>137482803.0</td>\n",
       "      <td>20.258942</td>\n",
       "      <td>-9.360062</td>\n",
       "      <td>Open water - freshwater</td>\n",
       "      <td>7</td>\n",
       "      <td>1</td>\n",
       "      <td>1.0</td>\n",
       "      <td>2.0</td>\n",
       "      <td>1</td>\n",
       "      <td>POINT (20.25894 -9.36006)</td>\n",
       "    </tr>\n",
       "    <tr>\n",
       "      <th>2770</th>\n",
       "      <td>137482803.0</td>\n",
       "      <td>20.258942</td>\n",
       "      <td>-9.360062</td>\n",
       "      <td>Open water - freshwater</td>\n",
       "      <td>8</td>\n",
       "      <td>1</td>\n",
       "      <td>1.0</td>\n",
       "      <td>2.0</td>\n",
       "      <td>1</td>\n",
       "      <td>POINT (20.25894 -9.36006)</td>\n",
       "    </tr>\n",
       "    <tr>\n",
       "      <th>2771</th>\n",
       "      <td>137482803.0</td>\n",
       "      <td>20.258942</td>\n",
       "      <td>-9.360062</td>\n",
       "      <td>Open water - freshwater</td>\n",
       "      <td>9</td>\n",
       "      <td>1</td>\n",
       "      <td>1.0</td>\n",
       "      <td>2.0</td>\n",
       "      <td>1</td>\n",
       "      <td>POINT (20.25894 -9.36006)</td>\n",
       "    </tr>\n",
       "    <tr>\n",
       "      <th>2772</th>\n",
       "      <td>137482803.0</td>\n",
       "      <td>20.258942</td>\n",
       "      <td>-9.360062</td>\n",
       "      <td>Open water - freshwater</td>\n",
       "      <td>12</td>\n",
       "      <td>1</td>\n",
       "      <td>1.0</td>\n",
       "      <td>2.0</td>\n",
       "      <td>1</td>\n",
       "      <td>POINT (20.25894 -9.36006)</td>\n",
       "    </tr>\n",
       "    <tr>\n",
       "      <th>2773</th>\n",
       "      <td>137482804.0</td>\n",
       "      <td>13.838962</td>\n",
       "      <td>-9.369115</td>\n",
       "      <td>Open water - freshwater</td>\n",
       "      <td>9</td>\n",
       "      <td>0</td>\n",
       "      <td>1.0</td>\n",
       "      <td>2.0</td>\n",
       "      <td>1</td>\n",
       "      <td>POINT (13.83896 -9.36912)</td>\n",
       "    </tr>\n",
       "  </tbody>\n",
       "</table>\n",
       "<p>2549 rows × 10 columns</p>\n",
       "</div>"
      ],
      "text/plain": [
       "          PLOT_ID        LON        LAT                    CLASS  MONTH  \\\n",
       "0     137483175.0  30.463813 -26.653807  Open water - freshwater      1   \n",
       "1     137483175.0  30.463813 -26.653807  Open water - freshwater      5   \n",
       "2     137483175.0  30.463813 -26.653807  Open water - freshwater      6   \n",
       "3     137483175.0  30.463813 -26.653807  Open water - freshwater      7   \n",
       "4     137483175.0  30.463813 -26.653807  Open water - freshwater      9   \n",
       "...           ...        ...        ...                      ...    ...   \n",
       "2769  137482803.0  20.258942  -9.360062  Open water - freshwater      7   \n",
       "2770  137482803.0  20.258942  -9.360062  Open water - freshwater      8   \n",
       "2771  137482803.0  20.258942  -9.360062  Open water - freshwater      9   \n",
       "2772  137482803.0  20.258942  -9.360062  Open water - freshwater     12   \n",
       "2773  137482804.0  13.838962  -9.369115  Open water - freshwater      9   \n",
       "\n",
       "      ACTUAL  CLASS_WET  CLEAR_OBS PREDICTION                    geometry  \n",
       "0          1        1.0        2.0          1  POINT (30.46381 -26.65381)  \n",
       "1          1        1.0        1.0          1  POINT (30.46381 -26.65381)  \n",
       "2          1        1.0        3.0          1  POINT (30.46381 -26.65381)  \n",
       "3          1        1.0        1.0          1  POINT (30.46381 -26.65381)  \n",
       "4          1        1.0        1.0          1  POINT (30.46381 -26.65381)  \n",
       "...      ...        ...        ...        ...                         ...  \n",
       "2769       1        1.0        2.0          1   POINT (20.25894 -9.36006)  \n",
       "2770       1        1.0        2.0          1   POINT (20.25894 -9.36006)  \n",
       "2771       1        1.0        2.0          1   POINT (20.25894 -9.36006)  \n",
       "2772       1        1.0        2.0          1   POINT (20.25894 -9.36006)  \n",
       "2773       0        1.0        2.0          1   POINT (13.83896 -9.36912)  \n",
       "\n",
       "[2549 rows x 10 columns]"
      ]
     },
     "execution_count": 12,
     "metadata": {},
     "output_type": "execute_result"
    }
   ],
   "source": [
    "# the list of include points \n",
    "include_points "
   ]
  },
  {
   "cell_type": "code",
   "execution_count": 13,
   "metadata": {},
   "outputs": [],
   "source": [
    "# balanced_accuracy_score(include_points['ACTUAL'],include_points['CLASS_WET'])"
   ]
  },
  {
   "cell_type": "markdown",
   "metadata": {},
   "source": [
    "## Non-Equal Sampling of the Validation Dataset "
   ]
  },
  {
   "cell_type": "code",
   "execution_count": 14,
   "metadata": {},
   "outputs": [],
   "source": [
    "Water = include_points.loc[include_points['ACTUAL'] == 1.0]\n",
    "Water_RS = Water.sample(n=406)"
   ]
  },
  {
   "cell_type": "code",
   "execution_count": 15,
   "metadata": {},
   "outputs": [
    {
     "data": {
      "text/html": [
       "<div>\n",
       "<style scoped>\n",
       "    .dataframe tbody tr th:only-of-type {\n",
       "        vertical-align: middle;\n",
       "    }\n",
       "\n",
       "    .dataframe tbody tr th {\n",
       "        vertical-align: top;\n",
       "    }\n",
       "\n",
       "    .dataframe thead th {\n",
       "        text-align: right;\n",
       "    }\n",
       "</style>\n",
       "<table border=\"1\" class=\"dataframe\">\n",
       "  <thead>\n",
       "    <tr style=\"text-align: right;\">\n",
       "      <th></th>\n",
       "      <th>PLOT_ID</th>\n",
       "      <th>LON</th>\n",
       "      <th>LAT</th>\n",
       "      <th>CLASS</th>\n",
       "      <th>MONTH</th>\n",
       "      <th>ACTUAL</th>\n",
       "      <th>CLASS_WET</th>\n",
       "      <th>CLEAR_OBS</th>\n",
       "      <th>PREDICTION</th>\n",
       "      <th>geometry</th>\n",
       "    </tr>\n",
       "  </thead>\n",
       "  <tbody>\n",
       "    <tr>\n",
       "      <th>1890</th>\n",
       "      <td>137482988.0</td>\n",
       "      <td>29.104760</td>\n",
       "      <td>-26.565670</td>\n",
       "      <td>Open water - Constructed (e.g. aquaculture)</td>\n",
       "      <td>8</td>\n",
       "      <td>1</td>\n",
       "      <td>1.0</td>\n",
       "      <td>1.0</td>\n",
       "      <td>1</td>\n",
       "      <td>POINT (29.10476 -26.56567)</td>\n",
       "    </tr>\n",
       "    <tr>\n",
       "      <th>286</th>\n",
       "      <td>137483216.0</td>\n",
       "      <td>23.127537</td>\n",
       "      <td>-29.350488</td>\n",
       "      <td>Open water - freshwater</td>\n",
       "      <td>11</td>\n",
       "      <td>1</td>\n",
       "      <td>1.0</td>\n",
       "      <td>1.0</td>\n",
       "      <td>1</td>\n",
       "      <td>POINT (23.12754 -29.35049)</td>\n",
       "    </tr>\n",
       "    <tr>\n",
       "      <th>2183</th>\n",
       "      <td>137483478.0</td>\n",
       "      <td>5.573020</td>\n",
       "      <td>5.385802</td>\n",
       "      <td>Open water - freshwater</td>\n",
       "      <td>11</td>\n",
       "      <td>1</td>\n",
       "      <td>1.0</td>\n",
       "      <td>1.0</td>\n",
       "      <td>1</td>\n",
       "      <td>POINT (5.57302 5.38580)</td>\n",
       "    </tr>\n",
       "    <tr>\n",
       "      <th>1120</th>\n",
       "      <td>137482838.0</td>\n",
       "      <td>12.531834</td>\n",
       "      <td>-16.579781</td>\n",
       "      <td>Open water - freshwater</td>\n",
       "      <td>10</td>\n",
       "      <td>1</td>\n",
       "      <td>0.0</td>\n",
       "      <td>2.0</td>\n",
       "      <td>0</td>\n",
       "      <td>POINT (12.53183 -16.57978)</td>\n",
       "    </tr>\n",
       "    <tr>\n",
       "      <th>1034</th>\n",
       "      <td>137482813.0</td>\n",
       "      <td>25.710702</td>\n",
       "      <td>-10.682758</td>\n",
       "      <td>Open water - freshwater</td>\n",
       "      <td>7</td>\n",
       "      <td>1</td>\n",
       "      <td>1.0</td>\n",
       "      <td>2.0</td>\n",
       "      <td>1</td>\n",
       "      <td>POINT (25.71070 -10.68276)</td>\n",
       "    </tr>\n",
       "    <tr>\n",
       "      <th>...</th>\n",
       "      <td>...</td>\n",
       "      <td>...</td>\n",
       "      <td>...</td>\n",
       "      <td>...</td>\n",
       "      <td>...</td>\n",
       "      <td>...</td>\n",
       "      <td>...</td>\n",
       "      <td>...</td>\n",
       "      <td>...</td>\n",
       "      <td>...</td>\n",
       "    </tr>\n",
       "    <tr>\n",
       "      <th>2745</th>\n",
       "      <td>137482796.0</td>\n",
       "      <td>13.710861</td>\n",
       "      <td>-8.536884</td>\n",
       "      <td>Wetlands - marine (e.g. mangroves)</td>\n",
       "      <td>3</td>\n",
       "      <td>1</td>\n",
       "      <td>1.0</td>\n",
       "      <td>1.0</td>\n",
       "      <td>1</td>\n",
       "      <td>POINT (13.71086 -8.53688)</td>\n",
       "    </tr>\n",
       "    <tr>\n",
       "      <th>2713</th>\n",
       "      <td>137482788.0</td>\n",
       "      <td>27.411462</td>\n",
       "      <td>-6.916372</td>\n",
       "      <td>Open water - freshwater</td>\n",
       "      <td>3</td>\n",
       "      <td>1</td>\n",
       "      <td>1.0</td>\n",
       "      <td>1.0</td>\n",
       "      <td>1</td>\n",
       "      <td>POINT (27.41146 -6.91637)</td>\n",
       "    </tr>\n",
       "    <tr>\n",
       "      <th>1930</th>\n",
       "      <td>137483372.0</td>\n",
       "      <td>6.523207</td>\n",
       "      <td>8.384533</td>\n",
       "      <td>Open water - freshwater</td>\n",
       "      <td>1</td>\n",
       "      <td>1</td>\n",
       "      <td>1.0</td>\n",
       "      <td>1.0</td>\n",
       "      <td>1</td>\n",
       "      <td>POINT (6.52321 8.38453)</td>\n",
       "    </tr>\n",
       "    <tr>\n",
       "      <th>1289</th>\n",
       "      <td>137482872.0</td>\n",
       "      <td>33.363189</td>\n",
       "      <td>-15.932559</td>\n",
       "      <td>Open water - freshwater</td>\n",
       "      <td>11</td>\n",
       "      <td>1</td>\n",
       "      <td>1.0</td>\n",
       "      <td>1.0</td>\n",
       "      <td>1</td>\n",
       "      <td>POINT (33.36319 -15.93256)</td>\n",
       "    </tr>\n",
       "    <tr>\n",
       "      <th>2433</th>\n",
       "      <td>137482641.0</td>\n",
       "      <td>22.731107</td>\n",
       "      <td>4.563722</td>\n",
       "      <td>Open water - freshwater</td>\n",
       "      <td>1</td>\n",
       "      <td>1</td>\n",
       "      <td>1.0</td>\n",
       "      <td>1.0</td>\n",
       "      <td>1</td>\n",
       "      <td>POINT (22.73111 4.56372)</td>\n",
       "    </tr>\n",
       "  </tbody>\n",
       "</table>\n",
       "<p>406 rows × 10 columns</p>\n",
       "</div>"
      ],
      "text/plain": [
       "          PLOT_ID        LON        LAT  \\\n",
       "1890  137482988.0  29.104760 -26.565670   \n",
       "286   137483216.0  23.127537 -29.350488   \n",
       "2183  137483478.0   5.573020   5.385802   \n",
       "1120  137482838.0  12.531834 -16.579781   \n",
       "1034  137482813.0  25.710702 -10.682758   \n",
       "...           ...        ...        ...   \n",
       "2745  137482796.0  13.710861  -8.536884   \n",
       "2713  137482788.0  27.411462  -6.916372   \n",
       "1930  137483372.0   6.523207   8.384533   \n",
       "1289  137482872.0  33.363189 -15.932559   \n",
       "2433  137482641.0  22.731107   4.563722   \n",
       "\n",
       "                                            CLASS  MONTH  ACTUAL  CLASS_WET  \\\n",
       "1890  Open water - Constructed (e.g. aquaculture)      8       1        1.0   \n",
       "286                       Open water - freshwater     11       1        1.0   \n",
       "2183                      Open water - freshwater     11       1        1.0   \n",
       "1120                      Open water - freshwater     10       1        0.0   \n",
       "1034                      Open water - freshwater      7       1        1.0   \n",
       "...                                           ...    ...     ...        ...   \n",
       "2745           Wetlands - marine (e.g. mangroves)      3       1        1.0   \n",
       "2713                      Open water - freshwater      3       1        1.0   \n",
       "1930                      Open water - freshwater      1       1        1.0   \n",
       "1289                      Open water - freshwater     11       1        1.0   \n",
       "2433                      Open water - freshwater      1       1        1.0   \n",
       "\n",
       "      CLEAR_OBS PREDICTION                    geometry  \n",
       "1890        1.0          1  POINT (29.10476 -26.56567)  \n",
       "286         1.0          1  POINT (23.12754 -29.35049)  \n",
       "2183        1.0          1     POINT (5.57302 5.38580)  \n",
       "1120        2.0          0  POINT (12.53183 -16.57978)  \n",
       "1034        2.0          1  POINT (25.71070 -10.68276)  \n",
       "...         ...        ...                         ...  \n",
       "2745        1.0          1   POINT (13.71086 -8.53688)  \n",
       "2713        1.0          1   POINT (27.41146 -6.91637)  \n",
       "1930        1.0          1     POINT (6.52321 8.38453)  \n",
       "1289        1.0          1  POINT (33.36319 -15.93256)  \n",
       "2433        1.0          1    POINT (22.73111 4.56372)  \n",
       "\n",
       "[406 rows x 10 columns]"
      ]
     },
     "execution_count": 15,
     "metadata": {},
     "output_type": "execute_result"
    }
   ],
   "source": [
    "Water_RS"
   ]
  },
  {
   "cell_type": "code",
   "execution_count": 16,
   "metadata": {},
   "outputs": [],
   "source": [
    "NoWater = include_points.loc[include_points['ACTUAL'] == 0.0]"
   ]
  },
  {
   "cell_type": "code",
   "execution_count": 17,
   "metadata": {},
   "outputs": [
    {
     "data": {
      "text/html": [
       "<div>\n",
       "<style scoped>\n",
       "    .dataframe tbody tr th:only-of-type {\n",
       "        vertical-align: middle;\n",
       "    }\n",
       "\n",
       "    .dataframe tbody tr th {\n",
       "        vertical-align: top;\n",
       "    }\n",
       "\n",
       "    .dataframe thead th {\n",
       "        text-align: right;\n",
       "    }\n",
       "</style>\n",
       "<table border=\"1\" class=\"dataframe\">\n",
       "  <thead>\n",
       "    <tr style=\"text-align: right;\">\n",
       "      <th></th>\n",
       "      <th>PLOT_ID</th>\n",
       "      <th>LON</th>\n",
       "      <th>LAT</th>\n",
       "      <th>CLASS</th>\n",
       "      <th>MONTH</th>\n",
       "      <th>ACTUAL</th>\n",
       "      <th>CLASS_WET</th>\n",
       "      <th>CLEAR_OBS</th>\n",
       "      <th>PREDICTION</th>\n",
       "      <th>geometry</th>\n",
       "    </tr>\n",
       "  </thead>\n",
       "  <tbody>\n",
       "    <tr>\n",
       "      <th>50</th>\n",
       "      <td>137483183.0</td>\n",
       "      <td>16.506388</td>\n",
       "      <td>-27.107879</td>\n",
       "      <td>Barren (Bare soil / Rocky Land)</td>\n",
       "      <td>1</td>\n",
       "      <td>0</td>\n",
       "      <td>0.0</td>\n",
       "      <td>2.0</td>\n",
       "      <td>0</td>\n",
       "      <td>POINT (16.50639 -27.10788)</td>\n",
       "    </tr>\n",
       "    <tr>\n",
       "      <th>51</th>\n",
       "      <td>137483183.0</td>\n",
       "      <td>16.506388</td>\n",
       "      <td>-27.107879</td>\n",
       "      <td>Barren (Bare soil / Rocky Land)</td>\n",
       "      <td>2</td>\n",
       "      <td>0</td>\n",
       "      <td>0.0</td>\n",
       "      <td>2.0</td>\n",
       "      <td>0</td>\n",
       "      <td>POINT (16.50639 -27.10788)</td>\n",
       "    </tr>\n",
       "    <tr>\n",
       "      <th>52</th>\n",
       "      <td>137483183.0</td>\n",
       "      <td>16.506388</td>\n",
       "      <td>-27.107879</td>\n",
       "      <td>Barren (Bare soil / Rocky Land)</td>\n",
       "      <td>3</td>\n",
       "      <td>0</td>\n",
       "      <td>0.0</td>\n",
       "      <td>1.0</td>\n",
       "      <td>0</td>\n",
       "      <td>POINT (16.50639 -27.10788)</td>\n",
       "    </tr>\n",
       "    <tr>\n",
       "      <th>53</th>\n",
       "      <td>137483183.0</td>\n",
       "      <td>16.506388</td>\n",
       "      <td>-27.107879</td>\n",
       "      <td>Barren (Bare soil / Rocky Land)</td>\n",
       "      <td>4</td>\n",
       "      <td>0</td>\n",
       "      <td>0.0</td>\n",
       "      <td>1.0</td>\n",
       "      <td>0</td>\n",
       "      <td>POINT (16.50639 -27.10788)</td>\n",
       "    </tr>\n",
       "    <tr>\n",
       "      <th>54</th>\n",
       "      <td>137483183.0</td>\n",
       "      <td>16.506388</td>\n",
       "      <td>-27.107879</td>\n",
       "      <td>Barren (Bare soil / Rocky Land)</td>\n",
       "      <td>5</td>\n",
       "      <td>0</td>\n",
       "      <td>0.0</td>\n",
       "      <td>1.0</td>\n",
       "      <td>0</td>\n",
       "      <td>POINT (16.50639 -27.10788)</td>\n",
       "    </tr>\n",
       "    <tr>\n",
       "      <th>...</th>\n",
       "      <td>...</td>\n",
       "      <td>...</td>\n",
       "      <td>...</td>\n",
       "      <td>...</td>\n",
       "      <td>...</td>\n",
       "      <td>...</td>\n",
       "      <td>...</td>\n",
       "      <td>...</td>\n",
       "      <td>...</td>\n",
       "      <td>...</td>\n",
       "    </tr>\n",
       "    <tr>\n",
       "      <th>2761</th>\n",
       "      <td>137482800.0</td>\n",
       "      <td>13.848290</td>\n",
       "      <td>-8.953839</td>\n",
       "      <td>Open water - freshwater</td>\n",
       "      <td>4</td>\n",
       "      <td>0</td>\n",
       "      <td>0.0</td>\n",
       "      <td>1.0</td>\n",
       "      <td>0</td>\n",
       "      <td>POINT (13.84829 -8.95384)</td>\n",
       "    </tr>\n",
       "    <tr>\n",
       "      <th>2762</th>\n",
       "      <td>137482800.0</td>\n",
       "      <td>13.848290</td>\n",
       "      <td>-8.953839</td>\n",
       "      <td>Open water - freshwater</td>\n",
       "      <td>9</td>\n",
       "      <td>0</td>\n",
       "      <td>1.0</td>\n",
       "      <td>1.0</td>\n",
       "      <td>1</td>\n",
       "      <td>POINT (13.84829 -8.95384)</td>\n",
       "    </tr>\n",
       "    <tr>\n",
       "      <th>2765</th>\n",
       "      <td>137482802.0</td>\n",
       "      <td>13.607012</td>\n",
       "      <td>-9.155465</td>\n",
       "      <td>Open water - freshwater</td>\n",
       "      <td>4</td>\n",
       "      <td>0</td>\n",
       "      <td>1.0</td>\n",
       "      <td>1.0</td>\n",
       "      <td>1</td>\n",
       "      <td>POINT (13.60701 -9.15546)</td>\n",
       "    </tr>\n",
       "    <tr>\n",
       "      <th>2766</th>\n",
       "      <td>137482802.0</td>\n",
       "      <td>13.607012</td>\n",
       "      <td>-9.155465</td>\n",
       "      <td>Open water - freshwater</td>\n",
       "      <td>9</td>\n",
       "      <td>0</td>\n",
       "      <td>1.0</td>\n",
       "      <td>1.0</td>\n",
       "      <td>1</td>\n",
       "      <td>POINT (13.60701 -9.15546)</td>\n",
       "    </tr>\n",
       "    <tr>\n",
       "      <th>2773</th>\n",
       "      <td>137482804.0</td>\n",
       "      <td>13.838962</td>\n",
       "      <td>-9.369115</td>\n",
       "      <td>Open water - freshwater</td>\n",
       "      <td>9</td>\n",
       "      <td>0</td>\n",
       "      <td>1.0</td>\n",
       "      <td>2.0</td>\n",
       "      <td>1</td>\n",
       "      <td>POINT (13.83896 -9.36912)</td>\n",
       "    </tr>\n",
       "  </tbody>\n",
       "</table>\n",
       "<p>812 rows × 10 columns</p>\n",
       "</div>"
      ],
      "text/plain": [
       "          PLOT_ID        LON        LAT                            CLASS  \\\n",
       "50    137483183.0  16.506388 -27.107879  Barren (Bare soil / Rocky Land)   \n",
       "51    137483183.0  16.506388 -27.107879  Barren (Bare soil / Rocky Land)   \n",
       "52    137483183.0  16.506388 -27.107879  Barren (Bare soil / Rocky Land)   \n",
       "53    137483183.0  16.506388 -27.107879  Barren (Bare soil / Rocky Land)   \n",
       "54    137483183.0  16.506388 -27.107879  Barren (Bare soil / Rocky Land)   \n",
       "...           ...        ...        ...                              ...   \n",
       "2761  137482800.0  13.848290  -8.953839          Open water - freshwater   \n",
       "2762  137482800.0  13.848290  -8.953839          Open water - freshwater   \n",
       "2765  137482802.0  13.607012  -9.155465          Open water - freshwater   \n",
       "2766  137482802.0  13.607012  -9.155465          Open water - freshwater   \n",
       "2773  137482804.0  13.838962  -9.369115          Open water - freshwater   \n",
       "\n",
       "      MONTH  ACTUAL  CLASS_WET  CLEAR_OBS PREDICTION  \\\n",
       "50        1       0        0.0        2.0          0   \n",
       "51        2       0        0.0        2.0          0   \n",
       "52        3       0        0.0        1.0          0   \n",
       "53        4       0        0.0        1.0          0   \n",
       "54        5       0        0.0        1.0          0   \n",
       "...     ...     ...        ...        ...        ...   \n",
       "2761      4       0        0.0        1.0          0   \n",
       "2762      9       0        1.0        1.0          1   \n",
       "2765      4       0        1.0        1.0          1   \n",
       "2766      9       0        1.0        1.0          1   \n",
       "2773      9       0        1.0        2.0          1   \n",
       "\n",
       "                        geometry  \n",
       "50    POINT (16.50639 -27.10788)  \n",
       "51    POINT (16.50639 -27.10788)  \n",
       "52    POINT (16.50639 -27.10788)  \n",
       "53    POINT (16.50639 -27.10788)  \n",
       "54    POINT (16.50639 -27.10788)  \n",
       "...                          ...  \n",
       "2761   POINT (13.84829 -8.95384)  \n",
       "2762   POINT (13.84829 -8.95384)  \n",
       "2765   POINT (13.60701 -9.15546)  \n",
       "2766   POINT (13.60701 -9.15546)  \n",
       "2773   POINT (13.83896 -9.36912)  \n",
       "\n",
       "[812 rows x 10 columns]"
      ]
     },
     "execution_count": 17,
     "metadata": {},
     "output_type": "execute_result"
    }
   ],
   "source": [
    "NoWater"
   ]
  },
  {
   "cell_type": "code",
   "execution_count": 18,
   "metadata": {},
   "outputs": [],
   "source": [
    "NotEqualSample = pd.merge(NoWater, Water_RS, how='outer')"
   ]
  },
  {
   "cell_type": "code",
   "execution_count": 19,
   "metadata": {},
   "outputs": [
    {
     "data": {
      "text/plain": [
       "(1218, 10)"
      ]
     },
     "execution_count": 19,
     "metadata": {},
     "output_type": "execute_result"
    }
   ],
   "source": [
    "NotEqualSample.shape"
   ]
  },
  {
   "cell_type": "code",
   "execution_count": 20,
   "metadata": {},
   "outputs": [],
   "source": [
    "NotEqualSample.to_file(filename='../Supplementary_data/Validation/Refined/AFRIGIST/shapefile/AfriGIST_inland_5D_NotEqualSample.shp') "
   ]
  },
  {
   "cell_type": "code",
   "execution_count": 21,
   "metadata": {},
   "outputs": [],
   "source": [
    "NotEqualSample.to_file('../Supplementary_data/Validation/Refined/AFRIGIST/shapefile/AfriGIST_inland_5D_NotEqualSample.geojson',driver='GeoJSON') "
   ]
  },
  {
   "cell_type": "code",
   "execution_count": 22,
   "metadata": {},
   "outputs": [],
   "source": [
    "NotEqualSample.to_csv(('../Supplementary_data/Validation/Refined/AFRIGIST/AfriGIST_inland_5D_NotEqualSample.csv')) #this will be used for initial accuracy assessment"
   ]
  },
  {
   "cell_type": "code",
   "execution_count": 23,
   "metadata": {},
   "outputs": [],
   "source": [
    "FN = NotEqualSample[(NotEqualSample['ACTUAL']==1) & (NotEqualSample['PREDICTION']=='0')][['PLOT_ID','LAT','LON','CLASS','MONTH','ACTUAL','PREDICTION']]"
   ]
  },
  {
   "cell_type": "code",
   "execution_count": 24,
   "metadata": {},
   "outputs": [
    {
     "data": {
      "text/html": [
       "<div>\n",
       "<style scoped>\n",
       "    .dataframe tbody tr th:only-of-type {\n",
       "        vertical-align: middle;\n",
       "    }\n",
       "\n",
       "    .dataframe tbody tr th {\n",
       "        vertical-align: top;\n",
       "    }\n",
       "\n",
       "    .dataframe thead th {\n",
       "        text-align: right;\n",
       "    }\n",
       "</style>\n",
       "<table border=\"1\" class=\"dataframe\">\n",
       "  <thead>\n",
       "    <tr style=\"text-align: right;\">\n",
       "      <th></th>\n",
       "      <th>PLOT_ID</th>\n",
       "      <th>LAT</th>\n",
       "      <th>LON</th>\n",
       "      <th>CLASS</th>\n",
       "      <th>MONTH</th>\n",
       "      <th>ACTUAL</th>\n",
       "      <th>PREDICTION</th>\n",
       "    </tr>\n",
       "  </thead>\n",
       "  <tbody>\n",
       "    <tr>\n",
       "      <th>815</th>\n",
       "      <td>137482838.0</td>\n",
       "      <td>-16.579781</td>\n",
       "      <td>12.531834</td>\n",
       "      <td>Open water - freshwater</td>\n",
       "      <td>10</td>\n",
       "      <td>1</td>\n",
       "      <td>0</td>\n",
       "    </tr>\n",
       "    <tr>\n",
       "      <th>820</th>\n",
       "      <td>137483411.0</td>\n",
       "      <td>7.489628</td>\n",
       "      <td>-12.286203</td>\n",
       "      <td>Open water - freshwater</td>\n",
       "      <td>2</td>\n",
       "      <td>1</td>\n",
       "      <td>0</td>\n",
       "    </tr>\n",
       "    <tr>\n",
       "      <th>826</th>\n",
       "      <td>137482711.0</td>\n",
       "      <td>-0.717253</td>\n",
       "      <td>17.904929</td>\n",
       "      <td>Open water - freshwater</td>\n",
       "      <td>1</td>\n",
       "      <td>1</td>\n",
       "      <td>0</td>\n",
       "    </tr>\n",
       "    <tr>\n",
       "      <th>832</th>\n",
       "      <td>137482715.0</td>\n",
       "      <td>-0.945851</td>\n",
       "      <td>10.255862</td>\n",
       "      <td>Open water - freshwater</td>\n",
       "      <td>8</td>\n",
       "      <td>1</td>\n",
       "      <td>0</td>\n",
       "    </tr>\n",
       "    <tr>\n",
       "      <th>837</th>\n",
       "      <td>137483518.0</td>\n",
       "      <td>11.719300</td>\n",
       "      <td>15.065562</td>\n",
       "      <td>Open water - freshwater</td>\n",
       "      <td>3</td>\n",
       "      <td>1</td>\n",
       "      <td>0</td>\n",
       "    </tr>\n",
       "    <tr>\n",
       "      <th>...</th>\n",
       "      <td>...</td>\n",
       "      <td>...</td>\n",
       "      <td>...</td>\n",
       "      <td>...</td>\n",
       "      <td>...</td>\n",
       "      <td>...</td>\n",
       "      <td>...</td>\n",
       "    </tr>\n",
       "    <tr>\n",
       "      <th>1197</th>\n",
       "      <td>137482864.0</td>\n",
       "      <td>-15.093337</td>\n",
       "      <td>35.768194</td>\n",
       "      <td>Open water - freshwater</td>\n",
       "      <td>7</td>\n",
       "      <td>1</td>\n",
       "      <td>0</td>\n",
       "    </tr>\n",
       "    <tr>\n",
       "      <th>1198</th>\n",
       "      <td>137483180.0</td>\n",
       "      <td>-26.884695</td>\n",
       "      <td>17.979551</td>\n",
       "      <td>Open water - freshwater</td>\n",
       "      <td>5</td>\n",
       "      <td>1</td>\n",
       "      <td>0</td>\n",
       "    </tr>\n",
       "    <tr>\n",
       "      <th>1199</th>\n",
       "      <td>137482864.0</td>\n",
       "      <td>-15.093337</td>\n",
       "      <td>35.768194</td>\n",
       "      <td>Open water - freshwater</td>\n",
       "      <td>6</td>\n",
       "      <td>1</td>\n",
       "      <td>0</td>\n",
       "    </tr>\n",
       "    <tr>\n",
       "      <th>1202</th>\n",
       "      <td>137482927.0</td>\n",
       "      <td>-19.930872</td>\n",
       "      <td>16.469077</td>\n",
       "      <td>Open water - freshwater</td>\n",
       "      <td>8</td>\n",
       "      <td>1</td>\n",
       "      <td>0</td>\n",
       "    </tr>\n",
       "    <tr>\n",
       "      <th>1211</th>\n",
       "      <td>137482951.0</td>\n",
       "      <td>-22.945859</td>\n",
       "      <td>30.173720</td>\n",
       "      <td>Open water - freshwater</td>\n",
       "      <td>12</td>\n",
       "      <td>1</td>\n",
       "      <td>0</td>\n",
       "    </tr>\n",
       "  </tbody>\n",
       "</table>\n",
       "<p>103 rows × 7 columns</p>\n",
       "</div>"
      ],
      "text/plain": [
       "          PLOT_ID        LAT        LON                    CLASS  MONTH  \\\n",
       "815   137482838.0 -16.579781  12.531834  Open water - freshwater     10   \n",
       "820   137483411.0   7.489628 -12.286203  Open water - freshwater      2   \n",
       "826   137482711.0  -0.717253  17.904929  Open water - freshwater      1   \n",
       "832   137482715.0  -0.945851  10.255862  Open water - freshwater      8   \n",
       "837   137483518.0  11.719300  15.065562  Open water - freshwater      3   \n",
       "...           ...        ...        ...                      ...    ...   \n",
       "1197  137482864.0 -15.093337  35.768194  Open water - freshwater      7   \n",
       "1198  137483180.0 -26.884695  17.979551  Open water - freshwater      5   \n",
       "1199  137482864.0 -15.093337  35.768194  Open water - freshwater      6   \n",
       "1202  137482927.0 -19.930872  16.469077  Open water - freshwater      8   \n",
       "1211  137482951.0 -22.945859  30.173720  Open water - freshwater     12   \n",
       "\n",
       "      ACTUAL PREDICTION  \n",
       "815        1          0  \n",
       "820        1          0  \n",
       "826        1          0  \n",
       "832        1          0  \n",
       "837        1          0  \n",
       "...      ...        ...  \n",
       "1197       1          0  \n",
       "1198       1          0  \n",
       "1199       1          0  \n",
       "1202       1          0  \n",
       "1211       1          0  \n",
       "\n",
       "[103 rows x 7 columns]"
      ]
     },
     "execution_count": 24,
     "metadata": {},
     "output_type": "execute_result"
    }
   ],
   "source": [
    "FN"
   ]
  },
  {
   "cell_type": "code",
   "execution_count": 25,
   "metadata": {},
   "outputs": [],
   "source": [
    "FN.to_csv(('../Supplementary_data/Validation/Refined/AFRIGIST/FalseNegative_AfriGIST_PointAnalysis_5D_NotEqualSamples.csv'))"
   ]
  },
  {
   "cell_type": "code",
   "execution_count": 26,
   "metadata": {},
   "outputs": [
    {
     "data": {
      "text/html": [
       "<div>\n",
       "<style scoped>\n",
       "    .dataframe tbody tr th:only-of-type {\n",
       "        vertical-align: middle;\n",
       "    }\n",
       "\n",
       "    .dataframe tbody tr th {\n",
       "        vertical-align: top;\n",
       "    }\n",
       "\n",
       "    .dataframe thead th {\n",
       "        text-align: right;\n",
       "    }\n",
       "</style>\n",
       "<table border=\"1\" class=\"dataframe\">\n",
       "  <thead>\n",
       "    <tr style=\"text-align: right;\">\n",
       "      <th>PREDICTION</th>\n",
       "      <th>0</th>\n",
       "      <th>1</th>\n",
       "      <th>All</th>\n",
       "    </tr>\n",
       "    <tr>\n",
       "      <th>ACTUAL</th>\n",
       "      <th></th>\n",
       "      <th></th>\n",
       "      <th></th>\n",
       "    </tr>\n",
       "  </thead>\n",
       "  <tbody>\n",
       "    <tr>\n",
       "      <th>0</th>\n",
       "      <td>676</td>\n",
       "      <td>136</td>\n",
       "      <td>812</td>\n",
       "    </tr>\n",
       "    <tr>\n",
       "      <th>1</th>\n",
       "      <td>103</td>\n",
       "      <td>303</td>\n",
       "      <td>406</td>\n",
       "    </tr>\n",
       "    <tr>\n",
       "      <th>All</th>\n",
       "      <td>779</td>\n",
       "      <td>439</td>\n",
       "      <td>1218</td>\n",
       "    </tr>\n",
       "  </tbody>\n",
       "</table>\n",
       "</div>"
      ],
      "text/plain": [
       "PREDICTION    0    1   All\n",
       "ACTUAL                    \n",
       "0           676  136   812\n",
       "1           103  303   406\n",
       "All         779  439  1218"
      ]
     },
     "execution_count": 26,
     "metadata": {},
     "output_type": "execute_result"
    }
   ],
   "source": [
    "confusion_matrix = pd.crosstab(NotEqualSample['ACTUAL'],NotEqualSample['PREDICTION'],rownames=['ACTUAL'],colnames=['PREDICTION'],margins=True)\n",
    "confusion_matrix"
   ]
  },
  {
   "cell_type": "code",
   "execution_count": 27,
   "metadata": {},
   "outputs": [
    {
     "data": {
      "text/html": [
       "<div>\n",
       "<style scoped>\n",
       "    .dataframe tbody tr th:only-of-type {\n",
       "        vertical-align: middle;\n",
       "    }\n",
       "\n",
       "    .dataframe tbody tr th {\n",
       "        vertical-align: top;\n",
       "    }\n",
       "\n",
       "    .dataframe thead th {\n",
       "        text-align: right;\n",
       "    }\n",
       "</style>\n",
       "<table border=\"1\" class=\"dataframe\">\n",
       "  <thead>\n",
       "    <tr style=\"text-align: right;\">\n",
       "      <th>PREDICTION</th>\n",
       "      <th>0</th>\n",
       "      <th>1</th>\n",
       "      <th>All</th>\n",
       "      <th>User's</th>\n",
       "    </tr>\n",
       "    <tr>\n",
       "      <th>ACTUAL</th>\n",
       "      <th></th>\n",
       "      <th></th>\n",
       "      <th></th>\n",
       "      <th></th>\n",
       "    </tr>\n",
       "  </thead>\n",
       "  <tbody>\n",
       "    <tr>\n",
       "      <th>0</th>\n",
       "      <td>676</td>\n",
       "      <td>136</td>\n",
       "      <td>812</td>\n",
       "      <td>83.251232</td>\n",
       "    </tr>\n",
       "    <tr>\n",
       "      <th>1</th>\n",
       "      <td>103</td>\n",
       "      <td>303</td>\n",
       "      <td>406</td>\n",
       "      <td>74.630542</td>\n",
       "    </tr>\n",
       "    <tr>\n",
       "      <th>All</th>\n",
       "      <td>779</td>\n",
       "      <td>439</td>\n",
       "      <td>1218</td>\n",
       "      <td>NaN</td>\n",
       "    </tr>\n",
       "  </tbody>\n",
       "</table>\n",
       "</div>"
      ],
      "text/plain": [
       "PREDICTION    0    1   All     User's\n",
       "ACTUAL                               \n",
       "0           676  136   812  83.251232\n",
       "1           103  303   406  74.630542\n",
       "All         779  439  1218        NaN"
      ]
     },
     "execution_count": 27,
     "metadata": {},
     "output_type": "execute_result"
    }
   ],
   "source": [
    "confusion_matrix[\"User's\"] = [confusion_matrix.loc[0][0] / confusion_matrix.loc[0]['All'] * 100, confusion_matrix.loc[1][1] / confusion_matrix.loc[1]['All'] *100, np.nan]\n",
    "confusion_matrix"
   ]
  },
  {
   "cell_type": "code",
   "execution_count": 28,
   "metadata": {},
   "outputs": [
    {
     "data": {
      "text/html": [
       "<div>\n",
       "<style scoped>\n",
       "    .dataframe tbody tr th:only-of-type {\n",
       "        vertical-align: middle;\n",
       "    }\n",
       "\n",
       "    .dataframe tbody tr th {\n",
       "        vertical-align: top;\n",
       "    }\n",
       "\n",
       "    .dataframe thead th {\n",
       "        text-align: right;\n",
       "    }\n",
       "</style>\n",
       "<table border=\"1\" class=\"dataframe\">\n",
       "  <thead>\n",
       "    <tr style=\"text-align: right;\">\n",
       "      <th></th>\n",
       "      <th>0</th>\n",
       "      <th>1</th>\n",
       "      <th>All</th>\n",
       "      <th>User's</th>\n",
       "      <th>0</th>\n",
       "      <th>1</th>\n",
       "    </tr>\n",
       "    <tr>\n",
       "      <th>ACTUAL</th>\n",
       "      <th></th>\n",
       "      <th></th>\n",
       "      <th></th>\n",
       "      <th></th>\n",
       "      <th></th>\n",
       "      <th></th>\n",
       "    </tr>\n",
       "  </thead>\n",
       "  <tbody>\n",
       "    <tr>\n",
       "      <th>0</th>\n",
       "      <td>676.0</td>\n",
       "      <td>136.0</td>\n",
       "      <td>812.0</td>\n",
       "      <td>83.251232</td>\n",
       "      <td>NaN</td>\n",
       "      <td>NaN</td>\n",
       "    </tr>\n",
       "    <tr>\n",
       "      <th>1</th>\n",
       "      <td>103.0</td>\n",
       "      <td>303.0</td>\n",
       "      <td>406.0</td>\n",
       "      <td>74.630542</td>\n",
       "      <td>NaN</td>\n",
       "      <td>NaN</td>\n",
       "    </tr>\n",
       "    <tr>\n",
       "      <th>All</th>\n",
       "      <td>779.0</td>\n",
       "      <td>439.0</td>\n",
       "      <td>1218.0</td>\n",
       "      <td>NaN</td>\n",
       "      <td>NaN</td>\n",
       "      <td>NaN</td>\n",
       "    </tr>\n",
       "    <tr>\n",
       "      <th>Producer's</th>\n",
       "      <td>NaN</td>\n",
       "      <td>NaN</td>\n",
       "      <td>NaN</td>\n",
       "      <td>NaN</td>\n",
       "      <td>86.77792</td>\n",
       "      <td>69.020501</td>\n",
       "    </tr>\n",
       "  </tbody>\n",
       "</table>\n",
       "</div>"
      ],
      "text/plain": [
       "                0      1     All     User's         0          1\n",
       "ACTUAL                                                          \n",
       "0           676.0  136.0   812.0  83.251232       NaN        NaN\n",
       "1           103.0  303.0   406.0  74.630542       NaN        NaN\n",
       "All         779.0  439.0  1218.0        NaN       NaN        NaN\n",
       "Producer's    NaN    NaN     NaN        NaN  86.77792  69.020501"
      ]
     },
     "execution_count": 28,
     "metadata": {},
     "output_type": "execute_result"
    }
   ],
   "source": [
    "producers_accuracy = pd.Series([confusion_matrix['0'][0] / confusion_matrix['0']['All'] * 100,\n",
    "                                confusion_matrix['1'][1] / confusion_matrix['1']['All'] * 100]).rename(\"Producer's\")\n",
    "\n",
    "confusion_matrix = confusion_matrix.append(producers_accuracy)\n",
    "confusion_matrix"
   ]
  },
  {
   "cell_type": "code",
   "execution_count": 29,
   "metadata": {},
   "outputs": [
    {
     "data": {
      "text/html": [
       "<div>\n",
       "<style scoped>\n",
       "    .dataframe tbody tr th:only-of-type {\n",
       "        vertical-align: middle;\n",
       "    }\n",
       "\n",
       "    .dataframe tbody tr th {\n",
       "        vertical-align: top;\n",
       "    }\n",
       "\n",
       "    .dataframe thead th {\n",
       "        text-align: right;\n",
       "    }\n",
       "</style>\n",
       "<table border=\"1\" class=\"dataframe\">\n",
       "  <thead>\n",
       "    <tr style=\"text-align: right;\">\n",
       "      <th></th>\n",
       "      <th>0</th>\n",
       "      <th>1</th>\n",
       "      <th>All</th>\n",
       "      <th>User's</th>\n",
       "      <th>0</th>\n",
       "      <th>1</th>\n",
       "    </tr>\n",
       "    <tr>\n",
       "      <th>ACTUAL</th>\n",
       "      <th></th>\n",
       "      <th></th>\n",
       "      <th></th>\n",
       "      <th></th>\n",
       "      <th></th>\n",
       "      <th></th>\n",
       "    </tr>\n",
       "  </thead>\n",
       "  <tbody>\n",
       "    <tr>\n",
       "      <th>0</th>\n",
       "      <td>676.0</td>\n",
       "      <td>136.0</td>\n",
       "      <td>812.0</td>\n",
       "      <td>83.251232</td>\n",
       "      <td>NaN</td>\n",
       "      <td>NaN</td>\n",
       "    </tr>\n",
       "    <tr>\n",
       "      <th>1</th>\n",
       "      <td>103.0</td>\n",
       "      <td>303.0</td>\n",
       "      <td>406.0</td>\n",
       "      <td>74.630542</td>\n",
       "      <td>NaN</td>\n",
       "      <td>NaN</td>\n",
       "    </tr>\n",
       "    <tr>\n",
       "      <th>All</th>\n",
       "      <td>779.0</td>\n",
       "      <td>439.0</td>\n",
       "      <td>1218.0</td>\n",
       "      <td>NaN</td>\n",
       "      <td>NaN</td>\n",
       "      <td>NaN</td>\n",
       "    </tr>\n",
       "    <tr>\n",
       "      <th>Producer's</th>\n",
       "      <td>NaN</td>\n",
       "      <td>NaN</td>\n",
       "      <td>NaN</td>\n",
       "      <td>80.377668</td>\n",
       "      <td>86.77792</td>\n",
       "      <td>69.020501</td>\n",
       "    </tr>\n",
       "  </tbody>\n",
       "</table>\n",
       "</div>"
      ],
      "text/plain": [
       "                0      1     All     User's         0          1\n",
       "ACTUAL                                                          \n",
       "0           676.0  136.0   812.0  83.251232       NaN        NaN\n",
       "1           103.0  303.0   406.0  74.630542       NaN        NaN\n",
       "All         779.0  439.0  1218.0        NaN       NaN        NaN\n",
       "Producer's    NaN    NaN     NaN  80.377668  86.77792  69.020501"
      ]
     },
     "execution_count": 29,
     "metadata": {},
     "output_type": "execute_result"
    }
   ],
   "source": [
    "confusion_matrix.loc[\"Producer's\", \"User's\"] = (confusion_matrix['0'][0] + confusion_matrix['1'][1]) / confusion_matrix['All']['All'] * 100\n",
    "confusion_matrix"
   ]
  },
  {
   "cell_type": "code",
   "execution_count": 30,
   "metadata": {},
   "outputs": [],
   "source": [
    "NotEqualSample['PREDICTION'] = NotEqualSample['PREDICTION'] .astype(str).astype(int)"
   ]
  },
  {
   "cell_type": "code",
   "execution_count": 31,
   "metadata": {},
   "outputs": [],
   "source": [
    "fscore = pd.Series([(2*(confusion_matrix.loc[0][\"User's\"]*confusion_matrix.loc[\"Producer's\"][0]) / (confusion_matrix.loc[0][\"User's\"] + confusion_matrix.loc[\"Producer's\"][0])) / 100,\n",
    "                   f1_score(NotEqualSample['ACTUAL'],NotEqualSample['PREDICTION'])]).rename(\"F-score\")\n",
    "confusion_matrix = confusion_matrix.append(fscore)"
   ]
  },
  {
   "cell_type": "code",
   "execution_count": 32,
   "metadata": {},
   "outputs": [
    {
     "data": {
      "text/html": [
       "<div>\n",
       "<style scoped>\n",
       "    .dataframe tbody tr th:only-of-type {\n",
       "        vertical-align: middle;\n",
       "    }\n",
       "\n",
       "    .dataframe tbody tr th {\n",
       "        vertical-align: top;\n",
       "    }\n",
       "\n",
       "    .dataframe thead th {\n",
       "        text-align: right;\n",
       "    }\n",
       "</style>\n",
       "<table border=\"1\" class=\"dataframe\">\n",
       "  <thead>\n",
       "    <tr style=\"text-align: right;\">\n",
       "      <th></th>\n",
       "      <th>0</th>\n",
       "      <th>1</th>\n",
       "      <th>All</th>\n",
       "      <th>User's</th>\n",
       "      <th>0</th>\n",
       "      <th>1</th>\n",
       "    </tr>\n",
       "    <tr>\n",
       "      <th>ACTUAL</th>\n",
       "      <th></th>\n",
       "      <th></th>\n",
       "      <th></th>\n",
       "      <th></th>\n",
       "      <th></th>\n",
       "      <th></th>\n",
       "    </tr>\n",
       "  </thead>\n",
       "  <tbody>\n",
       "    <tr>\n",
       "      <th>0</th>\n",
       "      <td>676.0</td>\n",
       "      <td>136.0</td>\n",
       "      <td>812.0</td>\n",
       "      <td>83.251232</td>\n",
       "      <td>NaN</td>\n",
       "      <td>NaN</td>\n",
       "    </tr>\n",
       "    <tr>\n",
       "      <th>1</th>\n",
       "      <td>103.0</td>\n",
       "      <td>303.0</td>\n",
       "      <td>406.0</td>\n",
       "      <td>74.630542</td>\n",
       "      <td>NaN</td>\n",
       "      <td>NaN</td>\n",
       "    </tr>\n",
       "    <tr>\n",
       "      <th>All</th>\n",
       "      <td>779.0</td>\n",
       "      <td>439.0</td>\n",
       "      <td>1218.0</td>\n",
       "      <td>NaN</td>\n",
       "      <td>NaN</td>\n",
       "      <td>NaN</td>\n",
       "    </tr>\n",
       "    <tr>\n",
       "      <th>Producer's</th>\n",
       "      <td>NaN</td>\n",
       "      <td>NaN</td>\n",
       "      <td>NaN</td>\n",
       "      <td>80.377668</td>\n",
       "      <td>86.77792</td>\n",
       "      <td>69.020501</td>\n",
       "    </tr>\n",
       "    <tr>\n",
       "      <th>F-score</th>\n",
       "      <td>NaN</td>\n",
       "      <td>NaN</td>\n",
       "      <td>NaN</td>\n",
       "      <td>NaN</td>\n",
       "      <td>0.84978</td>\n",
       "      <td>0.717160</td>\n",
       "    </tr>\n",
       "  </tbody>\n",
       "</table>\n",
       "</div>"
      ],
      "text/plain": [
       "                0      1     All     User's         0          1\n",
       "ACTUAL                                                          \n",
       "0           676.0  136.0   812.0  83.251232       NaN        NaN\n",
       "1           103.0  303.0   406.0  74.630542       NaN        NaN\n",
       "All         779.0  439.0  1218.0        NaN       NaN        NaN\n",
       "Producer's    NaN    NaN     NaN  80.377668  86.77792  69.020501\n",
       "F-score       NaN    NaN     NaN        NaN   0.84978   0.717160"
      ]
     },
     "execution_count": 32,
     "metadata": {},
     "output_type": "execute_result"
    }
   ],
   "source": [
    "confusion_matrix"
   ]
  },
  {
   "cell_type": "code",
   "execution_count": 33,
   "metadata": {},
   "outputs": [
    {
     "data": {
      "image/png": "[encoded data removed]",
      "text/plain": [
       "<Figure size 432x288 with 2 Axes>"
      ]
     },
     "metadata": {
      "needs_background": "light"
     },
     "output_type": "display_data"
    }
   ],
   "source": [
    "confusion_matrix = pd.crosstab(NotEqualSample['ACTUAL'],NotEqualSample['PREDICTION'],rownames=['ACTUAL'],colnames=['PREDICTION'])\n",
    "ax = plt.subplot()\n",
    "sn.heatmap(confusion_matrix, annot = True) #true to annotate cells \n",
    "ax.set_xlabel('Predicted labels'); ax.set_ylabel('Actual labels');\n",
    "ax.set_title('Confusion Matrix')\n",
    "ax.xaxis.set_ticklabels(['nowater','water']); ax.yaxis.set_ticklabels(['nowater','water']);\n",
    "plt.show()"
   ]
  },
  {
   "cell_type": "code",
   "execution_count": 34,
   "metadata": {},
   "outputs": [
    {
     "data": {
      "image/png": "[encoded data removed]",
      "text/plain": [
       "<Figure size 432x288 with 2 Axes>"
      ]
     },
     "metadata": {
      "needs_background": "light"
     },
     "output_type": "display_data"
    }
   ],
   "source": [
    "confusion_matrix = pd.crosstab(NotEqualSample['ACTUAL'],NotEqualSample['PREDICTION'],rownames=['ACTUAL'],colnames=['PREDICTION'],normalize=True)\n",
    "ax = plt.subplot()\n",
    "sn.heatmap(confusion_matrix, annot = True) #true to annotate cells \n",
    "ax.set_xlabel('Predicted labels'); ax.set_ylabel('Actual labels');\n",
    "ax.set_title('Normalized Confusion Matrix')\n",
    "ax.xaxis.set_ticklabels(['nowater','water']); ax.yaxis.set_ticklabels(['nowater','water']);"
   ]
  },
  {
   "cell_type": "markdown",
   "metadata": {},
   "source": [
    "## Equal Sampling of the Validation Dataset "
   ]
  },
  {
   "cell_type": "code",
   "execution_count": 37,
   "metadata": {},
   "outputs": [],
   "source": [
    "NoWater = include_points.loc[include_points['ACTUAL'] == 0.0]"
   ]
  },
  {
   "cell_type": "code",
   "execution_count": 49,
   "metadata": {},
   "outputs": [],
   "source": [
    "# NoWater.shape"
   ]
  },
  {
   "cell_type": "code",
   "execution_count": 40,
   "metadata": {},
   "outputs": [],
   "source": [
    "Water = include_points.loc[include_points['ACTUAL'] == 1.0]"
   ]
  },
  {
   "cell_type": "code",
   "execution_count": 41,
   "metadata": {},
   "outputs": [],
   "source": [
    "Water_RS = Water.sample(n=812)"
   ]
  },
  {
   "cell_type": "code",
   "execution_count": 51,
   "metadata": {},
   "outputs": [],
   "source": [
    "# Water_RS.shape"
   ]
  },
  {
   "cell_type": "code",
   "execution_count": 53,
   "metadata": {},
   "outputs": [],
   "source": [
    "EqualSample = pd.merge(NoWater, Water_RS, how='outer')"
   ]
  },
  {
   "cell_type": "code",
   "execution_count": 50,
   "metadata": {},
   "outputs": [],
   "source": [
    "# EqualSample.shape"
   ]
  },
  {
   "cell_type": "code",
   "execution_count": 14,
   "metadata": {},
   "outputs": [],
   "source": [
    "EqualSample.to_file(filename='../Supplementary_data/Validation/Refined/AFRIGIST/shapefile/AfriGIST_inland_EqualSample.shp') "
   ]
  },
  {
   "cell_type": "code",
   "execution_count": 15,
   "metadata": {},
   "outputs": [],
   "source": [
    "EqualSample.to_file('../Supplementary_data/Validation/Refined/AFRIGIST/shapefile/AfriGIST_inland_EqualSample.geojson',driver='GeoJSON') "
   ]
  },
  {
   "cell_type": "code",
   "execution_count": 16,
   "metadata": {},
   "outputs": [],
   "source": [
    "EqualSample.to_csv(('../Supplementary_data/Validation/Refined/AFRIGIST/AfriGIST_inland_EqualSample.csv')) #this will be used for initial accuracy assessment "
   ]
  },
  {
   "cell_type": "markdown",
   "metadata": {},
   "source": [
    "### Calculate confusion matrix on inland points "
   ]
  },
  {
   "cell_type": "markdown",
   "metadata": {},
   "source": [
    "To do the accuracy assesssment of the validation in each AEZ , we need to obtain WOfS surface water observation data that corresponds with the labelled input data locations. "
   ]
  },
  {
   "cell_type": "code",
   "execution_count": 66,
   "metadata": {},
   "outputs": [
    {
     "data": {
      "text/html": [
       "<div>\n",
       "<style scoped>\n",
       "    .dataframe tbody tr th:only-of-type {\n",
       "        vertical-align: middle;\n",
       "    }\n",
       "\n",
       "    .dataframe tbody tr th {\n",
       "        vertical-align: top;\n",
       "    }\n",
       "\n",
       "    .dataframe thead th {\n",
       "        text-align: right;\n",
       "    }\n",
       "</style>\n",
       "<table border=\"1\" class=\"dataframe\">\n",
       "  <thead>\n",
       "    <tr style=\"text-align: right;\">\n",
       "      <th>PREDICTION</th>\n",
       "      <th>0</th>\n",
       "      <th>1</th>\n",
       "      <th>All</th>\n",
       "    </tr>\n",
       "    <tr>\n",
       "      <th>ACTUAL</th>\n",
       "      <th></th>\n",
       "      <th></th>\n",
       "      <th></th>\n",
       "    </tr>\n",
       "  </thead>\n",
       "  <tbody>\n",
       "    <tr>\n",
       "      <th>0</th>\n",
       "      <td>676</td>\n",
       "      <td>136</td>\n",
       "      <td>812</td>\n",
       "    </tr>\n",
       "    <tr>\n",
       "      <th>1</th>\n",
       "      <td>233</td>\n",
       "      <td>579</td>\n",
       "      <td>812</td>\n",
       "    </tr>\n",
       "    <tr>\n",
       "      <th>All</th>\n",
       "      <td>909</td>\n",
       "      <td>715</td>\n",
       "      <td>1624</td>\n",
       "    </tr>\n",
       "  </tbody>\n",
       "</table>\n",
       "</div>"
      ],
      "text/plain": [
       "PREDICTION    0    1   All\n",
       "ACTUAL                    \n",
       "0           676  136   812\n",
       "1           233  579   812\n",
       "All         909  715  1624"
      ]
     },
     "execution_count": 66,
     "metadata": {},
     "output_type": "execute_result"
    }
   ],
   "source": [
    "#RCMRD_inland\n",
    "confusion_matrix = pd.crosstab(EqualSample['ACTUAL'],EqualSample['PREDICTION'],rownames=['ACTUAL'],colnames=['PREDICTION'],margins=True)\n",
    "confusion_matrix"
   ]
  },
  {
   "cell_type": "markdown",
   "metadata": {},
   "source": [
    "### Calculating User's Accuracy "
   ]
  },
  {
   "cell_type": "markdown",
   "metadata": {},
   "source": [
    "The User's Accuracy is the accuracy from the point of view of a map user, not the map maker. the User's accuracy essentially tells use how often the class on the map will actually be present on the ground. This is referred to as reliability. The User's Accuracy is complement of the Commission Error, *User's Accuracy = 100%-Commission Error*. The User's Accuracy is calculating by taking the total number of correct classifications for a particular class and dividing it by the row total."
   ]
  },
  {
   "cell_type": "code",
   "execution_count": 67,
   "metadata": {},
   "outputs": [
    {
     "data": {
      "text/html": [
       "<div>\n",
       "<style scoped>\n",
       "    .dataframe tbody tr th:only-of-type {\n",
       "        vertical-align: middle;\n",
       "    }\n",
       "\n",
       "    .dataframe tbody tr th {\n",
       "        vertical-align: top;\n",
       "    }\n",
       "\n",
       "    .dataframe thead th {\n",
       "        text-align: right;\n",
       "    }\n",
       "</style>\n",
       "<table border=\"1\" class=\"dataframe\">\n",
       "  <thead>\n",
       "    <tr style=\"text-align: right;\">\n",
       "      <th>PREDICTION</th>\n",
       "      <th>0</th>\n",
       "      <th>1</th>\n",
       "      <th>All</th>\n",
       "      <th>User's</th>\n",
       "    </tr>\n",
       "    <tr>\n",
       "      <th>ACTUAL</th>\n",
       "      <th></th>\n",
       "      <th></th>\n",
       "      <th></th>\n",
       "      <th></th>\n",
       "    </tr>\n",
       "  </thead>\n",
       "  <tbody>\n",
       "    <tr>\n",
       "      <th>0</th>\n",
       "      <td>676</td>\n",
       "      <td>136</td>\n",
       "      <td>812</td>\n",
       "      <td>83.251232</td>\n",
       "    </tr>\n",
       "    <tr>\n",
       "      <th>1</th>\n",
       "      <td>233</td>\n",
       "      <td>579</td>\n",
       "      <td>812</td>\n",
       "      <td>71.305419</td>\n",
       "    </tr>\n",
       "    <tr>\n",
       "      <th>All</th>\n",
       "      <td>909</td>\n",
       "      <td>715</td>\n",
       "      <td>1624</td>\n",
       "      <td>NaN</td>\n",
       "    </tr>\n",
       "  </tbody>\n",
       "</table>\n",
       "</div>"
      ],
      "text/plain": [
       "PREDICTION    0    1   All     User's\n",
       "ACTUAL                               \n",
       "0           676  136   812  83.251232\n",
       "1           233  579   812  71.305419\n",
       "All         909  715  1624        NaN"
      ]
     },
     "execution_count": 67,
     "metadata": {},
     "output_type": "execute_result"
    }
   ],
   "source": [
    "confusion_matrix[\"User's\"] = [confusion_matrix.loc[0][0] / confusion_matrix.loc[0]['All'] * 100, confusion_matrix.loc[1][1] / confusion_matrix.loc[1]['All'] *100, np.nan]\n",
    "confusion_matrix"
   ]
  },
  {
   "cell_type": "markdown",
   "metadata": {},
   "source": [
    "The false positive ones are 452 points that need to be checked against WOfS "
   ]
  },
  {
   "cell_type": "markdown",
   "metadata": {},
   "source": [
    "### Calculating Producer's Accuracy "
   ]
  },
  {
   "cell_type": "markdown",
   "metadata": {},
   "source": [
    "Producer's Accuracy is the map accuracy from the point of view of the map maker (the producer). This is how often are real features on the ground correctly shown on the classified map or the probability that a certain land cover of an area on the ground is classified as such. Deviding the number of correctly classified pixels in each category (on the major diagonal) by the numbr of reference pixels \"known\" to be of that category (the column total)\n",
    "This value represents how well reference pixels of the ground cover type are classified. Producer's accuracy completes ommision error, *Producer's accuracy = 100% - Ommision error*"
   ]
  },
  {
   "cell_type": "code",
   "execution_count": 69,
   "metadata": {},
   "outputs": [
    {
     "data": {
      "text/html": [
       "<div>\n",
       "<style scoped>\n",
       "    .dataframe tbody tr th:only-of-type {\n",
       "        vertical-align: middle;\n",
       "    }\n",
       "\n",
       "    .dataframe tbody tr th {\n",
       "        vertical-align: top;\n",
       "    }\n",
       "\n",
       "    .dataframe thead th {\n",
       "        text-align: right;\n",
       "    }\n",
       "</style>\n",
       "<table border=\"1\" class=\"dataframe\">\n",
       "  <thead>\n",
       "    <tr style=\"text-align: right;\">\n",
       "      <th>PREDICTION</th>\n",
       "      <th>0</th>\n",
       "      <th>1</th>\n",
       "      <th>All</th>\n",
       "      <th>User's</th>\n",
       "    </tr>\n",
       "    <tr>\n",
       "      <th>ACTUAL</th>\n",
       "      <th></th>\n",
       "      <th></th>\n",
       "      <th></th>\n",
       "      <th></th>\n",
       "    </tr>\n",
       "  </thead>\n",
       "  <tbody>\n",
       "    <tr>\n",
       "      <th>0</th>\n",
       "      <td>676.000000</td>\n",
       "      <td>136.000000</td>\n",
       "      <td>812.0</td>\n",
       "      <td>83.251232</td>\n",
       "    </tr>\n",
       "    <tr>\n",
       "      <th>1</th>\n",
       "      <td>233.000000</td>\n",
       "      <td>579.000000</td>\n",
       "      <td>812.0</td>\n",
       "      <td>71.305419</td>\n",
       "    </tr>\n",
       "    <tr>\n",
       "      <th>All</th>\n",
       "      <td>909.000000</td>\n",
       "      <td>715.000000</td>\n",
       "      <td>1624.0</td>\n",
       "      <td>NaN</td>\n",
       "    </tr>\n",
       "    <tr>\n",
       "      <th>Producer's</th>\n",
       "      <td>74.367437</td>\n",
       "      <td>80.979021</td>\n",
       "      <td>NaN</td>\n",
       "      <td>NaN</td>\n",
       "    </tr>\n",
       "  </tbody>\n",
       "</table>\n",
       "</div>"
      ],
      "text/plain": [
       "PREDICTION           0           1     All     User's\n",
       "ACTUAL                                               \n",
       "0           676.000000  136.000000   812.0  83.251232\n",
       "1           233.000000  579.000000   812.0  71.305419\n",
       "All         909.000000  715.000000  1624.0        NaN\n",
       "Producer's   74.367437   80.979021     NaN        NaN"
      ]
     },
     "execution_count": 69,
     "metadata": {},
     "output_type": "execute_result"
    }
   ],
   "source": [
    "producers_accuracy = pd.Series([confusion_matrix[0][0] / confusion_matrix[0]['All'] * 100,\n",
    "                                confusion_matrix[1][1] / confusion_matrix[1]['All'] * 100]).rename(\"Producer's\")\n",
    "\n",
    "confusion_matrix = confusion_matrix.append(producers_accuracy)\n",
    "confusion_matrix "
   ]
  },
  {
   "cell_type": "code",
   "execution_count": 71,
   "metadata": {},
   "outputs": [
    {
     "data": {
      "text/html": [
       "<div>\n",
       "<style scoped>\n",
       "    .dataframe tbody tr th:only-of-type {\n",
       "        vertical-align: middle;\n",
       "    }\n",
       "\n",
       "    .dataframe tbody tr th {\n",
       "        vertical-align: top;\n",
       "    }\n",
       "\n",
       "    .dataframe thead th {\n",
       "        text-align: right;\n",
       "    }\n",
       "</style>\n",
       "<table border=\"1\" class=\"dataframe\">\n",
       "  <thead>\n",
       "    <tr style=\"text-align: right;\">\n",
       "      <th>PREDICTION</th>\n",
       "      <th>0</th>\n",
       "      <th>1</th>\n",
       "      <th>All</th>\n",
       "      <th>User's</th>\n",
       "    </tr>\n",
       "    <tr>\n",
       "      <th>ACTUAL</th>\n",
       "      <th></th>\n",
       "      <th></th>\n",
       "      <th></th>\n",
       "      <th></th>\n",
       "    </tr>\n",
       "  </thead>\n",
       "  <tbody>\n",
       "    <tr>\n",
       "      <th>0</th>\n",
       "      <td>676.000000</td>\n",
       "      <td>136.000000</td>\n",
       "      <td>812.0</td>\n",
       "      <td>83.251232</td>\n",
       "    </tr>\n",
       "    <tr>\n",
       "      <th>1</th>\n",
       "      <td>233.000000</td>\n",
       "      <td>579.000000</td>\n",
       "      <td>812.0</td>\n",
       "      <td>71.305419</td>\n",
       "    </tr>\n",
       "    <tr>\n",
       "      <th>All</th>\n",
       "      <td>909.000000</td>\n",
       "      <td>715.000000</td>\n",
       "      <td>1624.0</td>\n",
       "      <td>NaN</td>\n",
       "    </tr>\n",
       "    <tr>\n",
       "      <th>Producer's</th>\n",
       "      <td>74.367437</td>\n",
       "      <td>80.979021</td>\n",
       "      <td>NaN</td>\n",
       "      <td>77.278325</td>\n",
       "    </tr>\n",
       "  </tbody>\n",
       "</table>\n",
       "</div>"
      ],
      "text/plain": [
       "PREDICTION           0           1     All     User's\n",
       "ACTUAL                                               \n",
       "0           676.000000  136.000000   812.0  83.251232\n",
       "1           233.000000  579.000000   812.0  71.305419\n",
       "All         909.000000  715.000000  1624.0        NaN\n",
       "Producer's   74.367437   80.979021     NaN  77.278325"
      ]
     },
     "execution_count": 71,
     "metadata": {},
     "output_type": "execute_result"
    }
   ],
   "source": [
    "confusion_matrix.loc[\"Producer's\", \"User's\"] = (confusion_matrix[0][0] + confusion_matrix[1][1]) / confusion_matrix['All']['All'] * 100\n",
    "confusion_matrix"
   ]
  },
  {
   "cell_type": "code",
   "execution_count": 72,
   "metadata": {},
   "outputs": [],
   "source": [
    "EqualSample['PREDICTION'] = EqualSample['PREDICTION'] .astype(str).astype(int)"
   ]
  },
  {
   "cell_type": "code",
   "execution_count": 73,
   "metadata": {},
   "outputs": [],
   "source": [
    "fscore = pd.Series([(2*(confusion_matrix.loc[0][\"User's\"]*confusion_matrix.loc[\"Producer's\"][0]) / (confusion_matrix.loc[0][\"User's\"] + confusion_matrix.loc[\"Producer's\"][0])) / 100,\n",
    "                   f1_score(EqualSample['ACTUAL'],EqualSample['PREDICTION'])]).rename(\"F-score\")\n",
    "confusion_matrix = confusion_matrix.append(fscore)"
   ]
  },
  {
   "cell_type": "code",
   "execution_count": 74,
   "metadata": {},
   "outputs": [
    {
     "data": {
      "text/html": [
       "<div>\n",
       "<style scoped>\n",
       "    .dataframe tbody tr th:only-of-type {\n",
       "        vertical-align: middle;\n",
       "    }\n",
       "\n",
       "    .dataframe tbody tr th {\n",
       "        vertical-align: top;\n",
       "    }\n",
       "\n",
       "    .dataframe thead th {\n",
       "        text-align: right;\n",
       "    }\n",
       "</style>\n",
       "<table border=\"1\" class=\"dataframe\">\n",
       "  <thead>\n",
       "    <tr style=\"text-align: right;\">\n",
       "      <th>PREDICTION</th>\n",
       "      <th>0</th>\n",
       "      <th>1</th>\n",
       "      <th>All</th>\n",
       "      <th>User's</th>\n",
       "    </tr>\n",
       "    <tr>\n",
       "      <th>ACTUAL</th>\n",
       "      <th></th>\n",
       "      <th></th>\n",
       "      <th></th>\n",
       "      <th></th>\n",
       "    </tr>\n",
       "  </thead>\n",
       "  <tbody>\n",
       "    <tr>\n",
       "      <th>0</th>\n",
       "      <td>676.000000</td>\n",
       "      <td>136.000000</td>\n",
       "      <td>812.0</td>\n",
       "      <td>83.251232</td>\n",
       "    </tr>\n",
       "    <tr>\n",
       "      <th>1</th>\n",
       "      <td>233.000000</td>\n",
       "      <td>579.000000</td>\n",
       "      <td>812.0</td>\n",
       "      <td>71.305419</td>\n",
       "    </tr>\n",
       "    <tr>\n",
       "      <th>All</th>\n",
       "      <td>909.000000</td>\n",
       "      <td>715.000000</td>\n",
       "      <td>1624.0</td>\n",
       "      <td>NaN</td>\n",
       "    </tr>\n",
       "    <tr>\n",
       "      <th>Producer's</th>\n",
       "      <td>74.367437</td>\n",
       "      <td>80.979021</td>\n",
       "      <td>NaN</td>\n",
       "      <td>77.278325</td>\n",
       "    </tr>\n",
       "    <tr>\n",
       "      <th>F-score</th>\n",
       "      <td>0.785590</td>\n",
       "      <td>0.758350</td>\n",
       "      <td>NaN</td>\n",
       "      <td>NaN</td>\n",
       "    </tr>\n",
       "  </tbody>\n",
       "</table>\n",
       "</div>"
      ],
      "text/plain": [
       "PREDICTION           0           1     All     User's\n",
       "ACTUAL                                               \n",
       "0           676.000000  136.000000   812.0  83.251232\n",
       "1           233.000000  579.000000   812.0  71.305419\n",
       "All         909.000000  715.000000  1624.0        NaN\n",
       "Producer's   74.367437   80.979021     NaN  77.278325\n",
       "F-score       0.785590    0.758350     NaN        NaN"
      ]
     },
     "execution_count": 74,
     "metadata": {},
     "output_type": "execute_result"
    }
   ],
   "source": [
    "confusion_matrix"
   ]
  },
  {
   "cell_type": "code",
   "execution_count": 75,
   "metadata": {},
   "outputs": [
    {
     "data": {
      "image/png": "[encoded data removed]",
      "text/plain": [
       "<Figure size 432x288 with 2 Axes>"
      ]
     },
     "metadata": {
      "needs_background": "light"
     },
     "output_type": "display_data"
    }
   ],
   "source": [
    "confusion_matrix = pd.crosstab(EqualSample['ACTUAL'],EqualSample['PREDICTION'],rownames=['ACTUAL'],colnames=['PREDICTION'])\n",
    "ax = plt.subplot()\n",
    "sn.heatmap(confusion_matrix, annot = True) #true to annotate cells \n",
    "ax.set_xlabel('Predicted labels'); ax.set_ylabel('Actual labels');\n",
    "ax.set_title('Confusion Matrix')\n",
    "ax.xaxis.set_ticklabels(['nowater','water']); ax.yaxis.set_ticklabels(['nowater','water']);\n",
    "plt.show()"
   ]
  },
  {
   "cell_type": "code",
   "execution_count": 76,
   "metadata": {},
   "outputs": [
    {
     "data": {
      "image/png": "[encoded data removed]",
      "text/plain": [
       "<Figure size 432x288 with 2 Axes>"
      ]
     },
     "metadata": {
      "needs_background": "light"
     },
     "output_type": "display_data"
    }
   ],
   "source": [
    "confusion_matrix = pd.crosstab(EqualSample['ACTUAL'],EqualSample['PREDICTION'],rownames=['ACTUAL'],colnames=['PREDICTION'],normalize=True)\n",
    "ax = plt.subplot()\n",
    "sn.heatmap(confusion_matrix, annot = True) #true to annotate cells \n",
    "ax.set_xlabel('Predicted labels'); ax.set_ylabel('Actual labels');\n",
    "ax.set_title('Normalized Confusion Matrix')\n",
    "ax.xaxis.set_ticklabels(['nowater','water']); ax.yaxis.set_ticklabels(['nowater','water']);"
   ]
  },
  {
   "cell_type": "code",
   "execution_count": 2,
   "metadata": {},
   "outputs": [
    {
     "name": "stdout",
     "output_type": "stream",
     "text": [
      "1.8.2.dev7+gdcab0e02\n"
     ]
    }
   ],
   "source": [
    "print(datacube.__version__)"
   ]
  },
  {
   "cell_type": "markdown",
   "metadata": {},
   "source": [
    "***\n",
    "\n",
    "## Additional information\n",
    "\n",
    "**License:** The code in this notebook is licensed under the [Apache License, Version 2.0](https://www.apache.org/licenses/LICENSE-2.0). \n",
    "Digital Earth Africa data is licensed under the [Creative Commons by Attribution 4.0](https://creativecommons.org/licenses/by/4.0/) license.\n",
    "\n",
    "**Contact:** If you need assistance, please post a question on the [Open Data Cube Slack channel](http://slack.opendatacube.org/) or on the [GIS Stack Exchange](https://gis.stackexchange.com/questions/ask?tags=open-data-cube) using the `open-data-cube` tag (you can view previously asked questions [here](https://gis.stackexchange.com/questions/tagged/open-data-cube)).\n",
    "If you would like to report an issue with this notebook, you can file one on [Github](https://github.com/digitalearthafrica/deafrica-sandbox-notebooks).\n",
    "\n",
    "**Last modified:** January 2020\n",
    "\n",
    "**Compatible datacube version:** "
   ]
  },
  {
   "cell_type": "markdown",
   "metadata": {},
   "source": [
    "## Tags\n",
    "Browse all available tags on the DE Africa User Guide's [Tags Index](https://) (placeholder as this does not exist yet)"
   ]
  },
  {
   "cell_type": "raw",
   "metadata": {
    "raw_mimetype": "text/restructuredtext"
   },
   "source": [
    "**Tags**:  :index:`WOfS`, :index:`fractional cover`, :index:`deafrica_plotting`, :index:`deafrica_datahandling`, :index:`display_map`, :index:`wofs_fuser`, :index:`WOFL`, :index:`masking`"
   ]
  }
 ],
 "metadata": {
  "kernelspec": {
   "display_name": "Python 3",
   "language": "python",
   "name": "python3"
  },
  "language_info": {
   "codemirror_mode": {
    "name": "ipython",
    "version": 3
   },
   "file_extension": ".py",
   "mimetype": "text/x-python",
   "name": "python",
   "nbconvert_exporter": "python",
   "pygments_lexer": "ipython3",
   "version": "3.6.9"
  },
  "widgets": {
   "application/vnd.jupyter.widget-state+json": {
    "state": {
     "9e3fa49adf8c4170abfcd954c2ec045a": {
      "model_module": "jupyter-leaflet",
      "model_module_version": "^0.11.1",
      "model_name": "LeafletZoomControlModel",
      "state": {
       "_model_module_version": "^0.11.1",
       "_view_count": null,
       "_view_module_version": "^0.11.1",
       "options": [
        "position",
        "zoom_in_text",
        "zoom_in_title",
        "zoom_out_text",
        "zoom_out_title"
       ]
      }
     },
     "dc642f11c1fb492ca419b0ed6fc4f8c3": {
      "model_module": "jupyter-leaflet",
      "model_module_version": "^0.11.1",
      "model_name": "LeafletAttributionControlModel",
      "state": {
       "_model_module_version": "^0.11.1",
       "_view_count": null,
       "_view_module_version": "^0.11.1",
       "options": [
        "position",
        "prefix"
       ],
       "position": "bottomright",
       "prefix": "Leaflet"
      }
     }
    },
    "version_major": 2,
    "version_minor": 0
   }
  }
 },
 "nbformat": 4,
 "nbformat_minor": 4
}
