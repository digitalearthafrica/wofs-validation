{
 "cells": [
  {
   "cell_type": "markdown",
   "id": "5b13a065-3a30-4464-b50b-578d1ec07dc8",
   "metadata": {},
   "source": [
    "# Plotting WOfS data across Africa with country-boundary shapefile"
   ]
  },
  {
   "cell_type": "markdown",
   "id": "51b9675e-74ad-48b8-a82e-62de407edbd5",
   "metadata": {},
   "source": [
    "This plot compares surface water detected by Water Observations from Space between two chosen years. \n",
    "\n",
    "**Caveats**\n",
    "\n",
    "* This uses the WOfS annual summaries, it does not specify differences caused by longer-term trend conditions (such as drought), which should be investigated at a regional scale\n",
    "* In this notebook, the default resolution is 1km, which makes for easier data processing and computation (no. of pixels equivalent to square kilometre area). This resolution and the resampling technique can be changed or specified in the `dc.load` statement. The default resampling, which is used here, is `nearest`."
   ]
  },
  {
   "cell_type": "markdown",
   "id": "2d914be4-6903-47d8-8b63-295a385cf495",
   "metadata": {},
   "source": [
    "## Load packages, connect to datacube"
   ]
  },
  {
   "cell_type": "code",
   "execution_count": 1,
   "id": "259e0f89-f2b1-457e-95af-ceb6297eac8c",
   "metadata": {},
   "outputs": [],
   "source": [
    "%matplotlib inline\n",
    "\n",
    "import datacube\n",
    "import matplotlib.pyplot as plt\n",
    "import geopandas as gpd\n",
    "from datacube.utils import geometry\n",
    "import pandas as pd\n",
    "import matplotlib as mpl\n",
    "\n",
    "from deafrica_tools.datahandling import load_ard\n",
    "from deafrica_tools.bandindices import calculate_indices\n",
    "from deafrica_tools.plotting import rgb, map_shapefile\n",
    "from deafrica_tools.spatial import xr_rasterize\n",
    "from deafrica_tools.classification import HiddenPrints\n",
    "\n",
    "dc = datacube.Datacube(app=\"WOfS-figure\")\n",
    "\n",
    "import warnings\n",
    "warnings.filterwarnings(\"ignore\", message=\"Iteration over multi-part geometries is deprecated and will be removed in \")"
   ]
  },
  {
   "cell_type": "markdown",
   "id": "ad1c77d7-902a-44e4-b6ed-dfbd754091d2",
   "metadata": {},
   "source": [
    "## 1 - Processing WOfS per country\n",
    "The final step of this section outputs a new shapefile specific to the data parameters and time periods identified. Once you have generated the shapefile, you can run **2 - Plot WOfS with country boundaries** without repeating this section."
   ]
  },
  {
   "cell_type": "markdown",
   "id": "05a9828b-1cd8-43ef-aae7-46ca4082e6e3",
   "metadata": {},
   "source": [
    "Country boundary shapefile sourced from [openAFRICA](https://open.africa/dataset/africa-shapefiles), with the file last updated on April 21, 2020."
   ]
  },
  {
   "cell_type": "markdown",
   "id": "5fa8a2c4-a539-4ade-aca5-19e538edd198",
   "metadata": {},
   "source": [
    "### Load shapefile"
   ]
  },
  {
   "cell_type": "code",
   "execution_count": 2,
   "id": "1c47a71b-fcaa-4e7e-abcf-45cd52332e9e",
   "metadata": {},
   "outputs": [],
   "source": [
    "vector_file = \"african_countries.shp\"\n",
    "gdf = gpd.read_file(vector_file)"
   ]
  },
  {
   "cell_type": "code",
   "execution_count": 3,
   "id": "d3aae3df-b2b5-4667-98ed-dc3c7a92fea3",
   "metadata": {},
   "outputs": [
    {
     "data": {
      "text/html": [
       "<div>\n",
       "<style scoped>\n",
       "    .dataframe tbody tr th:only-of-type {\n",
       "        vertical-align: middle;\n",
       "    }\n",
       "\n",
       "    .dataframe tbody tr th {\n",
       "        vertical-align: top;\n",
       "    }\n",
       "\n",
       "    .dataframe thead th {\n",
       "        text-align: right;\n",
       "    }\n",
       "</style>\n",
       "<table border=\"1\" class=\"dataframe\">\n",
       "  <thead>\n",
       "    <tr style=\"text-align: right;\">\n",
       "      <th></th>\n",
       "      <th>name</th>\n",
       "      <th>geometry</th>\n",
       "    </tr>\n",
       "  </thead>\n",
       "  <tbody>\n",
       "    <tr>\n",
       "      <th>0</th>\n",
       "      <td>Sudan</td>\n",
       "      <td>MULTIPOLYGON (((38.58148 18.02542, 38.58203 18...</td>\n",
       "    </tr>\n",
       "    <tr>\n",
       "      <th>1</th>\n",
       "      <td>Angola</td>\n",
       "      <td>MULTIPOLYGON (((11.79481 -16.81925, 11.79375 -...</td>\n",
       "    </tr>\n",
       "    <tr>\n",
       "      <th>2</th>\n",
       "      <td>Benin</td>\n",
       "      <td>MULTIPOLYGON (((1.86343 6.28872, 1.86292 6.288...</td>\n",
       "    </tr>\n",
       "    <tr>\n",
       "      <th>3</th>\n",
       "      <td>Botswana</td>\n",
       "      <td>POLYGON ((25.17447 -17.77881, 25.18476 -17.783...</td>\n",
       "    </tr>\n",
       "    <tr>\n",
       "      <th>4</th>\n",
       "      <td>Burkina Faso</td>\n",
       "      <td>POLYGON ((-0.45567 15.08082, -0.45411 15.07937...</td>\n",
       "    </tr>\n",
       "  </tbody>\n",
       "</table>\n",
       "</div>"
      ],
      "text/plain": [
       "           name                                           geometry\n",
       "0         Sudan  MULTIPOLYGON (((38.58148 18.02542, 38.58203 18...\n",
       "1        Angola  MULTIPOLYGON (((11.79481 -16.81925, 11.79375 -...\n",
       "2         Benin  MULTIPOLYGON (((1.86343 6.28872, 1.86292 6.288...\n",
       "3      Botswana  POLYGON ((25.17447 -17.77881, 25.18476 -17.783...\n",
       "4  Burkina Faso  POLYGON ((-0.45567 15.08082, -0.45411 15.07937..."
      ]
     },
     "execution_count": 3,
     "metadata": {},
     "output_type": "execute_result"
    }
   ],
   "source": [
    "gdf.head()"
   ]
  },
  {
   "cell_type": "code",
   "execution_count": 4,
   "id": "8eafcc3e-01b2-4b0d-8d37-789be38369bb",
   "metadata": {},
   "outputs": [
    {
     "data": {
      "text/plain": [
       "<AxesSubplot:>"
      ]
     },
     "execution_count": 4,
     "metadata": {},
     "output_type": "execute_result"
    },
    {
     "data": {
      "image/png": "[encoded data removed]",
      "text/plain": [
       "<Figure size 432x288 with 1 Axes>"
      ]
     },
     "metadata": {
      "needs_background": "light"
     },
     "output_type": "display_data"
    }
   ],
   "source": [
    "gdf.plot(column='name')"
   ]
  },
  {
   "cell_type": "markdown",
   "id": "643d77ca-6c7e-4647-b455-bd4f5278280f",
   "metadata": {},
   "source": [
    "### Analysis parameters"
   ]
  },
  {
   "cell_type": "markdown",
   "id": "068820b4-6f72-4cfc-877e-a415ca68fd2f",
   "metadata": {},
   "source": [
    "In the validation process, water present for more than 60% of the time was considered ephemeral or permanent."
   ]
  },
  {
   "cell_type": "code",
   "execution_count": 5,
   "id": "6a17829d-6bb4-452b-98b1-a0de061224aa",
   "metadata": {},
   "outputs": [],
   "source": [
    "# Set the two years you want to compare\n",
    "past_year = '2014'\n",
    "current_year = '2020'\n",
    "\n",
    "# Set the threshold of water we want to consider water\n",
    "threshold = 0.6"
   ]
  },
  {
   "cell_type": "code",
   "execution_count": 6,
   "id": "3e91f97a-00ab-420c-a9fe-e0ff6bf86d44",
   "metadata": {},
   "outputs": [],
   "source": [
    "attribute_col = 'name'\n",
    "\n",
    "products = ['wofs_ls_summary_annual']\n",
    "measurements = ['frequency']\n",
    "resolution = (-1000, 1000) \n",
    "output_crs = 'EPSG:6933'"
   ]
  },
  {
   "cell_type": "code",
   "execution_count": 7,
   "id": "4f0c938f-2b5a-46b4-a11b-1f8cc0c6ff5e",
   "metadata": {},
   "outputs": [],
   "source": [
    "query = {'measurements': measurements,\n",
    "         'resolution': resolution,\n",
    "         'output_crs': output_crs,\n",
    "         }"
   ]
  },
  {
   "cell_type": "markdown",
   "id": "af8aeb7c-8232-4823-bf11-2dd4609deadc",
   "metadata": {},
   "source": [
    "### Define function to calculate surface water per polygon\n",
    "`gdf.iloc[0:5].iterrows():` can be used to test a smaller number of polygons first.\n",
    "\n",
    "Arguments:\n",
    "* `gdf` the geodataframe of the country boundary shapefile\n",
    "* `year` the designated year to investigate\n",
    "* `threshold` what frequency (0-1) is considered \"water\"\n",
    "\n",
    "*If you want to threshold water between two points, you will have to modify the function*"
   ]
  },
  {
   "cell_type": "code",
   "execution_count": 8,
   "id": "7e60edce-f761-4b60-baa5-82a77597a6a5",
   "metadata": {},
   "outputs": [],
   "source": [
    "def water_pixels_per_polygon(gdf, year, threshold):\n",
    "    num_pixels = {}\n",
    "    \n",
    "    # A progress indicator\n",
    "    i = 0\n",
    "\n",
    "    # Loop through polygons in geodataframe and extract satellite data\n",
    "    for index, row in gdf.iterrows():\n",
    "\n",
    "        print(\" Feature {:02}/{:02}\\r\".format(i + 1, len(gdf)),\n",
    "                      end='')\n",
    "\n",
    "        # Get the geometry\n",
    "        geom = geometry.Geometry(row.geometry.__geo_interface__,\n",
    "                                 geometry.CRS(f'EPSG:{gdf.crs.to_epsg()}'))\n",
    "\n",
    "        # Update dc query with geometry      \n",
    "        query.update({'geopolygon': geom}) \n",
    "\n",
    "        # Load landsat (hide print statements)\n",
    "        with HiddenPrints():\n",
    "            ds = dc.load(product=products, \n",
    "                         time= year,\n",
    "                         group_by='solar_day',\n",
    "                         **query)\n",
    "\n",
    "        # Generate a polygon mask to keep only data within the polygon\n",
    "        with HiddenPrints():\n",
    "            mask = xr_rasterize(gdf.iloc[[index]], ds)\n",
    "\n",
    "        # Mask dataset to set pixels outside the polygon to `NaN`\n",
    "        ds = ds.where(mask)\n",
    "\n",
    "        # Threshold WOfS frequency and append results to dictionary\n",
    "        num_pixels.update({str(row[attribute_col]) : int(ds.frequency.where(ds.frequency > threshold, drop=True).count().values)})\n",
    "\n",
    "        # Update counter\n",
    "        i += 1\n",
    "        \n",
    "    return num_pixels"
   ]
  },
  {
   "cell_type": "markdown",
   "id": "d2c7eb66-0aac-4178-b288-44e9259052c6",
   "metadata": {},
   "source": [
    "We run this function twice; once each for each of the years to be compared. This process can take a while and is sped up with a higher-core instance."
   ]
  },
  {
   "cell_type": "code",
   "execution_count": 9,
   "id": "d7c6271b-0124-4449-8cf1-715f6fbeddf9",
   "metadata": {},
   "outputs": [
    {
     "name": "stdout",
     "output_type": "stream",
     "text": [
      " Feature 55/55\r"
     ]
    }
   ],
   "source": [
    "num_pixels_current = water_pixels_per_polygon(gdf, current_year, threshold)"
   ]
  },
  {
   "cell_type": "code",
   "execution_count": 10,
   "id": "d38e47f8-0db7-4f00-b3d0-dd688271f45f",
   "metadata": {},
   "outputs": [
    {
     "data": {
      "text/plain": [
       "{'Sudan': 2804,\n",
       " 'Angola': 741,\n",
       " 'Benin': 132,\n",
       " 'Botswana': 96,\n",
       " 'Burkina Faso': 501,\n",
       " 'Cameroon': 1545,\n",
       " 'Cape Verde': 99,\n",
       " 'Central African Republic': 131,\n",
       " 'Chad': 1715,\n",
       " 'Comoros': 1,\n",
       " 'Republic of the Congo': 815,\n",
       " \"Cote d'Ivoire\": 1559,\n",
       " 'Democratic Republic of the Congo': 29902,\n",
       " 'Djibouti': 119,\n",
       " 'South Sudan': 386,\n",
       " 'Equatorial Guinea': 67,\n",
       " 'Eritrea': 354,\n",
       " 'Ethiopia': 7222,\n",
       " 'Gabon': 1055,\n",
       " 'Gambia': 651,\n",
       " 'Ghana': 6436,\n",
       " 'Guinea-Bissau': 149,\n",
       " 'Guinea': 118,\n",
       " 'Kenya': 11643,\n",
       " 'Lesotho': 0,\n",
       " 'Liberia': 198,\n",
       " 'Madagascar': 1349,\n",
       " 'Malawi': 23253,\n",
       " 'Mali': 1060,\n",
       " 'Mauritania': 303,\n",
       " 'Mauritius': 6,\n",
       " 'Mozambique': 10256,\n",
       " 'Namibia': 175,\n",
       " 'Niger': 343,\n",
       " 'Nigeria': 3960,\n",
       " 'Senegal': 1216,\n",
       " 'Seychelles': 39,\n",
       " 'Sierra Leone': 159,\n",
       " 'Somalia': 405,\n",
       " 'South Africa': 1751,\n",
       " 'Burundi': 1874,\n",
       " 'Eswatini': 19,\n",
       " 'Togo': 114,\n",
       " 'Uganda': 35262,\n",
       " 'Tanzania': 60052,\n",
       " 'Zambia': 11370,\n",
       " 'Zimbabwe': 2639,\n",
       " 'Algeria': 270,\n",
       " 'Libya': 344,\n",
       " 'Morocco': 271,\n",
       " 'Rwanda': 1211,\n",
       " 'Sao Tome and Principe': 3,\n",
       " 'Tunisia': 456,\n",
       " 'Western Sahara': 97,\n",
       " 'Egypt': 6936}"
      ]
     },
     "execution_count": 10,
     "metadata": {},
     "output_type": "execute_result"
    }
   ],
   "source": [
    "num_pixels_current"
   ]
  },
  {
   "cell_type": "code",
   "execution_count": 11,
   "id": "83c7a72e-7b11-4ecd-ae1c-b0b2894720ff",
   "metadata": {},
   "outputs": [
    {
     "name": "stdout",
     "output_type": "stream",
     "text": [
      " Feature 55/55\r"
     ]
    }
   ],
   "source": [
    "num_pixels_past = water_pixels_per_polygon(gdf, past_year, threshold)"
   ]
  },
  {
   "cell_type": "markdown",
   "id": "4d9c0681-a9c5-4304-ab03-7df6c53acdb3",
   "metadata": {},
   "source": [
    "### Append the new data and export dataframe"
   ]
  },
  {
   "cell_type": "code",
   "execution_count": 12,
   "id": "0b0b4f12-be89-4043-891c-fbebab903764",
   "metadata": {},
   "outputs": [],
   "source": [
    "pdpixel_past = pd.Series(num_pixels_past)\n",
    "pdpixel_current = pd.Series(num_pixels_current)\n",
    "\n",
    "# Calculate the difference between the current and past years\n",
    "pdpixel_diff = pdpixel_current - pdpixel_past"
   ]
  },
  {
   "cell_type": "code",
   "execution_count": 13,
   "id": "98b4039c-eac4-4a98-a020-e148bbff1cf7",
   "metadata": {},
   "outputs": [],
   "source": [
    "# Add to the geodataframe\n",
    "gdf = gdf.assign(px_past=pdpixel_past.values)\n",
    "gdf = gdf.assign(px_current=pdpixel_current.values)\n",
    "gdf = gdf.assign(px_diff=pdpixel_diff.values)"
   ]
  },
  {
   "cell_type": "code",
   "execution_count": 15,
   "id": "08137df6-c2eb-46ff-a950-b409947eecbb",
   "metadata": {},
   "outputs": [],
   "source": [
    "# Calculate percentage change (pc_change)\n",
    "pc_change = (gdf.px_diff/gdf.px_past*100).fillna(0)\n",
    "\n",
    "# Add to the geodataframe\n",
    "gdf = gdf.assign(pc_change=pc_change.values)"
   ]
  },
  {
   "cell_type": "markdown",
   "id": "a3ad8e52-9880-444f-9e53-546d2cc5fa27",
   "metadata": {},
   "source": [
    "### Export new shapefile with % change data"
   ]
  },
  {
   "cell_type": "code",
   "execution_count": 16,
   "id": "a3d61c08-64e2-46a4-a1af-358b906422e3",
   "metadata": {},
   "outputs": [],
   "source": [
    "gdf.to_file(\"wofs_pc_change_\"+past_year+\"_\"+current_year+\".shp\")"
   ]
  },
  {
   "cell_type": "markdown",
   "id": "8bf0246c-eb87-4af2-b310-fd660e55ea09",
   "metadata": {},
   "source": [
    "## 2 - Plot WOfS with country boundaries"
   ]
  },
  {
   "cell_type": "markdown",
   "id": "9b9d87c8-c027-4409-b771-ab9d5fdd00b2",
   "metadata": {},
   "source": [
    "If you have successfully exported the previous shapefile but started a new instance, there is no need to re-process the data. It can be read in from the shapefile by uncommenting and running the code below. Be sure the vector file path is to the correct shapefile title."
   ]
  },
  {
   "cell_type": "code",
   "execution_count": 17,
   "id": "193b99f4-bcfc-4b25-9b7a-8abd9322c312",
   "metadata": {},
   "outputs": [],
   "source": [
    "# vector_file = \"wofs_pc_change_2014_2020.shp\"\n",
    "# gdf = gpd.read_file(vector_file)"
   ]
  },
  {
   "cell_type": "code",
   "execution_count": 18,
   "id": "99b8073f-b179-4101-b10b-8b10bc87d447",
   "metadata": {},
   "outputs": [
    {
     "data": {
      "text/html": [
       "<div>\n",
       "<style scoped>\n",
       "    .dataframe tbody tr th:only-of-type {\n",
       "        vertical-align: middle;\n",
       "    }\n",
       "\n",
       "    .dataframe tbody tr th {\n",
       "        vertical-align: top;\n",
       "    }\n",
       "\n",
       "    .dataframe thead th {\n",
       "        text-align: right;\n",
       "    }\n",
       "</style>\n",
       "<table border=\"1\" class=\"dataframe\">\n",
       "  <thead>\n",
       "    <tr style=\"text-align: right;\">\n",
       "      <th></th>\n",
       "      <th>name</th>\n",
       "      <th>geometry</th>\n",
       "      <th>px_past</th>\n",
       "      <th>px_current</th>\n",
       "      <th>px_diff</th>\n",
       "      <th>pc_change</th>\n",
       "    </tr>\n",
       "  </thead>\n",
       "  <tbody>\n",
       "    <tr>\n",
       "      <th>0</th>\n",
       "      <td>Sudan</td>\n",
       "      <td>MULTIPOLYGON (((38.58148 18.02542, 38.58203 18...</td>\n",
       "      <td>2509</td>\n",
       "      <td>2804</td>\n",
       "      <td>295</td>\n",
       "      <td>11.757672</td>\n",
       "    </tr>\n",
       "    <tr>\n",
       "      <th>1</th>\n",
       "      <td>Angola</td>\n",
       "      <td>MULTIPOLYGON (((11.79481 -16.81925, 11.79375 -...</td>\n",
       "      <td>496</td>\n",
       "      <td>741</td>\n",
       "      <td>245</td>\n",
       "      <td>49.395161</td>\n",
       "    </tr>\n",
       "    <tr>\n",
       "      <th>2</th>\n",
       "      <td>Benin</td>\n",
       "      <td>MULTIPOLYGON (((1.86343 6.28872, 1.86292 6.288...</td>\n",
       "      <td>115</td>\n",
       "      <td>132</td>\n",
       "      <td>17</td>\n",
       "      <td>14.782609</td>\n",
       "    </tr>\n",
       "    <tr>\n",
       "      <th>3</th>\n",
       "      <td>Botswana</td>\n",
       "      <td>POLYGON ((25.17447 -17.77881, 25.18476 -17.783...</td>\n",
       "      <td>1188</td>\n",
       "      <td>96</td>\n",
       "      <td>-1092</td>\n",
       "      <td>-91.919192</td>\n",
       "    </tr>\n",
       "    <tr>\n",
       "      <th>4</th>\n",
       "      <td>Burkina Faso</td>\n",
       "      <td>POLYGON ((-0.45567 15.08082, -0.45411 15.07937...</td>\n",
       "      <td>320</td>\n",
       "      <td>501</td>\n",
       "      <td>181</td>\n",
       "      <td>56.562500</td>\n",
       "    </tr>\n",
       "  </tbody>\n",
       "</table>\n",
       "</div>"
      ],
      "text/plain": [
       "           name                                           geometry  px_past  \\\n",
       "0         Sudan  MULTIPOLYGON (((38.58148 18.02542, 38.58203 18...     2509   \n",
       "1        Angola  MULTIPOLYGON (((11.79481 -16.81925, 11.79375 -...      496   \n",
       "2         Benin  MULTIPOLYGON (((1.86343 6.28872, 1.86292 6.288...      115   \n",
       "3      Botswana  POLYGON ((25.17447 -17.77881, 25.18476 -17.783...     1188   \n",
       "4  Burkina Faso  POLYGON ((-0.45567 15.08082, -0.45411 15.07937...      320   \n",
       "\n",
       "   px_current  px_diff  pc_change  \n",
       "0        2804      295  11.757672  \n",
       "1         741      245  49.395161  \n",
       "2         132       17  14.782609  \n",
       "3          96    -1092 -91.919192  \n",
       "4         501      181  56.562500  "
      ]
     },
     "execution_count": 18,
     "metadata": {},
     "output_type": "execute_result"
    }
   ],
   "source": [
    "gdf.head()"
   ]
  },
  {
   "cell_type": "markdown",
   "id": "7cc9ec19-5ba1-4835-b3ea-5049585bda5c",
   "metadata": {},
   "source": [
    "### Customise the plot"
   ]
  },
  {
   "cell_type": "code",
   "execution_count": 19,
   "id": "11950f98-b986-4b38-bbce-7fa59d7ecdc9",
   "metadata": {},
   "outputs": [
    {
     "data": {
      "image/png": "[encoded data removed]",
      "text/plain": [
       "<Figure size 720x720 with 2 Axes>"
      ]
     },
     "metadata": {
      "needs_background": "light"
     },
     "output_type": "display_data"
    }
   ],
   "source": [
    "# Define plot and colourbar axes\n",
    "fig, ax = plt.subplots(1,1, figsize=(10,10))\n",
    "fig.subplots_adjust(bottom=0.2)\n",
    "cax = fig.add_axes([0.16, 0.15, 0.70, 0.03])\n",
    "\n",
    "# Define colour map\n",
    "cmap = mpl.cm.RdYlBu\n",
    "bounds = list(range(-100, 101, 10))\n",
    "norm = mpl.colors.BoundaryNorm(bounds, cmap.N)#, extend='both')\n",
    "cbar = mpl.colorbar.ColorbarBase(cax, cmap=cmap,\n",
    "                                norm=norm,\n",
    "                                orientation='horizontal')\n",
    "\n",
    "# Define colourbar labelling\n",
    "cbar.set_ticks(list(range(-100, 101, 25)))\n",
    "cbar.set_ticklabels(list('{:2}%'.format(i) for i in (list(range(-100, 101, 25)))))\n",
    "# cbar.set_label(\"% change\", fontsize='14')\n",
    "\n",
    "# Turn off lon-lat ticks and labels\n",
    "ax.set_yticklabels([])\n",
    "ax.set_xticklabels([])\n",
    "ax.set_xticks([])\n",
    "ax.set_yticks([])\n",
    "\n",
    "# Remove frame\n",
    "ax.spines['top'].set_visible(False)\n",
    "ax.spines['right'].set_visible(False)\n",
    "ax.spines['bottom'].set_visible(False)\n",
    "ax.spines['left'].set_visible(False)\n",
    "\n",
    "# plot 'pc_change' and 'geometry' boundary lines\n",
    "gdf.plot('pc_change', ax=ax, cmap=cmap, vmin=-100, vmax=100, norm=norm)\n",
    "gdf.geometry.plot(ax=ax, linewidth=0.8, edgecolor='black', facecolor=\"none\")\n",
    "\n",
    "# Additional text boxes\n",
    "ax.text(-25, -52, s=\"More water in 2014\", color='black', fontsize='14')\n",
    "ax.text(37, -52, s=\"More water in 2020\", color='black', fontsize='14')\n",
    "\n",
    "# Plot title\n",
    "ax.set_title(\"Percentage increase/decrease in water area\\n2014 vs 2020\", fontsize='18')\n",
    "\n",
    "# Export figure\n",
    "fig.savefig('wofs_pc_change_2014_vs_2020.png', bbox_inches='tight', dpi=200, facecolor=\"white\")"
   ]
  },
  {
   "cell_type": "markdown",
   "id": "aede638d-af1c-4b81-8545-4bdae30daa68",
   "metadata": {},
   "source": [
    "---\n",
    "\n",
    "## Additional information\n",
    "\n",
    "**License:** The code in this notebook is licensed under the [Apache License, Version 2.0](https://www.apache.org/licenses/LICENSE-2.0). \n",
    "Digital Earth Africa data is licensed under the [Creative Commons by Attribution 4.0](https://creativecommons.org/licenses/by/4.0/) license.\n",
    "\n",
    "**Contact:** If you need assistance, please post a question on the [Open Data Cube Slack channel](http://slack.opendatacube.org/) or on the [GIS Stack Exchange](https://gis.stackexchange.com/questions/ask?tags=open-data-cube) using the `open-data-cube` tag (you can view previously asked questions [here](https://gis.stackexchange.com/questions/tagged/open-data-cube)).\n",
    "\n",
    "**Compatible datacube version:**"
   ]
  },
  {
   "cell_type": "code",
   "execution_count": 20,
   "id": "b5027a63-d3c5-44ab-ab51-4592699ca706",
   "metadata": {},
   "outputs": [
    {
     "name": "stdout",
     "output_type": "stream",
     "text": [
      "1.8.6\n"
     ]
    }
   ],
   "source": [
    "print(datacube.__version__)"
   ]
  },
  {
   "cell_type": "markdown",
   "id": "f7b54bd4-2456-4091-a2e1-36146b72a844",
   "metadata": {},
   "source": [
    "**Last Tested:**"
   ]
  },
  {
   "cell_type": "code",
   "execution_count": 21,
   "id": "d79114c9-b6c2-40c0-baf0-e861447d7ae1",
   "metadata": {
    "tags": []
   },
   "outputs": [
    {
     "data": {
      "text/plain": [
       "'2022-01-07'"
      ]
     },
     "execution_count": 21,
     "metadata": {},
     "output_type": "execute_result"
    }
   ],
   "source": [
    "from datetime import datetime\n",
    "datetime.today().strftime('%Y-%m-%d')"
   ]
  }
 ],
 "metadata": {
  "kernelspec": {
   "display_name": "Python 3 (ipykernel)",
   "language": "python",
   "name": "python3"
  },
  "language_info": {
   "codemirror_mode": {
    "name": "ipython",
    "version": 3
   },
   "file_extension": ".py",
   "mimetype": "text/x-python",
   "name": "python",
   "nbconvert_exporter": "python",
   "pygments_lexer": "ipython3",
   "version": "3.8.10"
  }
 },
 "nbformat": 4,
 "nbformat_minor": 5
}
