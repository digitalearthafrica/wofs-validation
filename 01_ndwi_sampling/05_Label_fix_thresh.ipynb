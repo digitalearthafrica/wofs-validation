{
 "cells": [
  {
   "cell_type": "markdown",
   "metadata": {},
   "source": [
    "# Classify NDWI image using defined thresholds"
   ]
  },
  {
   "cell_type": "markdown",
   "metadata": {},
   "source": [
    "## Load packages"
   ]
  },
  {
   "cell_type": "code",
   "execution_count": 1,
   "metadata": {},
   "outputs": [],
   "source": [
    "import os\n",
    "import xarray as xr\n",
    "import numpy as np\n",
    "import pandas as pd\n",
    "import geopandas as gpd\n",
    "\n",
    "import sys\n",
    "sys.path.append('../Scripts')\n",
    "from deafrica_spatialtools import xr_rasterize"
   ]
  },
  {
   "cell_type": "code",
   "execution_count": 2,
   "metadata": {},
   "outputs": [],
   "source": [
    "# define area name\n",
    "\n",
    "area_name = 'Sahel'\n",
    "if not os.path.exists(area_name): os.mkdir(area_name)"
   ]
  },
  {
   "cell_type": "markdown",
   "metadata": {},
   "source": [
    "## Convert to one mosaic (only do it once)"
   ]
  },
  {
   "cell_type": "code",
   "execution_count": 3,
   "metadata": {},
   "outputs": [],
   "source": [
    "# make tif\n",
    "\n",
    "if not os.path.exists(f\"NDWI_composite/{area_name.lower()}_NDWI_mosaic.vrt\"):\n",
    "    os.chdir('NDWI_composite')\n",
    "    os.system(f\"gdalbuildvrt {area_name.lower()}_NDWI_mosaic.vrt {area_name.lower()}_NDWI_tile*.tif\")\n",
    "    #os.system(\"gdal_translate \"\\\n",
    "    #   \"-co BIGTIFF=YES \"\\\n",
    "    #   \"-co COMPRESS=DEFLATE \"\\\n",
    "    #   \"-co ZLEVEL=9 \"\\\n",
    "    #   \"-co PREDICTOR=1 \"\\\n",
    "    #   \"-co TILED=YES \"\\\n",
    "    #   \"-co BLOCKXSIZE=1024 \"\\\n",
    "    #   \"-co BLOCKYSIZE=1024 \"\\\n",
    "    #   +f\"{area_name.lower()}_NDWI_mosaic.vrt \"+ f\"{area_name.lower()}_NDWI_mosaic.tif\")\n",
    "    os.chdir('../')"
   ]
  },
  {
   "cell_type": "markdown",
   "metadata": {},
   "source": [
    "## Load NDWI mosaic"
   ]
  },
  {
   "cell_type": "code",
   "execution_count": 5,
   "metadata": {},
   "outputs": [],
   "source": [
    "ds = xr.open_rasterio(f\"NDWI_composite/{area_name.lower()}_NDWI_mosaic.vrt\").squeeze()"
   ]
  },
  {
   "cell_type": "code",
   "execution_count": 7,
   "metadata": {},
   "outputs": [],
   "source": [
    "dataset = ds.to_dataset(name='ndwi')"
   ]
  },
  {
   "cell_type": "markdown",
   "metadata": {},
   "source": [
    "## Classify into bins of different water detection frequencies"
   ]
  },
  {
   "cell_type": "code",
   "execution_count": 11,
   "metadata": {},
   "outputs": [],
   "source": [
    "# fix thresholds\n",
    "thresh = [-0.07, -0.05, -0.03, 0.03]\n",
    "\n",
    "n_class = len(thresh)+1\n",
    "frac_sample = [0.1, 0.1, 0.2, 0.3, 0.3]"
   ]
  },
  {
   "cell_type": "code",
   "execution_count": 11,
   "metadata": {},
   "outputs": [
    {
     "name": "stderr",
     "output_type": "stream",
     "text": [
      "/env/lib/python3.6/site-packages/ipykernel_launcher.py:6: RuntimeWarning: invalid value encountered in less\n",
      "  \n",
      "/env/lib/python3.6/site-packages/ipykernel_launcher.py:8: RuntimeWarning: invalid value encountered in greater_equal\n",
      "  \n",
      "/env/lib/python3.6/site-packages/ipykernel_launcher.py:8: RuntimeWarning: invalid value encountered in less\n",
      "  \n",
      "/env/lib/python3.6/site-packages/ipykernel_launcher.py:10: RuntimeWarning: invalid value encountered in greater_equal\n",
      "  # Remove the CWD from sys.path while we load stuff.\n"
     ]
    }
   ],
   "source": [
    "label = np.zeros_like(dataset.ndwi.values, dtype=np.uint8)\n",
    "\n",
    "label +=(dataset.ndwi.values<thresh[0]).astype(np.uint8)*1\n",
    "for i in range(2, n_class):\n",
    "    label += ((dataset.ndwi.values>=thresh[i-2]) & (dataset.ndwi.values<thresh[i-1])).astype(np.uint8)*i\n",
    "\n",
    "label += (dataset.ndwi.values>=thresh[-1]).astype(np.uint8)*n_class\n",
    "\n",
    "dataset['label'] = ('y','x'), label\n",
    "\n",
    "# ndwi=0 is not valid\n",
    "dataset['label'] = dataset.label.where(dataset.ndwi!=0, 0)\n",
    "\n",
    "dataset['label'].attrs = dataset.ndwi.attrs"
   ]
  },
  {
   "cell_type": "code",
   "execution_count": null,
   "metadata": {},
   "outputs": [],
   "source": [
    "# free up memory\n",
    "del ds"
   ]
  },
  {
   "cell_type": "markdown",
   "metadata": {},
   "source": [
    "## Clip to AEZ (excluding large_water_bodies)"
   ]
  },
  {
   "cell_type": "code",
   "execution_count": null,
   "metadata": {},
   "outputs": [],
   "source": [
    "#load shapefile\n",
    "#gdf = gpd.read_file(f'../../shapes/simplified_AEZs/{area_name}.shp')\n",
    "gdf = gpd.read_file(f'../../shapes/AEZs_ExcludeLargeWB/AEZs_ExcludeLargeWB_update_{area_name}.shp')\n",
    "\n",
    "#rasterize shapeile\n",
    "mask = xr_rasterize(gdf=gdf,\n",
    "                     da=dataset.label)\n",
    "\n",
    "dataset['label'] = dataset.label.where(mask, 0)"
   ]
  },
  {
   "cell_type": "code",
   "execution_count": 12,
   "metadata": {},
   "outputs": [
    {
     "data": {
      "text/plain": [
       "PosixPath('Southern/Southern_label.tif')"
      ]
     },
     "execution_count": 12,
     "metadata": {},
     "output_type": "execute_result"
    }
   ],
   "source": [
    "# save classes\n",
    "\n",
    "from datacube.utils.cog import write_cog\n",
    "\n",
    "write_cog(dataset.label, f'{area_name}/{area_name}_label.tif')"
   ]
  }
 ],
 "metadata": {
  "kernelspec": {
   "display_name": "Python 3",
   "language": "python",
   "name": "python3"
  },
  "language_info": {
   "codemirror_mode": {
    "name": "ipython",
    "version": 3
   },
   "file_extension": ".py",
   "mimetype": "text/x-python",
   "name": "python",
   "nbconvert_exporter": "python",
   "pygments_lexer": "ipython3",
   "version": "3.6.9"
  }
 },
 "nbformat": 4,
 "nbformat_minor": 4
}
