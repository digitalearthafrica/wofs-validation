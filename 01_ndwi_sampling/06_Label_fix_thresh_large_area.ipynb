{
 "cells": [
  {
   "cell_type": "markdown",
   "metadata": {},
   "source": [
    "# Classify NDWI image using defined thresholds\n",
    "\n",
    "### !! This notebook is meant to be used for a large area.\n",
    "### !! STEP 1, 2 and 3 might have to be run one at a time.\n",
    "### !! Each step will load input data and save output to file."
   ]
  },
  {
   "cell_type": "markdown",
   "metadata": {},
   "source": [
    "## Load packages"
   ]
  },
  {
   "cell_type": "code",
   "execution_count": 1,
   "metadata": {},
   "outputs": [],
   "source": [
    "import os\n",
    "import xarray as xr\n",
    "import numpy as np\n",
    "import pandas as pd\n",
    "import geopandas as gpd\n",
    "\n",
    "import sys\n",
    "sys.path.append('../Scripts')\n",
    "from deafrica_spatialtools import xr_rasterize\n",
    "\n",
    "from datacube.utils.cog import write_cog"
   ]
  },
  {
   "cell_type": "code",
   "execution_count": 2,
   "metadata": {},
   "outputs": [],
   "source": [
    "# define area name\n",
    "\n",
    "area_name = 'Sahel'\n",
    "if not os.path.exists(area_name): os.mkdir(area_name)"
   ]
  },
  {
   "cell_type": "markdown",
   "metadata": {},
   "source": [
    "## Convert to one mosaic (only do it once)"
   ]
  },
  {
   "cell_type": "code",
   "execution_count": 3,
   "metadata": {},
   "outputs": [],
   "source": [
    "# make tif\n",
    "\n",
    "if not os.path.exists(f\"NDWI_composite/{area_name.lower()}_NDWI_mosaic.vrt\"):\n",
    "    os.chdir('NDWI_composite')\n",
    "    os.system(f\"gdalbuildvrt {area_name.lower()}_NDWI_mosaic.vrt {area_name.lower()}_NDWI_tile*.tif\")\n",
    "    #os.system(\"gdal_translate \"\\\n",
    "    #   \"-co BIGTIFF=YES \"\\\n",
    "    #   \"-co COMPRESS=DEFLATE \"\\\n",
    "    #   \"-co ZLEVEL=9 \"\\\n",
    "    #   \"-co PREDICTOR=1 \"\\\n",
    "    #   \"-co TILED=YES \"\\\n",
    "    #   \"-co BLOCKXSIZE=1024 \"\\\n",
    "    #   \"-co BLOCKYSIZE=1024 \"\\\n",
    "    #   +f\"{area_name.lower()}_NDWI_mosaic.vrt \"+ f\"{area_name.lower()}_NDWI_mosaic.tif\")\n",
    "    os.chdir('../')"
   ]
  },
  {
   "cell_type": "markdown",
   "metadata": {},
   "source": [
    "## STEP 1 - Load NDWI mosaic and classify into bins of different water detection frequencies"
   ]
  },
  {
   "cell_type": "code",
   "execution_count": null,
   "metadata": {},
   "outputs": [],
   "source": [
    "if os.path.exists(f\"NDWI_composite/{area_name.lower()}_NDWI_mosaic.tif\"):\n",
    "    ds = xr.open_rasterio(f\"NDWI_composite/{area_name.lower()}_NDWI_mosaic.tif\", chunks={'x':2000,'y':2000}).squeeze()\n",
    "else:\n",
    "    ds = xr.open_rasterio(f\"NDWI_composite/{area_name.lower()}_NDWI_mosaic.vrt\", chunks={'x':2000,'y':2000}).squeeze()"
   ]
  },
  {
   "cell_type": "code",
   "execution_count": null,
   "metadata": {},
   "outputs": [],
   "source": [
    "dataset = ds.to_dataset(name='ndwi')"
   ]
  },
  {
   "cell_type": "code",
   "execution_count": null,
   "metadata": {},
   "outputs": [],
   "source": [
    "# fix thresholds\n",
    "thresh = [-0.07, -0.05, -0.03, 0.03]\n",
    "\n",
    "n_class = len(thresh)+1\n",
    "frac_sample = [0.1, 0.1, 0.2, 0.3, 0.3]"
   ]
  },
  {
   "cell_type": "code",
   "execution_count": null,
   "metadata": {},
   "outputs": [],
   "source": [
    "# classify\n",
    "\n",
    "dataset['label'] = (dataset.ndwi*0).astype(np.uint8)\n",
    "\n",
    "dataset['label'] +=(dataset.ndwi<thresh[0]).astype(np.uint8)*1\n",
    "\n",
    "for i in range(2, n_class):\n",
    "    dataset['label'] += ((dataset.ndwi>=thresh[i-2]) & (dataset.ndwi<thresh[i-1])).astype(np.uint8)*i\n",
    "\n",
    "dataset['label'] += (dataset.ndwi>=thresh[-1]).astype(np.uint8)*n_class\n",
    "\n",
    "# ndwi=0 is not valid\n",
    "dataset['label'] = dataset.label.where(dataset.ndwi!=0, 0)\n",
    "\n",
    "dataset['label'].attrs = dataset.ndwi.attrs"
   ]
  },
  {
   "cell_type": "code",
   "execution_count": null,
   "metadata": {},
   "outputs": [],
   "source": [
    "%%time \n",
    "\n",
    "write_cog(dataset.label.compute(), f'{area_name}/{area_name}_label_unmasked.tif')"
   ]
  },
  {
   "cell_type": "markdown",
   "metadata": {},
   "source": [
    "## STEP 2 - Clip to AEZ (excluding large_water_bodies)"
   ]
  },
  {
   "cell_type": "code",
   "execution_count": 4,
   "metadata": {},
   "outputs": [],
   "source": [
    "ds = xr.open_rasterio(f'{area_name}/{area_name}_label_unmasked.tif').squeeze()\n",
    "dataset = ds.to_dataset(name='label')"
   ]
  },
  {
   "cell_type": "code",
   "execution_count": 5,
   "metadata": {},
   "outputs": [
    {
     "name": "stdout",
     "output_type": "stream",
     "text": [
      "Rasterizing to match xarray.DataArray dimensions (118904, 221753) and projection system/CRS (e.g. +proj=cea +lat_ts=30 +lon_0=0 +x_0=0 +y_0=0 +datum=WGS84 +units=m +no_defs=True)\n",
      "Exporting GeoTIFF to Sahel/Sahel_mask.tif\n"
     ]
    },
    {
     "name": "stderr",
     "output_type": "stream",
     "text": [
      "/env/lib/python3.6/site-packages/datacube/helpers.py:34: DeprecationWarning: Function datacube.helpers.write_geotiff is deprecated,\n",
      "please use datacube.utils.cog.write_cog instead\n",
      "  category=DeprecationWarning)\n"
     ]
    }
   ],
   "source": [
    "#load shapefile\n",
    "gdf = gpd.read_file(f'shapes/AEZs_ExcludeLargeWB/AEZs_ExcludeLargeWB_update_{area_name}.shp')\n",
    "\n",
    "#rasterize shapeile\n",
    "mask = xr_rasterize(gdf=gdf,\n",
    "                     da=dataset.label, export_tiff= f'{area_name}/{area_name}_mask.tif')"
   ]
  },
  {
   "cell_type": "markdown",
   "metadata": {},
   "source": [
    "## STEP 3 - Make the classified NDWI image"
   ]
  },
  {
   "cell_type": "code",
   "execution_count": 6,
   "metadata": {},
   "outputs": [],
   "source": [
    "ds = xr.open_rasterio(f'{area_name}/{area_name}_label_unmasked.tif').squeeze()\n",
    "dataset = ds.to_dataset(name='label')"
   ]
  },
  {
   "cell_type": "code",
   "execution_count": 7,
   "metadata": {},
   "outputs": [],
   "source": [
    "mask =  xr.open_rasterio(f'{area_name}/{area_name}_mask.tif').squeeze()"
   ]
  },
  {
   "cell_type": "code",
   "execution_count": 8,
   "metadata": {},
   "outputs": [],
   "source": [
    "dataset['label'] = dataset.label.where(mask, 0)"
   ]
  },
  {
   "cell_type": "code",
   "execution_count": 9,
   "metadata": {},
   "outputs": [
    {
     "name": "stdout",
     "output_type": "stream",
     "text": [
      "CPU times: user 5min 22s, sys: 24.9 s, total: 5min 47s\n",
      "Wall time: 5min 47s\n"
     ]
    },
    {
     "data": {
      "text/plain": [
       "PosixPath('Sahel/Sahel_label.tif')"
      ]
     },
     "execution_count": 9,
     "metadata": {},
     "output_type": "execute_result"
    }
   ],
   "source": [
    "%%time\n",
    "\n",
    "# save classes\n",
    "\n",
    "write_cog(dataset.label.compute(), f'{area_name}/{area_name}_label.tif')"
   ]
  }
 ],
 "metadata": {
  "kernelspec": {
   "display_name": "Python 3",
   "language": "python",
   "name": "python3"
  },
  "language_info": {
   "codemirror_mode": {
    "name": "ipython",
    "version": 3
   },
   "file_extension": ".py",
   "mimetype": "text/x-python",
   "name": "python",
   "nbconvert_exporter": "python",
   "pygments_lexer": "ipython3",
   "version": "3.6.9"
  }
 },
 "nbformat": 4,
 "nbformat_minor": 4
}
