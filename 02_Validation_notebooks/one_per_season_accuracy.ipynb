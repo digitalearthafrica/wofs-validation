{
 "cells": [
  {
   "cell_type": "markdown",
   "metadata": {},
   "source": [
    "# Monthly Accuracy Assessment of Water Observations from Space (WOfS) Product in Africa<img align=\"right\" src=\"../Supplementary_data/DE_Africa_Logo_Stacked_RGB_small.jpg\">"
   ]
  },
  {
   "cell_type": "markdown",
   "metadata": {},
   "source": [
    "## Description\n",
    "Now that we have run WOfS classification for each AEZs in Africa, its time to conduct seasonal accuracy assessment for each AEZ in Africa which is already compiled and stored in the following folder:`Results/WOfS_Assessment/Point_Based/ValidPoints_Per_AEZ`.\n",
    "\n",
    "Accuracy assessment for WOfS product in Africa includes generating a confusion error matrix for a WOFL binary classification.\n",
    "The inputs for the estimating the accuracy of WOfS derived product are a binary classification WOFL layer showing water/non-water and a shapefile containing validation points collected by [Collect Earth Online](https://collect.earth/) tool. Validation points are the ground truth or actual data while the extracted value for each location from WOFL is the predicted value. \n",
    "\n",
    "This notebook will explain how you can perform seasonal accuracy assessment for WOfS starting with `Western` AEZ using collected ground truth dataset. It will output a confusion error matrix containing overall, producer's and user's accuracy, along with the F1 score for each class."
   ]
  },
  {
   "cell_type": "markdown",
   "metadata": {},
   "source": [
    "## Getting started\n",
    "\n",
    "To run this analysis, run all the cells in the notebook, starting with the \"Load packages\" cell."
   ]
  },
  {
   "cell_type": "markdown",
   "metadata": {},
   "source": [
    "### Load packages\n",
    "Import Python packages that are used for the analysis."
   ]
  },
  {
   "cell_type": "code",
   "execution_count": 1,
   "metadata": {},
   "outputs": [
    {
     "name": "stderr",
     "output_type": "stream",
     "text": [
      "/env/lib/python3.8/site-packages/geopandas/_compat.py:106: UserWarning: The Shapely GEOS version (3.8.0-CAPI-1.13.1 ) is incompatible with the GEOS version PyGEOS was compiled with (3.9.1-CAPI-1.14.2). Conversions between both will be slow.\n",
      "  warnings.warn(\n",
      "/env/lib/python3.8/site-packages/datacube/storage/masking.py:7: DeprecationWarning: datacube.storage.masking has moved to datacube.utils.masking\n",
      "  warnings.warn(\"datacube.storage.masking has moved to datacube.utils.masking\",\n"
     ]
    }
   ],
   "source": [
    "%matplotlib inline\n",
    "\n",
    "import sys\n",
    "import os\n",
    "import rasterio\n",
    "import xarray\n",
    "import glob\n",
    "import numpy as np\n",
    "import pandas as pd\n",
    "import seaborn as sn\n",
    "import geopandas as gpd\n",
    "import matplotlib.pyplot as plt\n",
    "import scipy, scipy.ndimage\n",
    "import warnings\n",
    "warnings.filterwarnings(\"ignore\") #this will suppress the warnings for multiple UTM zones in your AOI \n",
    "\n",
    "from geopandas import GeoSeries, GeoDataFrame\n",
    "from shapely.geometry import Point\n",
    "from sklearn.metrics import confusion_matrix, accuracy_score \n",
    "from sklearn.metrics import plot_confusion_matrix, f1_score  \n",
    "from deafrica_tools.plotting import map_shapefile,display_map, rgb\n",
    "from deafrica_tools.spatial import xr_rasterize\n",
    "from deafrica_tools.datahandling import wofs_fuser, mostcommon_crs,load_ard,deepcopy\n",
    "from deafrica_tools.dask import create_local_dask_cluster"
   ]
  },
  {
   "cell_type": "markdown",
   "metadata": {},
   "source": [
    "### Analysis Parameters "
   ]
  },
  {
   "cell_type": "markdown",
   "metadata": {},
   "source": [
    "- CEO : groundtruth points containing valid points in each AEZ containing WOfS assigned classes, WOfS clear observations and the labels identified by analyst in each calendar month \n",
    "- input_data : dataframe for further analysis and accuracy assessment "
   ]
  },
  {
   "cell_type": "markdown",
   "metadata": {},
   "source": [
    "### Load the Dataset"
   ]
  },
  {
   "cell_type": "markdown",
   "metadata": {},
   "source": [
    "Validation points that are valid for each AEZ  "
   ]
  },
  {
   "cell_type": "markdown",
   "metadata": {},
   "source": [
    "## Wet/dry season"
   ]
  },
  {
   "cell_type": "code",
   "execution_count": 6,
   "metadata": {},
   "outputs": [],
   "source": [
    "accuracies = {}\n",
    "months = np.arange(1,13)\n",
    "def wetdry_accuracy(aez_name, wet_range=None, dry_range=None):\n",
    "    #CEO = f'../Results/WOfS_Assessment/Point_Based/ValidPoints_Per_AEZ/ValidationPoints_{aez_name}.csv'\n",
    "    CEO = f'../Results/WOfS_Assessment/wofs_ls/Institutions/{aez_name}_wofs_ls_valid_valid.csv'\n",
    "    input_data = pd.read_csv(CEO,delimiter=\",\")\n",
    "    input_data=input_data.drop(['Unnamed: 0'], axis=1)\n",
    "    working_wet = {}\n",
    "    working_dry = {}\n",
    "    \n",
    "    for i in wet_range:\n",
    "        is_month = input_data[\"MONTH\"]==i\n",
    "        monthly = input_data[is_month]\n",
    "        if len(monthly)>=7:\n",
    "            confusion_matrix = pd.crosstab(monthly['ACTUAL'],monthly['PREDICTION'],\n",
    "                                           rownames=['ACTUAL'],colnames=['PREDICTION'],margins=True)\n",
    "            confusion_matrix[\"Producer's\"] = [confusion_matrix.loc[0][0] / confusion_matrix.loc[0]['All'] * 100, \n",
    "                                              confusion_matrix.loc[1][1] / confusion_matrix.loc[1]['All'] *100, np.nan]\n",
    "            users_accuracy = pd.Series([confusion_matrix[0][0] / confusion_matrix[0]['All'] * 100,\n",
    "                                        confusion_matrix[1][1] / confusion_matrix[1]['All'] * 100]).rename(\"User's\")\n",
    "            confusion_matrix = confusion_matrix.append(users_accuracy)\n",
    "            confusion_matrix.loc[\"User's\", \"Producer's\"] = (confusion_matrix[0][0] + confusion_matrix[1][1]) / confusion_matrix['All']['All'] * 100\n",
    "            input_data['PREDICTION'] = input_data['PREDICTION'] .astype(str).astype(int)\n",
    "            fscore = pd.Series([(2*(confusion_matrix.loc[\"User's\"][0]*confusion_matrix.loc[0][\"Producer's\"]) / (confusion_matrix.loc[\"User's\"][0] + confusion_matrix.loc[0][\"Producer's\"])) / 100,\n",
    "                           f1_score(input_data['ACTUAL'],input_data['PREDICTION'])]).rename(\"F-score\")\n",
    "            confusion_matrix = confusion_matrix.append(fscore)\n",
    "            confusion_matrix = confusion_matrix.round(decimals=2)\n",
    "            confusion_matrix = confusion_matrix.rename(columns={'0':'NoWater','1':'Water', 0:'NoWater',1:'Water','All':'Total'},\n",
    "                                                       index={'0':'NoWater','1':'Water',0:'NoWater',1:'Water','All':'Total'})\n",
    "            working_wet[i]=confusion_matrix\n",
    "        else:\n",
    "            #pass\n",
    "            confusion_matrix = pd.crosstab(monthly['ACTUAL'],monthly['PREDICTION'],\n",
    "                                           rownames=['ACTUAL'],colnames=['PREDICTION'],margins=True)\n",
    "            confusion_matrix[\"Producer's\"] = [np.nan, np.nan]\n",
    "            users_accuracy = pd.Series([np.nan,\n",
    "                                        np.nan]).rename(\"User's\")\n",
    "            confusion_matrix = confusion_matrix.append(users_accuracy)\n",
    "            confusion_matrix.loc[\"User's\", \"Producer's\"] = np.nan\n",
    "            input_data['PREDICTION'] = input_data['PREDICTION'] .astype(str).astype(int)\n",
    "            fscore = pd.Series([np.nan,np.nan]).rename(\"F-score\")\n",
    "            confusion_matrix = confusion_matrix.append(fscore)\n",
    "            confusion_matrix = confusion_matrix.round(decimals=2)\n",
    "            confusion_matrix = confusion_matrix.rename(columns={'0':'NoWater','1':'Water', 0:'NoWater',1:'Water','All':'Total'},\n",
    "                                                       index={'0':'NoWater','1':'Water',0:'NoWater',1:'Water','All':'Total'})\n",
    "            working_wet[i]=confusion_matrix\n",
    "            \n",
    "    for i in dry_range:\n",
    "        is_month = input_data[\"MONTH\"]==i\n",
    "        monthly = input_data[is_month]\n",
    "        if len(monthly)>=7:\n",
    "            confusion_matrix = pd.crosstab(monthly['ACTUAL'],monthly['PREDICTION'],\n",
    "                                           rownames=['ACTUAL'],colnames=['PREDICTION'],margins=True)\n",
    "            confusion_matrix[\"Producer's\"] = [confusion_matrix.loc[0][0] / confusion_matrix.loc[0]['All'] * 100, \n",
    "                                              confusion_matrix.loc[1][1] / confusion_matrix.loc[1]['All'] *100, np.nan]\n",
    "            users_accuracy = pd.Series([confusion_matrix[0][0] / confusion_matrix[0]['All'] * 100,\n",
    "                                        confusion_matrix[1][1] / confusion_matrix[1]['All'] * 100]).rename(\"User's\")\n",
    "            confusion_matrix = confusion_matrix.append(users_accuracy)\n",
    "            confusion_matrix.loc[\"User's\", \"Producer's\"] = (confusion_matrix[0][0] + confusion_matrix[1][1]) / confusion_matrix['All']['All'] * 100\n",
    "            input_data['PREDICTION'] = input_data['PREDICTION'] .astype(str).astype(int)\n",
    "            fscore = pd.Series([(2*(confusion_matrix.loc[\"User's\"][0]*confusion_matrix.loc[0][\"Producer's\"]) / (confusion_matrix.loc[\"User's\"][0] + confusion_matrix.loc[0][\"Producer's\"])) / 100,\n",
    "                           f1_score(input_data['ACTUAL'],input_data['PREDICTION'])]).rename(\"F-score\")\n",
    "            confusion_matrix = confusion_matrix.append(fscore)\n",
    "            confusion_matrix = confusion_matrix.round(decimals=2)\n",
    "            confusion_matrix = confusion_matrix.rename(columns={'0':'NoWater','1':'Water', 0:'NoWater',1:'Water','All':'Total'},\n",
    "                                                       index={'0':'NoWater','1':'Water',0:'NoWater',1:'Water','All':'Total'})\n",
    "            working_dry[i]=confusion_matrix\n",
    "        else:\n",
    "            #pass\n",
    "            confusion_matrix = pd.crosstab(monthly['ACTUAL'],monthly['PREDICTION'],\n",
    "                                           rownames=['ACTUAL'],colnames=['PREDICTION'],margins=True)\n",
    "            confusion_matrix[\"Producer's\"] = [np.nan, np.nan]\n",
    "            users_accuracy = pd.Series([np.nan,\n",
    "                                        np.nan]).rename(\"User's\")\n",
    "            confusion_matrix = confusion_matrix.append(users_accuracy)\n",
    "            confusion_matrix.loc[\"User's\", \"Producer's\"] = np.nan\n",
    "            input_data['PREDICTION'] = input_data['PREDICTION'] .astype(str).astype(int)\n",
    "            fscore = pd.Series([np.nan,np.nan]).rename(\"F-score\")\n",
    "            confusion_matrix = confusion_matrix.append(fscore)\n",
    "            confusion_matrix = confusion_matrix.round(decimals=2)\n",
    "            confusion_matrix = confusion_matrix.rename(columns={'0':'NoWater','1':'Water', 0:'NoWater',1:'Water','All':'Total'},\n",
    "                                                       index={'0':'NoWater','1':'Water',0:'NoWater',1:'Water','All':'Total'})\n",
    "            working_dry[i]=confusion_matrix\n",
    "    producer_wet = [] \n",
    "    user_wet = []\n",
    "    overall_wet = []\n",
    "    producer_dry = [] \n",
    "    user_dry = []\n",
    "    overall_dry = []\n",
    "    for i in wet_range: \n",
    "        is_month = input_data[\"MONTH\"]==i\n",
    "        monthly = input_data[is_month]\n",
    "        producer_wet.append(working_wet[i][\"Producer's\"][1])\n",
    "        user_wet.append(working_wet[i][\"Water\"][3])\n",
    "        overall_wet.append(working_wet[i][\"Producer's\"][3])\n",
    "    for i in dry_range: \n",
    "        is_month = input_data[\"MONTH\"]==i\n",
    "        monthly = input_data[is_month]\n",
    "        producer_dry.append(working_dry[i][\"Producer's\"][1])\n",
    "        user_dry.append(working_dry[i][\"Water\"][3])\n",
    "        overall_dry.append(working_dry[i][\"Producer's\"][3])\n",
    "    accuracies[aez_name]={\"Wet\":{\"Producer\":producer_wet, \n",
    "                          \"User\":user_wet, \n",
    "                          \"Overall\":overall_wet},\n",
    "                          \"Dry\":{\"Producer\":producer_dry, \n",
    "                          \"User\":user_dry, \n",
    "                          \"Overall\":overall_dry}}   "
   ]
  },
  {
   "cell_type": "code",
   "execution_count": 7,
   "metadata": {},
   "outputs": [],
   "source": [
    "wetdry_accuracy('Central', wet_range=[10], dry_range=[6])\n",
    "wetdry_accuracy('Eastern', wet_range=[4], dry_range=[10])\n",
    "wetdry_accuracy('Western', wet_range=[6], dry_range=[12])\n",
    "wetdry_accuracy('Northern', wet_range=[12], dry_range=[7])\n",
    "wetdry_accuracy('Southern', wet_range=[1], dry_range=[7])\n",
    "wetdry_accuracy('Sahel', wet_range=[8], dry_range=[2])\n",
    "wetdry_accuracy('Indian_ocean', wet_range=[2], dry_range=[8])"
   ]
  },
  {
   "cell_type": "code",
   "execution_count": 8,
   "metadata": {},
   "outputs": [
    {
     "data": {
      "text/plain": [
       "{'Central': {'Wet': {'Producer': [74.55], 'User': [97.62], 'Overall': [76.92]},\n",
       "  'Dry': {'Producer': [78.48], 'User': [98.41], 'Overall': [79.07]}},\n",
       " 'Eastern': {'Wet': {'Producer': [79.25], 'User': [92.31], 'Overall': [83.62]},\n",
       "  'Dry': {'Producer': [83.33], 'User': [96.05], 'Overall': [85.81]}},\n",
       " 'Western': {'Wet': {'Producer': [68.18], 'User': [100.0], 'Overall': [72.55]},\n",
       "  'Dry': {'Producer': [87.76], 'User': [97.73], 'Overall': [87.77]}},\n",
       " 'Northern': {'Wet': {'Producer': [84.21],\n",
       "   'User': [90.57],\n",
       "   'Overall': [84.09]},\n",
       "  'Dry': {'Producer': [68.25], 'User': [86.0], 'Overall': [74.29]}},\n",
       " 'Southern': {'Wet': {'Producer': [68.75],\n",
       "   'User': [100.0],\n",
       "   'Overall': [81.48]},\n",
       "  'Dry': {'Producer': [80.65], 'User': [96.15], 'Overall': [84.3]}},\n",
       " 'Sahel': {'Wet': {'Producer': [82.35], 'User': [73.68], 'Overall': [85.45]},\n",
       "  'Dry': {'Producer': [95.24], 'User': [88.24], 'Overall': [88.3]}},\n",
       " 'Indian_ocean': {'Wet': {'Producer': [77.48],\n",
       "   'User': [99.15],\n",
       "   'Overall': [79.41]},\n",
       "  'Dry': {'Producer': [74.21], 'User': [97.24], 'Overall': [77.16]}}}"
      ]
     },
     "execution_count": 8,
     "metadata": {},
     "output_type": "execute_result"
    }
   ],
   "source": [
    "accuracies"
   ]
  },
  {
   "cell_type": "code",
   "execution_count": 44,
   "metadata": {},
   "outputs": [
    {
     "data": {
      "image/png": "[encoded data removed]",
      "text/plain": [
       "<Figure size 432x288 with 1 Axes>"
      ]
     },
     "metadata": {
      "needs_background": "light"
     },
     "output_type": "display_data"
    }
   ],
   "source": [
    "# from: https://pythonspot.com/matplotlib-bar-chart/\n",
    "import numpy as np\n",
    "import matplotlib.pyplot as plt\n",
    "\n",
    "# data to plot\n",
    "n_groups = 3\n",
    "east_vals_wet = np.asarray(list(accuracies[\"Eastern\"][\"Wet\"].values())).flatten()\n",
    "east_vals_dry = np.asarray(list(accuracies[\"Eastern\"][\"Dry\"].values())).flatten()\n",
    "west_vals_wet = np.asarray(list(accuracies[\"Western\"][\"Wet\"].values())).flatten()\n",
    "west_vals_dry = np.asarray(list(accuracies[\"Western\"][\"Dry\"].values())).flatten()\n",
    "north_vals_wet = np.asarray(list(accuracies[\"Northern\"][\"Wet\"].values())).flatten()\n",
    "north_vals_dry = np.asarray(list(accuracies[\"Northern\"][\"Dry\"].values())).flatten()\n",
    "south_vals_wet = np.asarray(list(accuracies[\"Southern\"][\"Wet\"].values())).flatten()\n",
    "south_vals_dry = np.asarray(list(accuracies[\"Southern\"][\"Dry\"].values())).flatten()\n",
    "cent_vals_wet = np.asarray(list(accuracies[\"Central\"][\"Wet\"].values())).flatten()\n",
    "cent_vals_dry = np.asarray(list(accuracies[\"Central\"][\"Dry\"].values())).flatten()\n",
    "sahel_vals_wet = np.asarray(list(accuracies[\"Sahel\"][\"Wet\"].values())).flatten()\n",
    "sahel_vals_dry = np.asarray(list(accuracies[\"Sahel\"][\"Dry\"].values())).flatten()\n",
    "io_vals_wet = np.asarray(list(accuracies[\"Indian_ocean\"][\"Wet\"].values())).flatten()\n",
    "io_vals_dry = np.asarray(list(accuracies[\"Indian_ocean\"][\"Dry\"].values())).flatten()\n",
    "\n",
    "# create plot\n",
    "fig, ax = plt.subplots()\n",
    "index = np.arange(n_groups)\n",
    "bar_width = 0.35\n",
    "opacity = 0.8\n",
    "\n",
    "wet = plt.bar(index, east_vals_wet, bar_width,\n",
    "alpha=opacity,\n",
    "label='Wet')\n",
    "\n",
    "dry = plt.bar(index + bar_width, east_vals_dry, bar_width,\n",
    "alpha=opacity,\n",
    "label='Dry')\n",
    "\n",
    "plt.xlabel('')\n",
    "plt.ylabel('Accuracy')\n",
    "plt.title('Accuracy for Eastern AEZ, seasonal')\n",
    "plt.xticks(index + 0.5*bar_width, (accuracies[\"Western\"][\"Wet\"].keys()))\n",
    "plt.text(-0.45*bar_width, east_vals_wet[0]-5, str(east_vals_wet[0])+'%')\n",
    "plt.text(0.55*bar_width, east_vals_dry[0]-5, str(east_vals_dry[0])+'%')\n",
    "plt.text(1-0.45*bar_width, east_vals_wet[1]-5, str(east_vals_wet[1])+'%')\n",
    "plt.text(1+0.55*bar_width, east_vals_dry[1]-5, str(east_vals_dry[1])+'%')\n",
    "plt.text(2-0.45*bar_width, east_vals_wet[2]-5, str(east_vals_wet[2])+'%')\n",
    "plt.text(2+0.55*bar_width, east_vals_dry[2]-5, str(east_vals_dry[2])+'%')\n",
    "\n",
    "\n",
    "plt.legend()\n",
    "\n",
    "plt.tight_layout()\n",
    "plt.show()\n",
    "fig.savefig(\"Eastern_one_time_season_acc.png\", bbox_inches='tight')"
   ]
  },
  {
   "cell_type": "code",
   "execution_count": null,
   "metadata": {},
   "outputs": [],
   "source": []
  },
  {
   "cell_type": "code",
   "execution_count": null,
   "metadata": {},
   "outputs": [],
   "source": []
  },
  {
   "cell_type": "markdown",
   "metadata": {},
   "source": [
    "***\n",
    "\n",
    "## Additional information\n",
    "\n",
    "**License:** The code in this notebook is licensed under the [Apache License, Version 2.0](https://www.apache.org/licenses/LICENSE-2.0). \n",
    "Digital Earth Africa data is licensed under the [Creative Commons by Attribution 4.0](https://creativecommons.org/licenses/by/4.0/) license.\n",
    "\n",
    "**Contact:** If you need assistance, please post a question on the [Open Data Cube Slack channel](http://slack.opendatacube.org/) or on the [GIS Stack Exchange](https://gis.stackexchange.com/questions/ask?tags=open-data-cube) using the `open-data-cube` tag (you can view previously asked questions [here](https://gis.stackexchange.com/questions/tagged/open-data-cube)).\n",
    "If you would like to report an issue with this notebook, you can file one on [Github](https://github.com/digitalearthafrica/deafrica-sandbox-notebooks).\n",
    "\n",
    "**Last modified:** January 2020\n",
    "\n",
    "**Compatible datacube version:** "
   ]
  },
  {
   "cell_type": "markdown",
   "metadata": {},
   "source": [
    "## Tags\n",
    "Browse all available tags on the DE Africa User Guide's [Tags Index](https://) (placeholder as this does not exist yet)"
   ]
  },
  {
   "cell_type": "raw",
   "metadata": {
    "raw_mimetype": "text/restructuredtext"
   },
   "source": [
    "**Tags**:  :index:`WOfS`, :index:`fractional cover`, :index:`deafrica_plotting`, :index:`deafrica_datahandling`, :index:`display_map`, :index:`wofs_fuser`, :index:`WOFL`, :index:`masking`"
   ]
  }
 ],
 "metadata": {
  "kernelspec": {
   "display_name": "Python 3",
   "language": "python",
   "name": "python3"
  },
  "language_info": {
   "codemirror_mode": {
    "name": "ipython",
    "version": 3
   },
   "file_extension": ".py",
   "mimetype": "text/x-python",
   "name": "python",
   "nbconvert_exporter": "python",
   "pygments_lexer": "ipython3",
   "version": "3.8.10"
  },
  "widgets": {
   "application/vnd.jupyter.widget-state+json": {
    "state": {
     "9e3fa49adf8c4170abfcd954c2ec045a": {
      "model_module": "jupyter-leaflet",
      "model_module_version": "^0.11.1",
      "model_name": "LeafletZoomControlModel",
      "state": {
       "_model_module_version": "^0.11.1",
       "_view_count": null,
       "_view_module_version": "^0.11.1",
       "options": [
        "position",
        "zoom_in_text",
        "zoom_in_title",
        "zoom_out_text",
        "zoom_out_title"
       ]
      }
     },
     "dc642f11c1fb492ca419b0ed6fc4f8c3": {
      "model_module": "jupyter-leaflet",
      "model_module_version": "^0.11.1",
      "model_name": "LeafletAttributionControlModel",
      "state": {
       "_model_module_version": "^0.11.1",
       "_view_count": null,
       "_view_module_version": "^0.11.1",
       "options": [
        "position",
        "prefix"
       ],
       "position": "bottomright",
       "prefix": "Leaflet"
      }
     }
    },
    "version_major": 2,
    "version_minor": 0
   }
  }
 },
 "nbformat": 4,
 "nbformat_minor": 4
}
