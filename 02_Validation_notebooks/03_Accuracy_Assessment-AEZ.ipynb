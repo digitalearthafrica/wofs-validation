{
 "cells": [
  {
   "cell_type": "markdown",
   "metadata": {},
   "source": [
    "# Accuracy Assessment of Water Observations from Space (WOfS) Product in Africa\n"
   ]
  },
  {
   "cell_type": "markdown",
   "metadata": {},
   "source": [
    "The cleaned validation samples from the previous step `02b_Convert_Institution_to_AEZ.ipynb` are ingested here to create confusion mattrices for each agro-ecological zone, and one for the entire continent.\n",
    "\n",
    "\n",
    "**Input data** : `<AEZ>_wofs_ls_validation_points.csv>`\n",
    "\n",
    "**Output_data** : `<AEZ>_confusion_matrix.csv`\n",
    "\n",
    "Last modified: 13/02/2023\n"
   ]
  },
  {
   "cell_type": "markdown",
   "metadata": {},
   "source": [
    "### Load packages\n",
    "Import Python packages that are used for the analysis."
   ]
  },
  {
   "cell_type": "code",
   "execution_count": 1,
   "metadata": {},
   "outputs": [],
   "source": [
    "%matplotlib inline\n",
    "\n",
    "import os\n",
    "import glob\n",
    "import numpy as np\n",
    "import pandas as pd\n",
    "import matplotlib.pyplot as plt\n",
    "from sklearn.metrics import confusion_matrix, accuracy_score \n",
    "from sklearn.metrics import plot_confusion_matrix, f1_score  "
   ]
  },
  {
   "cell_type": "markdown",
   "metadata": {},
   "source": [
    "## Load the datasets\n",
    "Ground truth points "
   ]
  },
  {
   "cell_type": "code",
   "execution_count": 2,
   "metadata": {},
   "outputs": [
    {
     "data": {
      "text/plain": [
       "['../02_Validation_results/WOfS_Assessment/wofs_ls/Indian_ocean_wofs_ls_validation_points.csv',\n",
       " '../02_Validation_results/WOfS_Assessment/wofs_ls/Sahel_wofs_ls_validation_points.csv',\n",
       " '../02_Validation_results/WOfS_Assessment/wofs_ls/Central_wofs_ls_validation_points.csv',\n",
       " '../02_Validation_results/WOfS_Assessment/wofs_ls/Southern_wofs_ls_validation_points.csv',\n",
       " '../02_Validation_results/WOfS_Assessment/wofs_ls/Eastern_wofs_ls_validation_points.csv',\n",
       " '../02_Validation_results/WOfS_Assessment/wofs_ls/Northern_wofs_ls_validation_points.csv',\n",
       " '../02_Validation_results/WOfS_Assessment/wofs_ls/Western_wofs_ls_validation_points.csv']"
      ]
     },
     "execution_count": 2,
     "metadata": {},
     "output_type": "execute_result"
    }
   ],
   "source": [
    "#Read the ground truth data \n",
    "#For each AEZ\n",
    "file_path = ('../02_Validation_results/WOfS_Assessment/wofs_ls/')\n",
    "validation_files = [i for i in glob.glob(os.path.join(file_path, '*.{}'.format('csv'))) if not 'Continental' in i]\n",
    "validation_files"
   ]
  },
  {
   "cell_type": "markdown",
   "metadata": {},
   "source": [
    "## Create a continental validation dataset"
   ]
  },
  {
   "cell_type": "code",
   "execution_count": 3,
   "metadata": {},
   "outputs": [],
   "source": [
    "continental = pd.concat([pd.read_csv(f) for f in validation_files])\n",
    "\n",
    "#export to disk\n",
    "continental.to_csv('../02_Validation_results/WOfS_Assessment/wofs_ls/Continental_wofs_ls_validation_points.csv')"
   ]
  },
  {
   "cell_type": "markdown",
   "metadata": {},
   "source": [
    "## Function for creating confusion matrix"
   ]
  },
  {
   "cell_type": "code",
   "execution_count": 4,
   "metadata": {},
   "outputs": [],
   "source": [
    "def create_confusion_matrix(df, aez):\n",
    "\n",
    "    # create a confusion matrix\n",
    "    confusion_matrix = pd.crosstab(\n",
    "        df[\"ACTUAL\"],\n",
    "        df[\"PREDICTION\"],\n",
    "        rownames=[\"ACTUAL\"],\n",
    "        colnames=[\"PREDICTION\"],\n",
    "        margins=True,\n",
    "    )\n",
    "    \n",
    "    #producer's accuracy\n",
    "    confusion_matrix[\"Producer's\"] = [\n",
    "        confusion_matrix.loc[0][0] / confusion_matrix.loc[0][\"All\"] * 100,\n",
    "        confusion_matrix.loc[1][1] / confusion_matrix.loc[1][\"All\"] * 100,\n",
    "        np.nan,\n",
    "    ]\n",
    "    \n",
    "    #user's acc\n",
    "    users_accuracy = pd.Series(\n",
    "        [\n",
    "            confusion_matrix[0][0] / confusion_matrix[0][\"All\"] * 100,\n",
    "            confusion_matrix[1][1] / confusion_matrix[1][\"All\"] * 100,\n",
    "        ]\n",
    "    ).rename(\"User's\")\n",
    "\n",
    "    confusion_matrix = confusion_matrix.append( \n",
    "        users_accuracy\n",
    "    )\n",
    "    \n",
    "    #overall acc\n",
    "    confusion_matrix.loc[\"User's\", \"Producer's\"] = (\n",
    "        (confusion_matrix[0][0] + confusion_matrix[1][1])\n",
    "        / confusion_matrix[\"All\"][\"All\"]\n",
    "        * 100\n",
    "    )\n",
    "    df[\"PREDICTION\"] = df[\"PREDICTION\"].astype(str).astype(int)\n",
    "    \n",
    "    #fscore\n",
    "    fscore = pd.Series(\n",
    "        [\n",
    "            (\n",
    "                2\n",
    "                * (\n",
    "                    confusion_matrix.loc[\"User's\"][0]\n",
    "                    * confusion_matrix.loc[0][\"Producer's\"]\n",
    "                )\n",
    "                / (\n",
    "                    confusion_matrix.loc[\"User's\"][0]\n",
    "                    + confusion_matrix.loc[0][\"Producer's\"]\n",
    "                )\n",
    "            )\n",
    "            / 100,\n",
    "            f1_score(df[\"ACTUAL\"], df[\"PREDICTION\"]),\n",
    "        ]\n",
    "    ).rename(\"F-score\")\n",
    "    \n",
    "    #tidy confusion matrix\n",
    "    confusion_matrix = confusion_matrix.append(fscore)\n",
    "    confusion_matrix = confusion_matrix.round(decimals=2)\n",
    "    confusion_matrix = confusion_matrix.rename(\n",
    "        columns={\n",
    "            \"0\": \"NoWater\",\n",
    "            \"1\": \"Water\",\n",
    "            0: \"NoWater\",\n",
    "            1: \"Water\",\n",
    "            \"All\": \"Total\",\n",
    "        },\n",
    "        index={\"0\": \"NoWater\", \"1\": \"Water\", 0: \"NoWater\", 1: \"Water\", \"All\": \"Total\"},\n",
    "    )\n",
    "    \n",
    "    #remove the nonsensical values in the table\n",
    "    confusion_matrix.loc[\"User's\", 'Total'] = '--'\n",
    "    confusion_matrix.loc['Total', \"Producer's\"] = '--'\n",
    "    confusion_matrix.loc[\"F-score\", 'Total'] = '--'\n",
    "    confusion_matrix.loc[\"F-score\", \"Producer's\"] = '--'\n",
    "    \n",
    "    print('\\n')\n",
    "    print('n samples for', aez,':', len(df))\n",
    "    print(confusion_matrix)\n",
    "    # saving out the confusion matrix\n",
    "    confusion_matrix.to_csv('../02_Validation_results/WOfS_Assessment/wofs_ls/ConfusionMatrix/'+aez+'_confusion_matrix.csv')"
   ]
  },
  {
   "cell_type": "markdown",
   "metadata": {},
   "source": [
    "## AEZ confusion matrices"
   ]
  },
  {
   "cell_type": "code",
   "execution_count": 5,
   "metadata": {},
   "outputs": [
    {
     "name": "stderr",
     "output_type": "stream",
     "text": [
      "/tmp/ipykernel_490/3405324441.py:27: FutureWarning: The frame.append method is deprecated and will be removed from pandas in a future version. Use pandas.concat instead.\n",
      "  confusion_matrix = confusion_matrix.append(\n",
      "/tmp/ipykernel_490/3405324441.py:59: FutureWarning: The frame.append method is deprecated and will be removed from pandas in a future version. Use pandas.concat instead.\n",
      "  confusion_matrix = confusion_matrix.append(fscore)\n",
      "/tmp/ipykernel_490/3405324441.py:27: FutureWarning: The frame.append method is deprecated and will be removed from pandas in a future version. Use pandas.concat instead.\n",
      "  confusion_matrix = confusion_matrix.append(\n",
      "/tmp/ipykernel_490/3405324441.py:59: FutureWarning: The frame.append method is deprecated and will be removed from pandas in a future version. Use pandas.concat instead.\n",
      "  confusion_matrix = confusion_matrix.append(fscore)\n",
      "/tmp/ipykernel_490/3405324441.py:27: FutureWarning: The frame.append method is deprecated and will be removed from pandas in a future version. Use pandas.concat instead.\n",
      "  confusion_matrix = confusion_matrix.append(\n",
      "/tmp/ipykernel_490/3405324441.py:59: FutureWarning: The frame.append method is deprecated and will be removed from pandas in a future version. Use pandas.concat instead.\n",
      "  confusion_matrix = confusion_matrix.append(fscore)\n",
      "/tmp/ipykernel_490/3405324441.py:27: FutureWarning: The frame.append method is deprecated and will be removed from pandas in a future version. Use pandas.concat instead.\n",
      "  confusion_matrix = confusion_matrix.append(\n",
      "/tmp/ipykernel_490/3405324441.py:59: FutureWarning: The frame.append method is deprecated and will be removed from pandas in a future version. Use pandas.concat instead.\n",
      "  confusion_matrix = confusion_matrix.append(fscore)\n",
      "/tmp/ipykernel_490/3405324441.py:27: FutureWarning: The frame.append method is deprecated and will be removed from pandas in a future version. Use pandas.concat instead.\n",
      "  confusion_matrix = confusion_matrix.append(\n",
      "/tmp/ipykernel_490/3405324441.py:59: FutureWarning: The frame.append method is deprecated and will be removed from pandas in a future version. Use pandas.concat instead.\n",
      "  confusion_matrix = confusion_matrix.append(fscore)\n",
      "/tmp/ipykernel_490/3405324441.py:27: FutureWarning: The frame.append method is deprecated and will be removed from pandas in a future version. Use pandas.concat instead.\n",
      "  confusion_matrix = confusion_matrix.append(\n",
      "/tmp/ipykernel_490/3405324441.py:59: FutureWarning: The frame.append method is deprecated and will be removed from pandas in a future version. Use pandas.concat instead.\n",
      "  confusion_matrix = confusion_matrix.append(fscore)\n",
      "/tmp/ipykernel_490/3405324441.py:27: FutureWarning: The frame.append method is deprecated and will be removed from pandas in a future version. Use pandas.concat instead.\n",
      "  confusion_matrix = confusion_matrix.append(\n"
     ]
    },
    {
     "name": "stdout",
     "output_type": "stream",
     "text": [
      "\n",
      "\n",
      "n samples for Indian_ocean : 2082\n",
      "         NoWater    Water   Total Producer's\n",
      "ACTUAL                                      \n",
      "NoWater   333.00    45.00   378.0       88.1\n",
      "Water     455.00  1249.00  1704.0       73.3\n",
      "Total     788.00  1294.00  2082.0         --\n",
      "User's     42.26    96.52      --      75.98\n",
      "F-score     0.57     0.83      --         --\n",
      "\n",
      "\n",
      "n samples for Sahel : 1236\n",
      "         NoWater   Water   Total Producer's\n",
      "ACTUAL                                     \n",
      "NoWater   409.00  119.00   528.0      77.46\n",
      "Water      85.00  623.00   708.0      87.99\n",
      "Total     494.00  742.00  1236.0         --\n",
      "User's     82.79   83.96      --       83.5\n",
      "F-score     0.80    0.86      --         --\n",
      "\n",
      "\n",
      "n samples for Central : 1096\n",
      "         NoWater   Water   Total Producer's\n",
      "ACTUAL                                     \n",
      "NoWater   111.00   26.00   137.0      81.02\n",
      "Water     169.00  790.00   959.0      82.38\n",
      "Total     280.00  816.00  1096.0         --\n",
      "User's     39.64   96.81      --      82.21\n",
      "F-score     0.53    0.89      --         --\n",
      "\n",
      "\n",
      "n samples for Southern : 2082\n",
      "         NoWater    Water   Total Producer's\n",
      "ACTUAL                                      \n",
      "NoWater   659.00    37.00   696.0      94.68\n",
      "Water     349.00  1037.00  1386.0      74.82\n",
      "Total    1008.00  1074.00  2082.0         --\n",
      "User's     65.38    96.55      --      81.46\n",
      "F-score     0.77     0.84      --         --\n",
      "\n",
      "\n",
      "n samples for Eastern : 2574\n",
      "         NoWater    Water   Total Producer's\n",
      "ACTUAL                                      \n",
      "NoWater   650.00    61.00   711.0      91.42\n",
      "Water     266.00  1597.00  1863.0      85.72\n",
      "Total     916.00  1658.00  2574.0         --\n",
      "User's     70.96    96.32      --       87.3\n",
      "F-score     0.80     0.91      --         --\n",
      "\n",
      "\n",
      "n samples for Northern : 1180\n",
      "         NoWater   Water   Total Producer's\n",
      "ACTUAL                                     \n",
      "NoWater   387.00   63.00   450.0       86.0\n",
      "Water     109.00  621.00   730.0      85.07\n",
      "Total     496.00  684.00  1180.0         --\n",
      "User's     78.02   90.79      --      85.42\n",
      "F-score     0.82    0.88      --         --\n",
      "\n",
      "\n",
      "n samples for Western : 1113\n",
      "         NoWater   Water   Total Producer's\n",
      "ACTUAL                                     \n",
      "NoWater   172.00   18.00   190.0      90.53\n",
      "Water     236.00  687.00   923.0      74.43\n",
      "Total     408.00  705.00  1113.0         --\n",
      "User's     42.16   97.45      --      77.18\n",
      "F-score     0.58    0.84      --         --\n"
     ]
    },
    {
     "name": "stderr",
     "output_type": "stream",
     "text": [
      "/tmp/ipykernel_490/3405324441.py:59: FutureWarning: The frame.append method is deprecated and will be removed from pandas in a future version. Use pandas.concat instead.\n",
      "  confusion_matrix = confusion_matrix.append(fscore)\n"
     ]
    }
   ],
   "source": [
    "for v in validation_files:\n",
    "    df = pd.read_csv(v, delimiter=\",\")\n",
    "    aez = v[49:-30]\n",
    "    create_confusion_matrix(df, aez)\n"
   ]
  },
  {
   "cell_type": "markdown",
   "metadata": {},
   "source": [
    "## Continental confusion matrix"
   ]
  },
  {
   "cell_type": "code",
   "execution_count": 6,
   "metadata": {},
   "outputs": [
    {
     "name": "stdout",
     "output_type": "stream",
     "text": [
      "\n",
      "\n",
      "n samples for Continental : 11363\n",
      "         NoWater    Water    Total Producer's\n",
      "ACTUAL                                       \n",
      "NoWater  2721.00   369.00   3090.0      88.06\n",
      "Water    1669.00  6604.00   8273.0      79.83\n",
      "Total    4390.00  6973.00  11363.0         --\n",
      "User's     61.98    94.71       --      82.06\n",
      "F-score     0.73     0.87       --         --\n"
     ]
    },
    {
     "name": "stderr",
     "output_type": "stream",
     "text": [
      "/tmp/ipykernel_490/3405324441.py:27: FutureWarning: The frame.append method is deprecated and will be removed from pandas in a future version. Use pandas.concat instead.\n",
      "  confusion_matrix = confusion_matrix.append(\n",
      "/tmp/ipykernel_490/3405324441.py:59: FutureWarning: The frame.append method is deprecated and will be removed from pandas in a future version. Use pandas.concat instead.\n",
      "  confusion_matrix = confusion_matrix.append(fscore)\n"
     ]
    }
   ],
   "source": [
    "df = pd.concat([pd.read_csv(f) for f in validation_files])\n",
    "\n",
    "create_confusion_matrix(df, 'Continental')"
   ]
  }
 ],
 "metadata": {
  "kernelspec": {
   "display_name": "Python 3 (ipykernel)",
   "language": "python",
   "name": "python3"
  },
  "language_info": {
   "codemirror_mode": {
    "name": "ipython",
    "version": 3
   },
   "file_extension": ".py",
   "mimetype": "text/x-python",
   "name": "python",
   "nbconvert_exporter": "python",
   "pygments_lexer": "ipython3",
   "version": "3.8.10"
  },
  "widgets": {
   "application/vnd.jupyter.widget-state+json": {
    "state": {
     "9e3fa49adf8c4170abfcd954c2ec045a": {
      "model_module": "jupyter-leaflet",
      "model_module_version": "^0.11.1",
      "model_name": "LeafletZoomControlModel",
      "state": {
       "_model_module_version": "^0.11.1",
       "_view_count": null,
       "_view_module_version": "^0.11.1",
       "options": [
        "position",
        "zoom_in_text",
        "zoom_in_title",
        "zoom_out_text",
        "zoom_out_title"
       ]
      }
     },
     "dc642f11c1fb492ca419b0ed6fc4f8c3": {
      "model_module": "jupyter-leaflet",
      "model_module_version": "^0.11.1",
      "model_name": "LeafletAttributionControlModel",
      "state": {
       "_model_module_version": "^0.11.1",
       "_view_count": null,
       "_view_module_version": "^0.11.1",
       "options": [
        "position",
        "prefix"
       ],
       "position": "bottomright",
       "prefix": "Leaflet"
      }
     }
    },
    "version_major": 2,
    "version_minor": 0
   }
  }
 },
 "nbformat": 4,
 "nbformat_minor": 4
}
