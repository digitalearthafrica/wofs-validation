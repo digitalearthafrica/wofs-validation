{
 "cells": [
  {
   "cell_type": "markdown",
   "id": "5b13a065-3a30-4464-b50b-578d1ec07dc8",
   "metadata": {},
   "source": [
    "# Plotting WOfS data across Africa with country-boundary shapefile"
   ]
  },
  {
   "cell_type": "markdown",
   "id": "51b9675e-74ad-48b8-a82e-62de407edbd5",
   "metadata": {},
   "source": [
    "This plot compares surface water detected by Water Observations from Space between two chosen years. \n",
    "\n",
    "**Caveats**\n",
    "\n",
    "* This uses the WOfS annual summaries, it does not specify differences caused by longer-term trend conditions (such as drought), which should be investigated at a regional scale\n",
    "* Using native resolution (30m for WOfS) seems to have a fairly large impact on the results - resampling causes the loss of the smaller or more ephemeral waterbodies. This resolution and the resampling technique can be changed or specified in the `dc.load` statement. It may require a larger sandbox instance to run successfully"
   ]
  },
  {
   "cell_type": "markdown",
   "id": "2d914be4-6903-47d8-8b63-295a385cf495",
   "metadata": {},
   "source": [
    "## Load packages, connect to datacube"
   ]
  },
  {
   "cell_type": "code",
   "execution_count": 1,
   "id": "259e0f89-f2b1-457e-95af-ceb6297eac8c",
   "metadata": {},
   "outputs": [],
   "source": [
    "%matplotlib inline\n",
    "\n",
    "import datacube\n",
    "import matplotlib.pyplot as plt\n",
    "import geopandas as gpd\n",
    "from datacube.utils import geometry\n",
    "import pandas as pd\n",
    "import matplotlib as mpl\n",
    "import xarray as xr\n",
    "from odc.algo import xr_reproject\n",
    "from datacube.utils.geometry import assign_crs\n",
    "\n",
    "from deafrica_tools.datahandling import load_ard\n",
    "from deafrica_tools.bandindices import calculate_indices\n",
    "from deafrica_tools.plotting import rgb, map_shapefile\n",
    "from deafrica_tools.spatial import xr_rasterize\n",
    "from deafrica_tools.classification import HiddenPrints\n",
    "\n",
    "dc = datacube.Datacube(app=\"WOfS-figure\")\n",
    "\n",
    "import warnings\n",
    "warnings.filterwarnings(\"ignore\", message=\"Iteration over multi-part geometries is deprecated and will be removed in \")"
   ]
  },
  {
   "cell_type": "markdown",
   "id": "ad1c77d7-902a-44e4-b6ed-dfbd754091d2",
   "metadata": {
    "tags": []
   },
   "source": [
    "## 1 - Processing WOfS per country\n",
    "The final step of this section outputs a new shapefile specific to the data parameters and time periods identified. Once you have generated the shapefile, you can run **2 - Plot WOfS with country boundaries** without repeating this section."
   ]
  },
  {
   "cell_type": "markdown",
   "id": "05a9828b-1cd8-43ef-aae7-46ca4082e6e3",
   "metadata": {},
   "source": [
    "Country boundary shapefile sourced from [openAFRICA](https://open.africa/dataset/africa-shapefiles), with the file last updated on April 21, 2020."
   ]
  },
  {
   "cell_type": "markdown",
   "id": "5fa8a2c4-a539-4ade-aca5-19e538edd198",
   "metadata": {},
   "source": [
    "### Load shapefile"
   ]
  },
  {
   "cell_type": "code",
   "execution_count": 2,
   "id": "1c47a71b-fcaa-4e7e-abcf-45cd52332e9e",
   "metadata": {},
   "outputs": [],
   "source": [
    "vector_file = \"Plot_WOfS_by_country-data/african_countries.shp\"\n",
    "gdf = gpd.read_file(vector_file)"
   ]
  },
  {
   "cell_type": "code",
   "execution_count": 3,
   "id": "d3aae3df-b2b5-4667-98ed-dc3c7a92fea3",
   "metadata": {},
   "outputs": [
    {
     "data": {
      "text/html": [
       "<div>\n",
       "<style scoped>\n",
       "    .dataframe tbody tr th:only-of-type {\n",
       "        vertical-align: middle;\n",
       "    }\n",
       "\n",
       "    .dataframe tbody tr th {\n",
       "        vertical-align: top;\n",
       "    }\n",
       "\n",
       "    .dataframe thead th {\n",
       "        text-align: right;\n",
       "    }\n",
       "</style>\n",
       "<table border=\"1\" class=\"dataframe\">\n",
       "  <thead>\n",
       "    <tr style=\"text-align: right;\">\n",
       "      <th></th>\n",
       "      <th>name</th>\n",
       "      <th>geometry</th>\n",
       "    </tr>\n",
       "  </thead>\n",
       "  <tbody>\n",
       "    <tr>\n",
       "      <th>0</th>\n",
       "      <td>Sudan</td>\n",
       "      <td>MULTIPOLYGON (((38.58148 18.02542, 38.58203 18...</td>\n",
       "    </tr>\n",
       "    <tr>\n",
       "      <th>1</th>\n",
       "      <td>Angola</td>\n",
       "      <td>MULTIPOLYGON (((11.79481 -16.81925, 11.79375 -...</td>\n",
       "    </tr>\n",
       "    <tr>\n",
       "      <th>2</th>\n",
       "      <td>Benin</td>\n",
       "      <td>MULTIPOLYGON (((1.86343 6.28872, 1.86292 6.288...</td>\n",
       "    </tr>\n",
       "    <tr>\n",
       "      <th>3</th>\n",
       "      <td>Botswana</td>\n",
       "      <td>POLYGON ((25.17447 -17.77881, 25.18476 -17.783...</td>\n",
       "    </tr>\n",
       "    <tr>\n",
       "      <th>4</th>\n",
       "      <td>Burkina Faso</td>\n",
       "      <td>POLYGON ((-0.45567 15.08082, -0.45411 15.07937...</td>\n",
       "    </tr>\n",
       "  </tbody>\n",
       "</table>\n",
       "</div>"
      ],
      "text/plain": [
       "           name                                           geometry\n",
       "0         Sudan  MULTIPOLYGON (((38.58148 18.02542, 38.58203 18...\n",
       "1        Angola  MULTIPOLYGON (((11.79481 -16.81925, 11.79375 -...\n",
       "2         Benin  MULTIPOLYGON (((1.86343 6.28872, 1.86292 6.288...\n",
       "3      Botswana  POLYGON ((25.17447 -17.77881, 25.18476 -17.783...\n",
       "4  Burkina Faso  POLYGON ((-0.45567 15.08082, -0.45411 15.07937..."
      ]
     },
     "execution_count": 3,
     "metadata": {},
     "output_type": "execute_result"
    }
   ],
   "source": [
    "gdf.head()"
   ]
  },
  {
   "cell_type": "code",
   "execution_count": 4,
   "id": "8eafcc3e-01b2-4b0d-8d37-789be38369bb",
   "metadata": {},
   "outputs": [
    {
     "data": {
      "text/plain": [
       "<AxesSubplot:>"
      ]
     },
     "execution_count": 4,
     "metadata": {},
     "output_type": "execute_result"
    },
    {
     "data": {
      "image/png": "[encoded data removed]",
      "text/plain": [
       "<Figure size 432x288 with 1 Axes>"
      ]
     },
     "metadata": {
      "needs_background": "light"
     },
     "output_type": "display_data"
    }
   ],
   "source": [
    "gdf.plot(column='name')"
   ]
  },
  {
   "cell_type": "markdown",
   "id": "643d77ca-6c7e-4647-b455-bd4f5278280f",
   "metadata": {},
   "source": [
    "### Analysis parameters"
   ]
  },
  {
   "cell_type": "code",
   "execution_count": 5,
   "id": "6a17829d-6bb4-452b-98b1-a0de061224aa",
   "metadata": {},
   "outputs": [],
   "source": [
    "# Set the year you want to compare\n",
    "year = '2015'\n",
    "\n",
    "# Set the threshold of frequency we want to consider (between 0.0 and 1.0)\n",
    "lower = 0.2\n",
    "upper = 0.75"
   ]
  },
  {
   "cell_type": "code",
   "execution_count": 6,
   "id": "3e91f97a-00ab-420c-a9fe-e0ff6bf86d44",
   "metadata": {},
   "outputs": [],
   "source": [
    "attribute_col = 'name'\n",
    "\n",
    "# products = ['wofs_ls_summary_annual']\n",
    "measurements = ['frequency']\n",
    "resolution = (-30,30) #(-1000, 1000) \n",
    "output_crs = 'EPSG:6933'"
   ]
  },
  {
   "cell_type": "code",
   "execution_count": 7,
   "id": "4f0c938f-2b5a-46b4-a11b-1f8cc0c6ff5e",
   "metadata": {},
   "outputs": [],
   "source": [
    "query = {'measurements': measurements,\n",
    "         'resolution': resolution,\n",
    "         'output_crs': output_crs,\n",
    "         }"
   ]
  },
  {
   "cell_type": "markdown",
   "id": "af8aeb7c-8232-4823-bf11-2dd4609deadc",
   "metadata": {},
   "source": [
    "### Define function to calculate surface water per polygon\n",
    "`gdf.iloc[0:5].iterrows():` can be used to test a smaller number of polygons first.\n",
    "\n",
    "Arguments:\n",
    "* `gdf` the geodataframe of the country boundary shapefile\n",
    "* `year` the designated year to investigate\n",
    "* `lower` frequency (0-1) lower bound for water (anything above this is included)\n",
    "* `upper` frequency upper bound (anything above this is excluded) - max value of `1.0`"
   ]
  },
  {
   "cell_type": "code",
   "execution_count": 8,
   "id": "7e60edce-f761-4b60-baa5-82a77597a6a5",
   "metadata": {},
   "outputs": [],
   "source": [
    "def water_pixels_per_polygon(gdf, year, lower, upper):\n",
    "    num_pixels_year = {}\n",
    "    num_pixels_alltime = {}\n",
    "    \n",
    "    # A progress indicator\n",
    "    i = 0\n",
    "\n",
    "    # Loop through polygons in geodataframe and extract satellite data\n",
    "    for index, row in gdf.iterrows():\n",
    "\n",
    "        print(\" Feature {:02}/{:02}\\r\".format(i + 1, len(gdf)),\n",
    "                      end='')\n",
    "\n",
    "        # Get the geometry\n",
    "        geom = geometry.Geometry(row.geometry.__geo_interface__,\n",
    "                                 geometry.CRS(f'EPSG:{gdf.crs.to_epsg()}'))\n",
    "\n",
    "        # Update dc query with geometry      \n",
    "        query.update({'geopolygon': geom}) \n",
    "\n",
    "        # Load landsat (hide print statements)\n",
    "        with HiddenPrints():\n",
    "            ds = dc.load(product=['wofs_ls_summary_annual'],\n",
    "                         time= year,\n",
    "                         group_by='solar_day',\n",
    "                         **query)\n",
    "            ds_alltime = dc.load(product=['wofs_ls_summary_alltime'],\n",
    "                         group_by='solar_day',\n",
    "                         **query)\n",
    "\n",
    "        # Generate a polygon mask to keep only data within the polygon\n",
    "        with HiddenPrints():\n",
    "            mask = xr_rasterize(gdf.iloc[[index]], ds)\n",
    "            mask_alltime = xr_rasterize(gdf.iloc[[index]], ds_alltime)\n",
    "\n",
    "        # Mask dataset to set pixels outside the polygon to `NaN`\n",
    "        ds = ds.where(mask)\n",
    "        ds_alltime = ds_alltime.where(mask_alltime)\n",
    "\n",
    "        # Threshold WOfS frequency and append results to dictionary\n",
    "        if int(upper) == 1:\n",
    "            num_pixels_year.update({str(row[attribute_col]) : int(ds.frequency.where(ds.frequency > lower).count().values)})\n",
    "            num_pixels_alltime.update({str(row[attribute_col]) : int(ds_alltime.frequency.where(ds_alltime.frequency > lower).count().values)})\n",
    "        else:\n",
    "            num_pixels_year.update({str(row[attribute_col]) : int(ds.frequency.where((ds.frequency > lower) & (ds.frequency < upper)).count().values)})\n",
    "            num_pixels_alltime.update({str(row[attribute_col]) : int(ds_alltime.frequency.where((ds_alltime.frequency > lower) & (ds_alltime.frequency < upper)).count().values)})\n",
    "                \n",
    "\n",
    "        # Update counter\n",
    "        i += 1\n",
    "        \n",
    "    return num_pixels_year, num_pixels_alltime"
   ]
  },
  {
   "cell_type": "markdown",
   "id": "d2c7eb66-0aac-4178-b288-44e9259052c6",
   "metadata": {},
   "source": [
    "We run this once to generate two dictionaries, one for the specified year, and one for all-time."
   ]
  },
  {
   "cell_type": "code",
   "execution_count": 28,
   "id": "d7c6271b-0124-4449-8cf1-715f6fbeddf9",
   "metadata": {},
   "outputs": [
    {
     "name": "stdout",
     "output_type": "stream",
     "text": [
      " Feature 01/55\r"
     ]
    },
    {
     "ename": "KeyError",
     "evalue": "'rainfall'",
     "output_type": "error",
     "traceback": [
      "\u001b[0;31m---------------------------------------------------------------------------\u001b[0m",
      "\u001b[0;31mKeyError\u001b[0m                                  Traceback (most recent call last)",
      "\u001b[0;32m/tmp/ipykernel_154/3190762180.py\u001b[0m in \u001b[0;36m<module>\u001b[0;34m\u001b[0m\n\u001b[0;32m----> 1\u001b[0;31m \u001b[0mnum_pixels_year\u001b[0m\u001b[0;34m,\u001b[0m \u001b[0mnum_pixels_alltime\u001b[0m \u001b[0;34m=\u001b[0m \u001b[0mwater_pixels_per_polygon\u001b[0m\u001b[0;34m(\u001b[0m\u001b[0mgdf\u001b[0m\u001b[0;34m,\u001b[0m \u001b[0myear\u001b[0m\u001b[0;34m,\u001b[0m \u001b[0mlower\u001b[0m\u001b[0;34m,\u001b[0m \u001b[0mupper\u001b[0m\u001b[0;34m)\u001b[0m\u001b[0;34m\u001b[0m\u001b[0;34m\u001b[0m\u001b[0m\n\u001b[0m",
      "\u001b[0;32m/tmp/ipykernel_154/2423397325.py\u001b[0m in \u001b[0;36mwater_pixels_per_polygon\u001b[0;34m(gdf, year, lower, upper)\u001b[0m\n\u001b[1;32m     21\u001b[0m         \u001b[0;31m# Load landsat (hide print statements)\u001b[0m\u001b[0;34m\u001b[0m\u001b[0;34m\u001b[0m\u001b[0;34m\u001b[0m\u001b[0m\n\u001b[1;32m     22\u001b[0m         \u001b[0;32mwith\u001b[0m \u001b[0mHiddenPrints\u001b[0m\u001b[0;34m(\u001b[0m\u001b[0;34m)\u001b[0m\u001b[0;34m:\u001b[0m\u001b[0;34m\u001b[0m\u001b[0;34m\u001b[0m\u001b[0m\n\u001b[0;32m---> 23\u001b[0;31m             ds = dc.load(product=['wofs_ls_summary_annual'],\n\u001b[0m\u001b[1;32m     24\u001b[0m                          \u001b[0mtime\u001b[0m\u001b[0;34m=\u001b[0m \u001b[0myear\u001b[0m\u001b[0;34m,\u001b[0m\u001b[0;34m\u001b[0m\u001b[0;34m\u001b[0m\u001b[0m\n\u001b[1;32m     25\u001b[0m                          \u001b[0mgroup_by\u001b[0m\u001b[0;34m=\u001b[0m\u001b[0;34m'solar_day'\u001b[0m\u001b[0;34m,\u001b[0m\u001b[0;34m\u001b[0m\u001b[0;34m\u001b[0m\u001b[0m\n",
      "\u001b[0;32m/env/lib/python3.8/site-packages/datacube/api/core.py\u001b[0m in \u001b[0;36mload\u001b[0;34m(self, product, measurements, output_crs, resolution, resampling, skip_broken_datasets, dask_chunks, like, fuse_func, align, datasets, dataset_predicate, progress_cbk, **query)\u001b[0m\n\u001b[1;32m    421\u001b[0m         \u001b[0mgrouped\u001b[0m \u001b[0;34m=\u001b[0m \u001b[0mself\u001b[0m\u001b[0;34m.\u001b[0m\u001b[0mgroup_datasets\u001b[0m\u001b[0;34m(\u001b[0m\u001b[0mdatasets\u001b[0m\u001b[0;34m,\u001b[0m \u001b[0mgroup_by\u001b[0m\u001b[0;34m)\u001b[0m\u001b[0;34m\u001b[0m\u001b[0;34m\u001b[0m\u001b[0m\n\u001b[1;32m    422\u001b[0m \u001b[0;34m\u001b[0m\u001b[0m\n\u001b[0;32m--> 423\u001b[0;31m         \u001b[0mmeasurement_dicts\u001b[0m \u001b[0;34m=\u001b[0m \u001b[0mdatacube_product\u001b[0m\u001b[0;34m.\u001b[0m\u001b[0mlookup_measurements\u001b[0m\u001b[0;34m(\u001b[0m\u001b[0mmeasurements\u001b[0m\u001b[0;34m)\u001b[0m\u001b[0;34m\u001b[0m\u001b[0;34m\u001b[0m\u001b[0m\n\u001b[0m\u001b[1;32m    424\u001b[0m \u001b[0;34m\u001b[0m\u001b[0m\n\u001b[1;32m    425\u001b[0m         \u001b[0;31m# `extra_dims` put last for backwards compability, but should really be the second position\u001b[0m\u001b[0;34m\u001b[0m\u001b[0;34m\u001b[0m\u001b[0;34m\u001b[0m\u001b[0m\n",
      "\u001b[0;32m/env/lib/python3.8/site-packages/datacube/model/__init__.py\u001b[0m in \u001b[0;36mlookup_measurements\u001b[0;34m(self, measurements)\u001b[0m\n\u001b[1;32m    603\u001b[0m \u001b[0;34m\u001b[0m\u001b[0m\n\u001b[1;32m    604\u001b[0m         \u001b[0mmm\u001b[0m \u001b[0;34m=\u001b[0m \u001b[0mself\u001b[0m\u001b[0;34m.\u001b[0m\u001b[0m_resolve_aliases\u001b[0m\u001b[0;34m(\u001b[0m\u001b[0;34m)\u001b[0m\u001b[0;34m\u001b[0m\u001b[0;34m\u001b[0m\u001b[0m\n\u001b[0;32m--> 605\u001b[0;31m         \u001b[0;32mreturn\u001b[0m \u001b[0mOrderedDict\u001b[0m\u001b[0;34m(\u001b[0m\u001b[0;34m(\u001b[0m\u001b[0mm\u001b[0m\u001b[0;34m,\u001b[0m \u001b[0mmm\u001b[0m\u001b[0;34m[\u001b[0m\u001b[0mm\u001b[0m\u001b[0;34m]\u001b[0m\u001b[0;34m)\u001b[0m \u001b[0;32mfor\u001b[0m \u001b[0mm\u001b[0m \u001b[0;32min\u001b[0m \u001b[0mmeasurements\u001b[0m\u001b[0;34m)\u001b[0m\u001b[0;34m\u001b[0m\u001b[0;34m\u001b[0m\u001b[0m\n\u001b[0m\u001b[1;32m    606\u001b[0m \u001b[0;34m\u001b[0m\u001b[0m\n\u001b[1;32m    607\u001b[0m     \u001b[0;32mdef\u001b[0m \u001b[0m_extract_load_hints\u001b[0m\u001b[0;34m(\u001b[0m\u001b[0mself\u001b[0m\u001b[0;34m)\u001b[0m \u001b[0;34m->\u001b[0m \u001b[0mOptional\u001b[0m\u001b[0;34m[\u001b[0m\u001b[0mDict\u001b[0m\u001b[0;34m[\u001b[0m\u001b[0mstr\u001b[0m\u001b[0;34m,\u001b[0m \u001b[0mAny\u001b[0m\u001b[0;34m]\u001b[0m\u001b[0;34m]\u001b[0m\u001b[0;34m:\u001b[0m\u001b[0;34m\u001b[0m\u001b[0;34m\u001b[0m\u001b[0m\n",
      "\u001b[0;32m/env/lib/python3.8/site-packages/datacube/model/__init__.py\u001b[0m in \u001b[0;36m<genexpr>\u001b[0;34m(.0)\u001b[0m\n\u001b[1;32m    603\u001b[0m \u001b[0;34m\u001b[0m\u001b[0m\n\u001b[1;32m    604\u001b[0m         \u001b[0mmm\u001b[0m \u001b[0;34m=\u001b[0m \u001b[0mself\u001b[0m\u001b[0;34m.\u001b[0m\u001b[0m_resolve_aliases\u001b[0m\u001b[0;34m(\u001b[0m\u001b[0;34m)\u001b[0m\u001b[0;34m\u001b[0m\u001b[0;34m\u001b[0m\u001b[0m\n\u001b[0;32m--> 605\u001b[0;31m         \u001b[0;32mreturn\u001b[0m \u001b[0mOrderedDict\u001b[0m\u001b[0;34m(\u001b[0m\u001b[0;34m(\u001b[0m\u001b[0mm\u001b[0m\u001b[0;34m,\u001b[0m \u001b[0mmm\u001b[0m\u001b[0;34m[\u001b[0m\u001b[0mm\u001b[0m\u001b[0;34m]\u001b[0m\u001b[0;34m)\u001b[0m \u001b[0;32mfor\u001b[0m \u001b[0mm\u001b[0m \u001b[0;32min\u001b[0m \u001b[0mmeasurements\u001b[0m\u001b[0;34m)\u001b[0m\u001b[0;34m\u001b[0m\u001b[0;34m\u001b[0m\u001b[0m\n\u001b[0m\u001b[1;32m    606\u001b[0m \u001b[0;34m\u001b[0m\u001b[0m\n\u001b[1;32m    607\u001b[0m     \u001b[0;32mdef\u001b[0m \u001b[0m_extract_load_hints\u001b[0m\u001b[0;34m(\u001b[0m\u001b[0mself\u001b[0m\u001b[0;34m)\u001b[0m \u001b[0;34m->\u001b[0m \u001b[0mOptional\u001b[0m\u001b[0;34m[\u001b[0m\u001b[0mDict\u001b[0m\u001b[0;34m[\u001b[0m\u001b[0mstr\u001b[0m\u001b[0;34m,\u001b[0m \u001b[0mAny\u001b[0m\u001b[0;34m]\u001b[0m\u001b[0;34m]\u001b[0m\u001b[0;34m:\u001b[0m\u001b[0;34m\u001b[0m\u001b[0;34m\u001b[0m\u001b[0m\n",
      "\u001b[0;31mKeyError\u001b[0m: 'rainfall'"
     ]
    }
   ],
   "source": [
    "num_pixels_year, num_pixels_alltime = water_pixels_per_polygon(gdf, year, lower, upper)"
   ]
  },
  {
   "cell_type": "code",
   "execution_count": 10,
   "id": "d38e47f8-0db7-4f00-b3d0-dd688271f45f",
   "metadata": {},
   "outputs": [],
   "source": [
    "# num_pixels_year"
   ]
  },
  {
   "cell_type": "code",
   "execution_count": 11,
   "id": "83c7a72e-7b11-4ecd-ae1c-b0b2894720ff",
   "metadata": {},
   "outputs": [],
   "source": [
    "# num_pixels_alltime"
   ]
  },
  {
   "cell_type": "markdown",
   "id": "4d9c0681-a9c5-4304-ab03-7df6c53acdb3",
   "metadata": {},
   "source": [
    "### Append the new data and export dataframe"
   ]
  },
  {
   "cell_type": "code",
   "execution_count": 12,
   "id": "0b0b4f12-be89-4043-891c-fbebab903764",
   "metadata": {},
   "outputs": [],
   "source": [
    "pdpixel_all = pd.Series(num_pixels_alltime)\n",
    "pdpixel_year = pd.Series(num_pixels_year)\n",
    "\n",
    "# Calculate the difference between the current and past years\n",
    "pdpixel_diff = pdpixel_year - pdpixel_all"
   ]
  },
  {
   "cell_type": "code",
   "execution_count": 13,
   "id": "98b4039c-eac4-4a98-a020-e148bbff1cf7",
   "metadata": {},
   "outputs": [],
   "source": [
    "# Add to the geodataframe\n",
    "gdf = gdf.assign(px_all=pdpixel_all.values)\n",
    "gdf = gdf.assign(px_year=pdpixel_year.values)\n",
    "gdf = gdf.assign(px_diff=pdpixel_diff.values)"
   ]
  },
  {
   "cell_type": "code",
   "execution_count": 14,
   "id": "08137df6-c2eb-46ff-a950-b409947eecbb",
   "metadata": {},
   "outputs": [],
   "source": [
    "# Calculate percentage change (pc_change)\n",
    "pc_change = (gdf.px_diff/gdf.px_all*100).fillna(0)\n",
    "\n",
    "# Add to the geodataframe\n",
    "gdf = gdf.assign(pc_change=pc_change.values)"
   ]
  },
  {
   "cell_type": "markdown",
   "id": "a3ad8e52-9880-444f-9e53-546d2cc5fa27",
   "metadata": {},
   "source": [
    "### Export new shapefile with % change data"
   ]
  },
  {
   "cell_type": "code",
   "execution_count": 15,
   "id": "a3d61c08-64e2-46a4-a1af-358b906422e3",
   "metadata": {},
   "outputs": [],
   "source": [
    "gdf.to_file(\"Plot_WOfS_by_country-data/wofs_pc_change_\"+year+\"_vs_alltime_\"+str(int(lower*100))+\"-\"+str(int(upper*100))+\"_\"+str(resolution[1])+\"m-res.geojson\", driver=\"GeoJSON\")"
   ]
  },
  {
   "cell_type": "markdown",
   "id": "8bf0246c-eb87-4af2-b310-fd660e55ea09",
   "metadata": {
    "tags": []
   },
   "source": [
    "## 2 - Plot WOfS with country boundaries\n",
    "**Use this section to edit existing plot title, bounds, etc.**"
   ]
  },
  {
   "cell_type": "markdown",
   "id": "9b9d87c8-c027-4409-b771-ab9d5fdd00b2",
   "metadata": {},
   "source": [
    "If you have successfully exported the previous shapefile but started a new instance, there is no need to re-process the data. It can be read in from the shapefile by uncommenting and running the code below. Be sure the vector file path is to the correct shapefile title."
   ]
  },
  {
   "cell_type": "code",
   "execution_count": 16,
   "id": "193b99f4-bcfc-4b25-9b7a-8abd9322c312",
   "metadata": {},
   "outputs": [],
   "source": [
    "# vector_file = \"Plot_WOfS_by_country-data/wofs_pc_change_2020_vs_alltime_60-100.geojson\"\n",
    "# gdf = gpd.read_file(vector_file)"
   ]
  },
  {
   "cell_type": "code",
   "execution_count": 17,
   "id": "99b8073f-b179-4101-b10b-8b10bc87d447",
   "metadata": {},
   "outputs": [
    {
     "data": {
      "text/html": [
       "<div>\n",
       "<style scoped>\n",
       "    .dataframe tbody tr th:only-of-type {\n",
       "        vertical-align: middle;\n",
       "    }\n",
       "\n",
       "    .dataframe tbody tr th {\n",
       "        vertical-align: top;\n",
       "    }\n",
       "\n",
       "    .dataframe thead th {\n",
       "        text-align: right;\n",
       "    }\n",
       "</style>\n",
       "<table border=\"1\" class=\"dataframe\">\n",
       "  <thead>\n",
       "    <tr style=\"text-align: right;\">\n",
       "      <th></th>\n",
       "      <th>name</th>\n",
       "      <th>geometry</th>\n",
       "      <th>px_all</th>\n",
       "      <th>px_year</th>\n",
       "      <th>px_diff</th>\n",
       "      <th>pc_change</th>\n",
       "    </tr>\n",
       "  </thead>\n",
       "  <tbody>\n",
       "    <tr>\n",
       "      <th>0</th>\n",
       "      <td>Sudan</td>\n",
       "      <td>MULTIPOLYGON (((38.58148 18.02542, 38.58203 18...</td>\n",
       "      <td>2925781</td>\n",
       "      <td>2200935</td>\n",
       "      <td>-724846</td>\n",
       "      <td>-24.774445</td>\n",
       "    </tr>\n",
       "    <tr>\n",
       "      <th>1</th>\n",
       "      <td>Angola</td>\n",
       "      <td>MULTIPOLYGON (((11.79481 -16.81925, 11.79375 -...</td>\n",
       "      <td>2032937</td>\n",
       "      <td>1692844</td>\n",
       "      <td>-340093</td>\n",
       "      <td>-16.729146</td>\n",
       "    </tr>\n",
       "    <tr>\n",
       "      <th>2</th>\n",
       "      <td>Benin</td>\n",
       "      <td>MULTIPOLYGON (((1.86343 6.28872, 1.86292 6.288...</td>\n",
       "      <td>110190</td>\n",
       "      <td>95635</td>\n",
       "      <td>-14555</td>\n",
       "      <td>-13.209003</td>\n",
       "    </tr>\n",
       "    <tr>\n",
       "      <th>3</th>\n",
       "      <td>Botswana</td>\n",
       "      <td>POLYGON ((25.17447 -17.77881, 25.18476 -17.783...</td>\n",
       "      <td>3044340</td>\n",
       "      <td>2131571</td>\n",
       "      <td>-912769</td>\n",
       "      <td>-29.982492</td>\n",
       "    </tr>\n",
       "    <tr>\n",
       "      <th>4</th>\n",
       "      <td>Burkina Faso</td>\n",
       "      <td>POLYGON ((-0.45567 15.08082, -0.45411 15.07937...</td>\n",
       "      <td>827174</td>\n",
       "      <td>778400</td>\n",
       "      <td>-48774</td>\n",
       "      <td>-5.896462</td>\n",
       "    </tr>\n",
       "  </tbody>\n",
       "</table>\n",
       "</div>"
      ],
      "text/plain": [
       "           name                                           geometry   px_all  \\\n",
       "0         Sudan  MULTIPOLYGON (((38.58148 18.02542, 38.58203 18...  2925781   \n",
       "1        Angola  MULTIPOLYGON (((11.79481 -16.81925, 11.79375 -...  2032937   \n",
       "2         Benin  MULTIPOLYGON (((1.86343 6.28872, 1.86292 6.288...   110190   \n",
       "3      Botswana  POLYGON ((25.17447 -17.77881, 25.18476 -17.783...  3044340   \n",
       "4  Burkina Faso  POLYGON ((-0.45567 15.08082, -0.45411 15.07937...   827174   \n",
       "\n",
       "   px_year  px_diff  pc_change  \n",
       "0  2200935  -724846 -24.774445  \n",
       "1  1692844  -340093 -16.729146  \n",
       "2    95635   -14555 -13.209003  \n",
       "3  2131571  -912769 -29.982492  \n",
       "4   778400   -48774  -5.896462  "
      ]
     },
     "execution_count": 17,
     "metadata": {},
     "output_type": "execute_result"
    }
   ],
   "source": [
    "gdf.head()"
   ]
  },
  {
   "cell_type": "markdown",
   "id": "7cc9ec19-5ba1-4835-b3ea-5049585bda5c",
   "metadata": {},
   "source": [
    "### Customise the plot"
   ]
  },
  {
   "cell_type": "code",
   "execution_count": 18,
   "id": "11950f98-b986-4b38-bbce-7fa59d7ecdc9",
   "metadata": {},
   "outputs": [
    {
     "data": {
      "image/png": "[encoded data removed]",
      "text/plain": [
       "<Figure size 720x720 with 2 Axes>"
      ]
     },
     "metadata": {},
     "output_type": "display_data"
    }
   ],
   "source": [
    "# Define plot and colourbar axes\n",
    "fig, ax = plt.subplots(1,1, figsize=(10,10))\n",
    "fig.subplots_adjust(bottom=0.2)\n",
    "cax = fig.add_axes([0.16, 0.15, 0.70, 0.03])\n",
    "\n",
    "# Define colour map\n",
    "cmap = mpl.cm.RdYlBu\n",
    "bounds = list(range(-100, 101, 10))\n",
    "norm = mpl.colors.BoundaryNorm(bounds, cmap.N)#, extend='both')\n",
    "cbar = mpl.colorbar.ColorbarBase(cax, cmap=cmap,\n",
    "                                norm=norm,\n",
    "                                orientation='horizontal')\n",
    "\n",
    "# Define colourbar labelling\n",
    "cbar.set_ticks([]) #list(range(-100, 101, 25)))\n",
    "# cbar.set_ticklabels(list('{:2}%'.format(i) for i in (list(range(-100, 101, 25)))))\n",
    "# cbar.set_label(\"% change\", fontsize='14')\n",
    "\n",
    "# Turn off lon-lat ticks and labels\n",
    "ax.set_yticklabels([])\n",
    "ax.set_xticklabels([])\n",
    "ax.set_xticks([])\n",
    "ax.set_yticks([])\n",
    "\n",
    "# Remove frame\n",
    "ax.spines['top'].set_visible(False)\n",
    "ax.spines['right'].set_visible(False)\n",
    "ax.spines['bottom'].set_visible(False)\n",
    "ax.spines['left'].set_visible(False)\n",
    "\n",
    "# plot 'pc_change' and 'geometry' boundary lines\n",
    "gdf.plot('pc_change', ax=ax, cmap=cmap, vmin=-100, vmax=100, norm=norm)\n",
    "gdf.geometry.plot(ax=ax, linewidth=0.8, edgecolor='black', facecolor=\"none\")\n",
    "\n",
    "# Additional text boxes\n",
    "ax.text(-25, -52, s=\"Less water than usual\", color='black', fontsize='14')\n",
    "ax.text(34, -52, s=\"More water than usual\", color='black', fontsize='14')\n",
    "\n",
    "# Plot title - include frequency range\n",
    "ax.set_title(\"Surface water area \"+str(int(lower*100))+\"-\"+str(int(upper*100))+\"% \"+year+\"\\nDifference from all-time summary\", fontsize='18')\n",
    "#Plot title - concise title\n",
    "# ax.set_title(\"Surface water area - \"+year+\"\\nDifference from all-time summary\", fontsize='18')\n",
    "\n",
    "\n",
    "# Export figure\n",
    "fig.savefig('wofs_pc_change_'+year+'_vs_alltime_'+str(int(lower*100))+'-'+str(int(upper*100))+\"_\"+str(resolution[1])+'m-res.png', \n",
    "            bbox_inches='tight',\n",
    "            dpi=200, \n",
    "            facecolor=\"white\")"
   ]
  },
  {
   "cell_type": "markdown",
   "id": "78dc3ce4-70b1-40c8-adae-b962496bf5f2",
   "metadata": {
    "tags": []
   },
   "source": [
    "## 3 - Average rainfall and anomalies for the given year\n",
    "This can be used to sense-check a country that has a year which deviates a lot from the all-time statistics. Check the `Plot_WOfS_by_country-data` folder to see if CHIRPS for that year has already been pre-calculated. If so, skip down to the plotting section."
   ]
  },
  {
   "cell_type": "code",
   "execution_count": 19,
   "id": "07b3d184-33ef-4776-9f2d-c41c99e116de",
   "metadata": {},
   "outputs": [],
   "source": [
    "vector_file = \"Plot_WOfS_by_country-data/african_countries.shp\"\n",
    "gdf = gpd.read_file(vector_file)"
   ]
  },
  {
   "cell_type": "code",
   "execution_count": 20,
   "id": "4bb41e45-bb1a-44b5-ab2d-842ae80b9a3e",
   "metadata": {},
   "outputs": [],
   "source": [
    "attribute_col = 'name'\n",
    "year = '2015'\n",
    "\n",
    "resolution = (-5000, 5000) # native CHIRPS resolution\n",
    "output_crs = 'EPSG:6933'\n",
    "measurements = ['rainfall']\n",
    "\n",
    "query = {'measurements': measurements,\n",
    "         'resolution': resolution,\n",
    "         'output_crs': output_crs,\n",
    "         }"
   ]
  },
  {
   "cell_type": "markdown",
   "id": "e70d60af-2639-474b-85a2-ee47df33fe88",
   "metadata": {
    "tags": []
   },
   "source": [
    "### Long-term average (climatology) per country using CHPclim\n",
    "This gives a suitable baseline to compare the yearly CHIRPS data to. The CHPclim netcdf summary file is generated in the `digitalearthafrica/thematic-layers` repository and has been copied here to preserve filepaths."
   ]
  },
  {
   "cell_type": "code",
   "execution_count": 21,
   "id": "f05c30c2-d1ff-41ff-80a5-10fe746b0bab",
   "metadata": {
    "tags": []
   },
   "outputs": [],
   "source": [
    "def rainfall_per_polygon(gdf, year):\n",
    "    num_pixels_year = {}\n",
    "    num_pixels_alltime = {}\n",
    "\n",
    "    # A progress indicator\n",
    "    i = 0\n",
    "\n",
    "    # Loop through polygons in geodataframe and extract satellite data\n",
    "    for index, row in gdf.iterrows():\n",
    "\n",
    "        print(\" Feature {:02}/{:02}\\r\".format(i + 1, len(gdf)),\n",
    "                      end='')\n",
    "\n",
    "        # Get the geometry\n",
    "        geom = geometry.Geometry(row.geometry.__geo_interface__,\n",
    "                                 geometry.CRS(f'EPSG:{gdf.crs.to_epsg()}'))\n",
    "\n",
    "        # Update dc query with geometry      \n",
    "        query.update({'geopolygon': geom}) \n",
    "\n",
    "        # Load CHIRPS monthly (hide print statements)\n",
    "        with HiddenPrints():\n",
    "            ds = dc.load(product=['rainfall_chirps_monthly'],\n",
    "                             time= year,\n",
    "                             group_by='solar_day',\n",
    "                             measurements = ['rainfall'],\n",
    "                             resolution = (-5000, 5000), # native CHIRPS resolution\n",
    "                             output_crs = 'EPSG:6933')\n",
    "\n",
    "        # set -9999 no-data values to NaN\n",
    "        ds = ds.where(ds !=-9999.)      \n",
    "\n",
    "        # find sum over 12 months (ie total for that year)\n",
    "        ds = ds.sum(dim='time')\n",
    "\n",
    "        # Load CHPclim climatology and set to same projection as monthly\n",
    "        ds_chpclim = assign_crs(xr.open_dataarray('Plot_WOfS_by_country-data/chpclim_africa_12month_sum.nc'),  \n",
    "                                    crs='epsg:4326')\n",
    "        ds_chpclim = xr_reproject(ds_chpclim, ds.geobox)\n",
    "        ds_chpclim = assign_crs(ds_chpclim, crs=ds.geobox.crs)\n",
    "\n",
    "        # Generate a polygon mask to keep only data within the polygon\n",
    "        with HiddenPrints():\n",
    "            mask = xr_rasterize(gdf.iloc[[index]], ds)\n",
    "            mask_chpclim = xr_rasterize(gdf.iloc[[index]], ds_chpclim)\n",
    "\n",
    "        # Mask dataset to set pixels outside the polygon to `NaN`\n",
    "        ds = ds.where(mask)\n",
    "        ds_chpclim = ds_chpclim.where(mask_chpclim)\n",
    "\n",
    "        # Find mean rainfall over country area \n",
    "        ds = ds.mean(dim=['x','y'])\n",
    "        ds_chpclim = ds_chpclim.mean(dim=['x','y'])\n",
    "\n",
    "        # Append results to dictionary\n",
    "        num_pixels_year.update({str(row[attribute_col]) : ds.rainfall.values.flatten()[0]})\n",
    "        num_pixels_alltime.update({str(row[attribute_col]) : ds_chpclim.values.flatten()[0]})\n",
    "\n",
    "        # Update counter\n",
    "        i += 1\n",
    "        \n",
    "    return num_pixels_year, num_pixels_alltime"
   ]
  },
  {
   "cell_type": "code",
   "execution_count": 22,
   "id": "cfbe96fe-6fab-49c3-87e7-67cc4fd20934",
   "metadata": {},
   "outputs": [
    {
     "name": "stdout",
     "output_type": "stream",
     "text": [
      " Feature 55/55\r"
     ]
    }
   ],
   "source": [
    "chirps_year, chpclim_year = rainfall_per_polygon(gdf, year)"
   ]
  },
  {
   "cell_type": "code",
   "execution_count": 23,
   "id": "10728dd8-b84a-4fcb-b424-c08543581ab5",
   "metadata": {},
   "outputs": [],
   "source": [
    "# Assign to geodataframe\n",
    "pd_chirps = pd.Series(chirps_year)\n",
    "pd_chpclim = pd.Series(chpclim_year)\n",
    "pdrain_diff = pd_chirps - pd_chpclim\n",
    "\n",
    "gdf = gdf.assign(avg_chirps=pd_chirps.values)\n",
    "gdf = gdf.assign(avg_chpclim=pd_chpclim.values)\n",
    "gdf = gdf.assign(rain_diff=pdrain_diff.values)\n",
    "\n",
    "# Calculate percentage difference\n",
    "rain_pc_change = (gdf.rain_diff/gdf.avg_chpclim*100).fillna(0)\n",
    "gdf = gdf.assign(pc_rain=rain_pc_change.values)"
   ]
  },
  {
   "cell_type": "code",
   "execution_count": 24,
   "id": "d8023879-82fc-44bc-8eee-8e0d6c9b32c1",
   "metadata": {},
   "outputs": [
    {
     "data": {
      "text/html": [
       "<div>\n",
       "<style scoped>\n",
       "    .dataframe tbody tr th:only-of-type {\n",
       "        vertical-align: middle;\n",
       "    }\n",
       "\n",
       "    .dataframe tbody tr th {\n",
       "        vertical-align: top;\n",
       "    }\n",
       "\n",
       "    .dataframe thead th {\n",
       "        text-align: right;\n",
       "    }\n",
       "</style>\n",
       "<table border=\"1\" class=\"dataframe\">\n",
       "  <thead>\n",
       "    <tr style=\"text-align: right;\">\n",
       "      <th></th>\n",
       "      <th>name</th>\n",
       "      <th>geometry</th>\n",
       "      <th>avg_chirps</th>\n",
       "      <th>avg_chpclim</th>\n",
       "      <th>rain_diff</th>\n",
       "      <th>pc_rain</th>\n",
       "    </tr>\n",
       "  </thead>\n",
       "  <tbody>\n",
       "    <tr>\n",
       "      <th>0</th>\n",
       "      <td>Sudan</td>\n",
       "      <td>MULTIPOLYGON (((38.58148 18.02542, 38.58203 18...</td>\n",
       "      <td>222.138168</td>\n",
       "      <td>237.941925</td>\n",
       "      <td>-15.803757</td>\n",
       "      <td>-6.641854</td>\n",
       "    </tr>\n",
       "    <tr>\n",
       "      <th>1</th>\n",
       "      <td>Angola</td>\n",
       "      <td>MULTIPOLYGON (((11.79481 -16.81925, 11.79375 -...</td>\n",
       "      <td>904.432678</td>\n",
       "      <td>1020.127563</td>\n",
       "      <td>-115.694885</td>\n",
       "      <td>-11.341217</td>\n",
       "    </tr>\n",
       "    <tr>\n",
       "      <th>2</th>\n",
       "      <td>Benin</td>\n",
       "      <td>MULTIPOLYGON (((1.86343 6.28872, 1.86292 6.288...</td>\n",
       "      <td>969.338318</td>\n",
       "      <td>1076.503174</td>\n",
       "      <td>-107.164856</td>\n",
       "      <td>-9.954904</td>\n",
       "    </tr>\n",
       "    <tr>\n",
       "      <th>3</th>\n",
       "      <td>Botswana</td>\n",
       "      <td>POLYGON ((25.17447 -17.77881, 25.18476 -17.783...</td>\n",
       "      <td>245.164185</td>\n",
       "      <td>375.496338</td>\n",
       "      <td>-130.332153</td>\n",
       "      <td>-34.709301</td>\n",
       "    </tr>\n",
       "    <tr>\n",
       "      <th>4</th>\n",
       "      <td>Burkina Faso</td>\n",
       "      <td>POLYGON ((-0.45567 15.08082, -0.45411 15.07937...</td>\n",
       "      <td>873.224487</td>\n",
       "      <td>731.188782</td>\n",
       "      <td>142.035706</td>\n",
       "      <td>19.425314</td>\n",
       "    </tr>\n",
       "  </tbody>\n",
       "</table>\n",
       "</div>"
      ],
      "text/plain": [
       "           name                                           geometry  \\\n",
       "0         Sudan  MULTIPOLYGON (((38.58148 18.02542, 38.58203 18...   \n",
       "1        Angola  MULTIPOLYGON (((11.79481 -16.81925, 11.79375 -...   \n",
       "2         Benin  MULTIPOLYGON (((1.86343 6.28872, 1.86292 6.288...   \n",
       "3      Botswana  POLYGON ((25.17447 -17.77881, 25.18476 -17.783...   \n",
       "4  Burkina Faso  POLYGON ((-0.45567 15.08082, -0.45411 15.07937...   \n",
       "\n",
       "   avg_chirps  avg_chpclim   rain_diff    pc_rain  \n",
       "0  222.138168   237.941925  -15.803757  -6.641854  \n",
       "1  904.432678  1020.127563 -115.694885 -11.341217  \n",
       "2  969.338318  1076.503174 -107.164856  -9.954904  \n",
       "3  245.164185   375.496338 -130.332153 -34.709301  \n",
       "4  873.224487   731.188782  142.035706  19.425314  "
      ]
     },
     "execution_count": 24,
     "metadata": {},
     "output_type": "execute_result"
    }
   ],
   "source": [
    "gdf.head()"
   ]
  },
  {
   "cell_type": "code",
   "execution_count": 25,
   "id": "dccc1da1-1e6d-420e-9a98-7184e78e7750",
   "metadata": {
    "tags": []
   },
   "outputs": [],
   "source": [
    "# Export average CHIRPS for that year, and CHPclim, per country as geojson\n",
    "gdf.to_file(\"Plot_WOfS_by_country-data/chirps_per_country_\"+year+\"_5km.geojson\", driver='GeoJSON')"
   ]
  },
  {
   "cell_type": "markdown",
   "id": "6489b8c1-e81d-4b67-9f06-fcda96d704ab",
   "metadata": {
    "tags": []
   },
   "source": [
    "## 4 - Plot rainfall anomalies, to compare to WOfS"
   ]
  },
  {
   "cell_type": "markdown",
   "id": "721e4d07-798f-4235-8094-ca356ba9f355",
   "metadata": {},
   "source": [
    "If the data for that year has previously been generated, uncomment and import the data using the file read code below."
   ]
  },
  {
   "cell_type": "code",
   "execution_count": 26,
   "id": "efefbee1-3793-49bc-b5a0-a233640cc525",
   "metadata": {},
   "outputs": [],
   "source": [
    "# vector_file = \"Plot_WOfS_by_country-data/chirps_per_country_\"+year+\"_5km.geojson\"\n",
    "# gdf = gpd.read_file(vector_file)"
   ]
  },
  {
   "cell_type": "code",
   "execution_count": 27,
   "id": "ab0c09c1-e7de-4d6a-88dc-c09be3be0ece",
   "metadata": {},
   "outputs": [
    {
     "data": {
      "image/png": "[encoded data removed]",
      "text/plain": [
       "<Figure size 720x720 with 2 Axes>"
      ]
     },
     "metadata": {},
     "output_type": "display_data"
    }
   ],
   "source": [
    "# Define plot and colourbar axes\n",
    "fig, ax = plt.subplots(1,1, figsize=(10,10))\n",
    "fig.subplots_adjust(bottom=0.2)\n",
    "cax = fig.add_axes([0.16, 0.15, 0.70, 0.03])\n",
    "\n",
    "# Define colour map\n",
    "cmap = mpl.cm.RdYlBu\n",
    "bounds = list(range(-100, 101, 10))\n",
    "norm = mpl.colors.BoundaryNorm(bounds, cmap.N)#, extend='both')\n",
    "cbar = mpl.colorbar.ColorbarBase(cax, cmap=cmap,\n",
    "                                norm=norm,\n",
    "                                orientation='horizontal')\n",
    "\n",
    "# Define colourbar labelling\n",
    "cbar.set_ticks([])\n",
    "# cbar.set_ticklabels(list('{:2}%'.format(i) for i in (list(range(-100, 101, 25)))))\n",
    "# cbar.set_label(\"Rainfall (mm)\", fontsize='14')\n",
    "\n",
    "# Turn off lon-lat ticks and labels\n",
    "ax.set_yticklabels([])\n",
    "ax.set_xticklabels([])\n",
    "ax.set_xticks([])\n",
    "ax.set_yticks([])\n",
    "\n",
    "# Remove frame\n",
    "ax.spines['top'].set_visible(False)\n",
    "ax.spines['right'].set_visible(False)\n",
    "ax.spines['bottom'].set_visible(False)\n",
    "ax.spines['left'].set_visible(False)\n",
    "\n",
    "# plot 'pc_change' and 'geometry' boundary lines\n",
    "gdf.plot('pc_rain', ax=ax, cmap=cmap, norm=norm)\n",
    "gdf.geometry.plot(ax=ax, linewidth=0.8, edgecolor='black', facecolor=\"none\")\n",
    "\n",
    "# Additional text boxes\n",
    "ax.text(-25, -52, s=\"Less rain than usual\", color='black', fontsize='14')\n",
    "ax.text(34, -52, s=\"More rain than usual\", color='black', fontsize='14')\n",
    "\n",
    "# Plot title\n",
    "ax.set_title(\"Rainfall anomaly \"+year+\" - CHIRPS\", fontsize='18')\n",
    "\n",
    "# Export figure\n",
    "fig.savefig('rainfall_anomaly_per_country_'+year+'_5km.png', \n",
    "            bbox_inches='tight',\n",
    "            dpi=200, \n",
    "            facecolor=\"white\")"
   ]
  },
  {
   "cell_type": "markdown",
   "id": "3804dccd-6c37-4beb-b5c7-8caa7b8c1546",
   "metadata": {
    "tags": []
   },
   "source": [
    "## 4 - Investigate a single country\n",
    "\n",
    "Use this section to do any of the following\n",
    "* plot a single country of data\n",
    "* verify the function defined in Part (1) \n",
    "* check the effects of a boundary buffer on the results "
   ]
  },
  {
   "cell_type": "code",
   "execution_count": 12,
   "id": "c1bab8f7-7711-4b13-bf0c-9baa2438c5ba",
   "metadata": {},
   "outputs": [],
   "source": [
    "# import the original country shapefile\n",
    "vector_file = \"african_countries.shp\"\n",
    "gdf = gpd.read_file(vector_file)"
   ]
  },
  {
   "cell_type": "code",
   "execution_count": 13,
   "id": "3eb284ca-120d-4eb4-88ae-b108e125ba91",
   "metadata": {},
   "outputs": [
    {
     "data": {
      "text/html": [
       "<div>\n",
       "<style scoped>\n",
       "    .dataframe tbody tr th:only-of-type {\n",
       "        vertical-align: middle;\n",
       "    }\n",
       "\n",
       "    .dataframe tbody tr th {\n",
       "        vertical-align: top;\n",
       "    }\n",
       "\n",
       "    .dataframe thead th {\n",
       "        text-align: right;\n",
       "    }\n",
       "</style>\n",
       "<table border=\"1\" class=\"dataframe\">\n",
       "  <thead>\n",
       "    <tr style=\"text-align: right;\">\n",
       "      <th></th>\n",
       "      <th>name</th>\n",
       "      <th>geometry</th>\n",
       "    </tr>\n",
       "  </thead>\n",
       "  <tbody>\n",
       "    <tr>\n",
       "      <th>0</th>\n",
       "      <td>Sudan</td>\n",
       "      <td>MULTIPOLYGON (((38.58148 18.02542, 38.58203 18...</td>\n",
       "    </tr>\n",
       "    <tr>\n",
       "      <th>1</th>\n",
       "      <td>Angola</td>\n",
       "      <td>MULTIPOLYGON (((11.79481 -16.81925, 11.79375 -...</td>\n",
       "    </tr>\n",
       "    <tr>\n",
       "      <th>2</th>\n",
       "      <td>Benin</td>\n",
       "      <td>MULTIPOLYGON (((1.86343 6.28872, 1.86292 6.288...</td>\n",
       "    </tr>\n",
       "    <tr>\n",
       "      <th>3</th>\n",
       "      <td>Botswana</td>\n",
       "      <td>POLYGON ((25.17447 -17.77881, 25.18476 -17.783...</td>\n",
       "    </tr>\n",
       "    <tr>\n",
       "      <th>4</th>\n",
       "      <td>Burkina Faso</td>\n",
       "      <td>POLYGON ((-0.45567 15.08082, -0.45411 15.07937...</td>\n",
       "    </tr>\n",
       "  </tbody>\n",
       "</table>\n",
       "</div>"
      ],
      "text/plain": [
       "           name                                           geometry\n",
       "0         Sudan  MULTIPOLYGON (((38.58148 18.02542, 38.58203 18...\n",
       "1        Angola  MULTIPOLYGON (((11.79481 -16.81925, 11.79375 -...\n",
       "2         Benin  MULTIPOLYGON (((1.86343 6.28872, 1.86292 6.288...\n",
       "3      Botswana  POLYGON ((25.17447 -17.77881, 25.18476 -17.783...\n",
       "4  Burkina Faso  POLYGON ((-0.45567 15.08082, -0.45411 15.07937..."
      ]
     },
     "execution_count": 13,
     "metadata": {},
     "output_type": "execute_result"
    }
   ],
   "source": [
    "gdf.head()"
   ]
  },
  {
   "cell_type": "code",
   "execution_count": 14,
   "id": "1dd56a7d-1f80-432d-a38c-6264c0a58866",
   "metadata": {},
   "outputs": [],
   "source": [
    "gdf_somalia = gdf.loc[gdf['name'] == 'Somalia'] "
   ]
  },
  {
   "cell_type": "code",
   "execution_count": 15,
   "id": "e7cf0423-76c7-4e8e-9eb9-0ae66e071fbe",
   "metadata": {},
   "outputs": [
    {
     "data": {
      "text/html": [
       "<div>\n",
       "<style scoped>\n",
       "    .dataframe tbody tr th:only-of-type {\n",
       "        vertical-align: middle;\n",
       "    }\n",
       "\n",
       "    .dataframe tbody tr th {\n",
       "        vertical-align: top;\n",
       "    }\n",
       "\n",
       "    .dataframe thead th {\n",
       "        text-align: right;\n",
       "    }\n",
       "</style>\n",
       "<table border=\"1\" class=\"dataframe\">\n",
       "  <thead>\n",
       "    <tr style=\"text-align: right;\">\n",
       "      <th></th>\n",
       "      <th>name</th>\n",
       "      <th>geometry</th>\n",
       "    </tr>\n",
       "  </thead>\n",
       "  <tbody>\n",
       "    <tr>\n",
       "      <th>38</th>\n",
       "      <td>Somalia</td>\n",
       "      <td>MULTIPOLYGON (((41.57762 -1.66024, 41.57721 -1...</td>\n",
       "    </tr>\n",
       "  </tbody>\n",
       "</table>\n",
       "</div>"
      ],
      "text/plain": [
       "       name                                           geometry\n",
       "38  Somalia  MULTIPOLYGON (((41.57762 -1.66024, 41.57721 -1..."
      ]
     },
     "execution_count": 15,
     "metadata": {},
     "output_type": "execute_result"
    }
   ],
   "source": [
    "gdf_somalia"
   ]
  },
  {
   "cell_type": "code",
   "execution_count": 16,
   "id": "4be46faf-9da1-4e9b-a8a1-244d373cff94",
   "metadata": {},
   "outputs": [],
   "source": [
    "# If you want to check the results of a buffer\n",
    "# buffer value is defined in the same units as the CRS\n",
    "\n",
    "# gdf_somalia['geometry'] = gdf_somalia.geometry.buffer(-0.005)\n",
    "# gdf_somalia"
   ]
  },
  {
   "cell_type": "code",
   "execution_count": 17,
   "id": "08fbb455-22b5-4f91-8105-ed0a6ad91c75",
   "metadata": {},
   "outputs": [],
   "source": [
    "geom = geometry.Geometry(gdf_somalia.unary_union, gdf_somalia.crs)\n",
    "geom\n",
    "\n",
    "query = {'measurements': measurements,\n",
    "         'resolution': resolution,\n",
    "         'output_crs': output_crs,\n",
    "         }"
   ]
  },
  {
   "cell_type": "code",
   "execution_count": 18,
   "id": "33ab29fa-7c8d-4281-9b10-e260d45f41a7",
   "metadata": {},
   "outputs": [],
   "source": [
    "#load wofs alltime\n",
    "ds_alltime = dc.load(product='wofs_ls_summary_alltime',\n",
    "                     geopolygon = geom,\n",
    "                     **query)"
   ]
  },
  {
   "cell_type": "code",
   "execution_count": 19,
   "id": "e3da79c6-2071-472b-8ee7-327365ad8293",
   "metadata": {},
   "outputs": [
    {
     "data": {
      "text/plain": [
       "<matplotlib.collections.QuadMesh at 0x7f93d2bddf70>"
      ]
     },
     "execution_count": 19,
     "metadata": {},
     "output_type": "execute_result"
    },
    {
     "data": {
      "image/png": "[encoded data removed]",
      "text/plain": [
       "<Figure size 432x288 with 2 Axes>"
      ]
     },
     "metadata": {
      "needs_background": "light"
     },
     "output_type": "display_data"
    }
   ],
   "source": [
    "ds_alltime.frequency.plot()"
   ]
  },
  {
   "cell_type": "code",
   "execution_count": null,
   "id": "f64f3946-7189-40fc-b1a0-cbad2c332a1a",
   "metadata": {},
   "outputs": [],
   "source": [
    "ds = dc.load(product=\"wofs_ls_summary_annual\",\n",
    "                  time=('2020'),\n",
    "                  resampling='nearest',\n",
    "                  like=ds_alltime.geobox\n",
    "                  ).frequency"
   ]
  },
  {
   "cell_type": "code",
   "execution_count": null,
   "id": "be115c37-0248-4229-b0c5-4159f42f1b52",
   "metadata": {},
   "outputs": [],
   "source": [
    "ds.plot()"
   ]
  },
  {
   "cell_type": "markdown",
   "id": "623a1037-4efb-468e-af7a-3dcf94ee6b7f",
   "metadata": {},
   "source": [
    "### Mask NaNs"
   ]
  },
  {
   "cell_type": "code",
   "execution_count": null,
   "id": "e7131ebc-6fdf-4a31-b21f-e5ae5ad36688",
   "metadata": {},
   "outputs": [],
   "source": [
    "mask = xr_rasterize(gdf_somalia, ds)"
   ]
  },
  {
   "cell_type": "code",
   "execution_count": null,
   "id": "3f92afc7-15de-4b85-a1bc-1f99097888fa",
   "metadata": {},
   "outputs": [],
   "source": [
    "ds = ds.where(mask)"
   ]
  },
  {
   "cell_type": "code",
   "execution_count": null,
   "id": "c84399c2-52ed-43c3-9d97-974398669d84",
   "metadata": {},
   "outputs": [],
   "source": [
    "ds.plot()"
   ]
  },
  {
   "cell_type": "code",
   "execution_count": null,
   "id": "c32a57ce-42e7-4d06-9410-e2c3b34a0984",
   "metadata": {},
   "outputs": [],
   "source": [
    "ds.count()"
   ]
  },
  {
   "cell_type": "code",
   "execution_count": null,
   "id": "ed28e08d-f4e9-4e45-87a5-ed7f206789a3",
   "metadata": {},
   "outputs": [],
   "source": [
    "mask_alltime = xr_rasterize(gdf_somalia, ds_alltime)"
   ]
  },
  {
   "cell_type": "code",
   "execution_count": null,
   "id": "3eae8ac2-1501-4a7d-8d75-5e02f65e274e",
   "metadata": {},
   "outputs": [],
   "source": [
    "ds_alltime = ds_alltime.where(mask)"
   ]
  },
  {
   "cell_type": "code",
   "execution_count": null,
   "id": "6c27bc01-d90c-4a22-9390-1b9d18547739",
   "metadata": {},
   "outputs": [],
   "source": [
    "ds_alltime.frequency.plot()"
   ]
  },
  {
   "cell_type": "code",
   "execution_count": null,
   "id": "1939d017-e8a3-4b26-83fc-463951b6efe2",
   "metadata": {},
   "outputs": [],
   "source": [
    "ds_alltime.frequency.count()"
   ]
  },
  {
   "cell_type": "markdown",
   "id": "1a9f9ef2-6c30-434d-890a-c90f1fc1bbff",
   "metadata": {},
   "source": [
    "### Check number of thresholded values and compare to the original (unbuffered) function"
   ]
  },
  {
   "cell_type": "code",
   "execution_count": null,
   "id": "7784c635-3c7d-412b-98ae-d3d356c95788",
   "metadata": {},
   "outputs": [],
   "source": [
    "alltime_water = ds_alltime.frequency.where(ds_alltime.frequency > 0.6)\n",
    "alltime_water.count()"
   ]
  },
  {
   "cell_type": "code",
   "execution_count": null,
   "id": "ca209498-66c8-4b0d-bc62-f15f313043d3",
   "metadata": {},
   "outputs": [],
   "source": [
    "ds_water = ds.where(ds > 0.6)\n",
    "ds_water.count()"
   ]
  },
  {
   "cell_type": "code",
   "execution_count": null,
   "id": "d4c38c54-b1e2-4248-8bcc-f447aaf463eb",
   "metadata": {},
   "outputs": [],
   "source": [
    "ds_water.plot()"
   ]
  },
  {
   "cell_type": "code",
   "execution_count": null,
   "id": "1e620be6-03c6-411e-b8bd-908cea344bf2",
   "metadata": {},
   "outputs": [],
   "source": [
    "alltime_water.plot()"
   ]
  },
  {
   "cell_type": "markdown",
   "id": "aede638d-af1c-4b81-8545-4bdae30daa68",
   "metadata": {},
   "source": [
    "---\n",
    "\n",
    "## Additional information\n",
    "\n",
    "**License:** The code in this notebook is licensed under the [Apache License, Version 2.0](https://www.apache.org/licenses/LICENSE-2.0). \n",
    "Digital Earth Africa data is licensed under the [Creative Commons by Attribution 4.0](https://creativecommons.org/licenses/by/4.0/) license.\n",
    "\n",
    "**Contact:** If you need assistance, please post a question on the [Open Data Cube Slack channel](http://slack.opendatacube.org/) or on the [GIS Stack Exchange](https://gis.stackexchange.com/questions/ask?tags=open-data-cube) using the `open-data-cube` tag (you can view previously asked questions [here](https://gis.stackexchange.com/questions/tagged/open-data-cube)).\n",
    "\n",
    "**Compatible datacube version:**"
   ]
  },
  {
   "cell_type": "code",
   "execution_count": 21,
   "id": "b5027a63-d3c5-44ab-ab51-4592699ca706",
   "metadata": {},
   "outputs": [
    {
     "name": "stdout",
     "output_type": "stream",
     "text": [
      "1.8.6\n"
     ]
    }
   ],
   "source": [
    "print(datacube.__version__)"
   ]
  },
  {
   "cell_type": "markdown",
   "id": "f7b54bd4-2456-4091-a2e1-36146b72a844",
   "metadata": {},
   "source": [
    "**Last Tested:**"
   ]
  },
  {
   "cell_type": "code",
   "execution_count": 22,
   "id": "d79114c9-b6c2-40c0-baf0-e861447d7ae1",
   "metadata": {
    "tags": []
   },
   "outputs": [
    {
     "data": {
      "text/plain": [
       "'2022-01-13'"
      ]
     },
     "execution_count": 22,
     "metadata": {},
     "output_type": "execute_result"
    }
   ],
   "source": [
    "from datetime import datetime\n",
    "datetime.today().strftime('%Y-%m-%d')"
   ]
  }
 ],
 "metadata": {
  "kernelspec": {
   "display_name": "Python 3 (ipykernel)",
   "language": "python",
   "name": "python3"
  },
  "language_info": {
   "codemirror_mode": {
    "name": "ipython",
    "version": 3
   },
   "file_extension": ".py",
   "mimetype": "text/x-python",
   "name": "python",
   "nbconvert_exporter": "python",
   "pygments_lexer": "ipython3",
   "version": "3.8.10"
  }
 },
 "nbformat": 4,
 "nbformat_minor": 5
}
