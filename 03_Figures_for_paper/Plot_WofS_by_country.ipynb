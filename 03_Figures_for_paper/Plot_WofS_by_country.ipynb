{
 "cells": [
  {
   "cell_type": "markdown",
   "id": "5b13a065-3a30-4464-b50b-578d1ec07dc8",
   "metadata": {},
   "source": [
    "# Plotting WOfS data across Africa with country-boundary shapefile"
   ]
  },
  {
   "cell_type": "markdown",
   "id": "51b9675e-74ad-48b8-a82e-62de407edbd5",
   "metadata": {},
   "source": [
    "This plot compares surface water detected by Water Observations from Space between two chosen years. \n",
    "\n",
    "**Caveats**\n",
    "\n",
    "* This uses the WOfS annual summaries, it does not specify differences caused by longer-term trend conditions (such as drought), which should be investigated at a regional scale\n",
    "* Using native resolution (30m for WOfS) seems to have a fairly large impact on the results - resampling causes the loss of the smaller or more ephemeral waterbodies. This resolution and the resampling technique can be changed or specified in the `dc.load` statement. It may require a larger sandbox instance to run successfully"
   ]
  },
  {
   "cell_type": "markdown",
   "id": "2d914be4-6903-47d8-8b63-295a385cf495",
   "metadata": {},
   "source": [
    "## Load packages, connect to datacube"
   ]
  },
  {
   "cell_type": "code",
   "execution_count": 1,
   "id": "259e0f89-f2b1-457e-95af-ceb6297eac8c",
   "metadata": {},
   "outputs": [],
   "source": [
    "%matplotlib inline\n",
    "\n",
    "import datacube\n",
    "import gc\n",
    "import matplotlib.pyplot as plt\n",
    "import geopandas as gpd\n",
    "from datacube.utils import geometry\n",
    "import pandas as pd\n",
    "import matplotlib as mpl\n",
    "import xarray as xr\n",
    "from odc.algo import xr_reproject\n",
    "from datacube.utils.geometry import assign_crs\n",
    "\n",
    "from deafrica_tools.spatial import xr_rasterize\n",
    "from deafrica_tools.dask import create_local_dask_cluster\n",
    "\n",
    "dc = datacube.Datacube(app=\"WOfS-figure\")\n",
    "\n",
    "import warnings\n",
    "warnings.filterwarnings(\"ignore\", message=\"Iteration over multi-part geometries is deprecated and will be removed in \")"
   ]
  },
  {
   "cell_type": "code",
   "execution_count": 2,
   "id": "861564c5-2411-4ece-bb73-32b8e88add44",
   "metadata": {},
   "outputs": [
    {
     "data": {
      "text/html": [
       "<table style=\"border: 2px solid white;\">\n",
       "<tr>\n",
       "<td style=\"vertical-align: top; border: 0px solid white\">\n",
       "<h3 style=\"text-align: left;\">Client</h3>\n",
       "<ul style=\"text-align: left; list-style: none; margin: 0; padding: 0;\">\n",
       "  <li><b>Scheduler: </b>tcp://127.0.0.1:46509</li>\n",
       "  <li><b>Dashboard: </b><a href='/user/chad/proxy/8787/status' target='_blank'>/user/chad/proxy/8787/status</a></li>\n",
       "</ul>\n",
       "</td>\n",
       "<td style=\"vertical-align: top; border: 0px solid white\">\n",
       "<h3 style=\"text-align: left;\">Cluster</h3>\n",
       "<ul style=\"text-align: left; list-style:none; margin: 0; padding: 0;\">\n",
       "  <li><b>Workers: </b>1</li>\n",
       "  <li><b>Cores: </b>31</li>\n",
       "  <li><b>Memory: </b>254.70 GB</li>\n",
       "</ul>\n",
       "</td>\n",
       "</tr>\n",
       "</table>"
      ],
      "text/plain": [
       "<Client: 'tcp://127.0.0.1:46509' processes=1 threads=31, memory=254.70 GB>"
      ]
     },
     "metadata": {},
     "output_type": "display_data"
    }
   ],
   "source": [
    "create_local_dask_cluster()"
   ]
  },
  {
   "cell_type": "markdown",
   "id": "ad1c77d7-902a-44e4-b6ed-dfbd754091d2",
   "metadata": {
    "tags": []
   },
   "source": [
    "## 1 - Processing WOfS per country\n",
    "The final step of this section outputs a new shapefile specific to the data parameters and time periods identified. Once you have generated the shapefile, you can run **2 - Plot WOfS with country boundaries** without repeating this section."
   ]
  },
  {
   "cell_type": "markdown",
   "id": "05a9828b-1cd8-43ef-aae7-46ca4082e6e3",
   "metadata": {},
   "source": [
    "Country boundary shapefile sourced from [openAFRICA](https://open.africa/dataset/africa-shapefiles), with the file last updated on April 21, 2020."
   ]
  },
  {
   "cell_type": "markdown",
   "id": "5fa8a2c4-a539-4ade-aca5-19e538edd198",
   "metadata": {},
   "source": [
    "### Load shapefile"
   ]
  },
  {
   "cell_type": "code",
   "execution_count": 3,
   "id": "1c47a71b-fcaa-4e7e-abcf-45cd52332e9e",
   "metadata": {},
   "outputs": [
    {
     "data": {
      "text/html": [
       "<div>\n",
       "<style scoped>\n",
       "    .dataframe tbody tr th:only-of-type {\n",
       "        vertical-align: middle;\n",
       "    }\n",
       "\n",
       "    .dataframe tbody tr th {\n",
       "        vertical-align: top;\n",
       "    }\n",
       "\n",
       "    .dataframe thead th {\n",
       "        text-align: right;\n",
       "    }\n",
       "</style>\n",
       "<table border=\"1\" class=\"dataframe\">\n",
       "  <thead>\n",
       "    <tr style=\"text-align: right;\">\n",
       "      <th></th>\n",
       "      <th>name</th>\n",
       "      <th>geometry</th>\n",
       "    </tr>\n",
       "  </thead>\n",
       "  <tbody>\n",
       "    <tr>\n",
       "      <th>0</th>\n",
       "      <td>Sudan</td>\n",
       "      <td>MULTIPOLYGON (((38.58148 18.02542, 38.58203 18...</td>\n",
       "    </tr>\n",
       "    <tr>\n",
       "      <th>1</th>\n",
       "      <td>Angola</td>\n",
       "      <td>MULTIPOLYGON (((11.79481 -16.81925, 11.79375 -...</td>\n",
       "    </tr>\n",
       "    <tr>\n",
       "      <th>2</th>\n",
       "      <td>Benin</td>\n",
       "      <td>MULTIPOLYGON (((1.86343 6.28872, 1.86292 6.288...</td>\n",
       "    </tr>\n",
       "    <tr>\n",
       "      <th>3</th>\n",
       "      <td>Botswana</td>\n",
       "      <td>POLYGON ((25.17447 -17.77881, 25.18476 -17.783...</td>\n",
       "    </tr>\n",
       "    <tr>\n",
       "      <th>4</th>\n",
       "      <td>Burkina Faso</td>\n",
       "      <td>POLYGON ((-0.45567 15.08082, -0.45411 15.07937...</td>\n",
       "    </tr>\n",
       "  </tbody>\n",
       "</table>\n",
       "</div>"
      ],
      "text/plain": [
       "           name                                           geometry\n",
       "0         Sudan  MULTIPOLYGON (((38.58148 18.02542, 38.58203 18...\n",
       "1        Angola  MULTIPOLYGON (((11.79481 -16.81925, 11.79375 -...\n",
       "2         Benin  MULTIPOLYGON (((1.86343 6.28872, 1.86292 6.288...\n",
       "3      Botswana  POLYGON ((25.17447 -17.77881, 25.18476 -17.783...\n",
       "4  Burkina Faso  POLYGON ((-0.45567 15.08082, -0.45411 15.07937..."
      ]
     },
     "execution_count": 3,
     "metadata": {},
     "output_type": "execute_result"
    }
   ],
   "source": [
    "vector_file = \"data/african_countries.shp\"\n",
    "gdf = gpd.read_file(vector_file)\n",
    "gdf.head()"
   ]
  },
  {
   "cell_type": "markdown",
   "id": "643d77ca-6c7e-4647-b455-bd4f5278280f",
   "metadata": {},
   "source": [
    "### Analysis parameters"
   ]
  },
  {
   "cell_type": "code",
   "execution_count": 4,
   "id": "6a17829d-6bb4-452b-98b1-a0de061224aa",
   "metadata": {},
   "outputs": [],
   "source": [
    "# Set the year you want to compare\n",
    "year = '2020'"
   ]
  },
  {
   "cell_type": "code",
   "execution_count": 5,
   "id": "3e91f97a-00ab-420c-a9fe-e0ff6bf86d44",
   "metadata": {},
   "outputs": [],
   "source": [
    "attribute_col = 'name'\n",
    "measurements = ['frequency']\n",
    "resolution = (-30,30)\n",
    "output_crs = 'EPSG:6933'"
   ]
  },
  {
   "cell_type": "code",
   "execution_count": 6,
   "id": "4f0c938f-2b5a-46b4-a11b-1f8cc0c6ff5e",
   "metadata": {},
   "outputs": [],
   "source": [
    "query = {'measurements': measurements,\n",
    "         'resolution': resolution,\n",
    "         'output_crs': output_crs,\n",
    "         'dask_chunks':dict(x=1000,y=1000)\n",
    "         }"
   ]
  },
  {
   "cell_type": "markdown",
   "id": "af8aeb7c-8232-4823-bf11-2dd4609deadc",
   "metadata": {},
   "source": [
    "### Define function to calculate surface water per polygon\n",
    "`gdf.iloc[0:5].iterrows():` can be used to test a smaller number of polygons first.\n",
    "\n",
    "Arguments:\n",
    "* `gdf` the geodataframe of the country boundary shapefile\n",
    "* `year` the designated year to investigate\n",
    "* `lower` frequency (0-1) lower bound for water (anything above this is included)\n",
    "* `upper` frequency upper bound (anything above this is excluded) - max value of `1.0`"
   ]
  },
  {
   "cell_type": "code",
   "execution_count": 7,
   "id": "6ac6d72b-ac25-4adb-950b-7f5b34600af5",
   "metadata": {},
   "outputs": [],
   "source": [
    "#store results in dict\n",
    "year_area = {}\n",
    "area_mean = {}\n",
    "area_std = {}\n",
    "area_min = {}\n",
    "area_idxmin = {}\n",
    "area_max = {}\n",
    "area_idxmax = {}\n",
    "diff = {}\n",
    "change_perc = {} \n",
    "anomaly = {}"
   ]
  },
  {
   "cell_type": "code",
   "execution_count": null,
   "id": "7e60edce-f761-4b60-baa5-82a77597a6a5",
   "metadata": {},
   "outputs": [
    {
     "name": "stdout",
     "output_type": "stream",
     "text": [
      " Feature 01/55\r"
     ]
    }
   ],
   "source": [
    "# A progress indicator\n",
    "i = 0\n",
    "\n",
    "# Loop through polygons in geodataframe and extract satellite data\n",
    "for index, row in gdf.iterrows():\n",
    "\n",
    "    print(\" Feature {:02}/{:02}\\r\".format(i + 1, len(gdf)),\n",
    "                  end='')\n",
    "\n",
    "    # Get the geometry\n",
    "    geom = geometry.Geometry(row.geometry.__geo_interface__,\n",
    "                             geometry.CRS(f'EPSG:{gdf.crs.to_epsg()}'))\n",
    "\n",
    "    # Update dc query with geometry      \n",
    "    query.update({'geopolygon': geom}) \n",
    "\n",
    "    # Load wofs\n",
    "    ds = dc.load(product='wofs_ls_summary_annual',\n",
    "                 time=('2000', '2020'),\n",
    "                 **query)\n",
    "    \n",
    "    # Generate a polygon mask to keep only data within the polygon\n",
    "    mask = xr_rasterize(gdf.iloc[[index]], ds, verbose=False)\n",
    "    ds = ds.where(mask)\n",
    "    \n",
    "    #threshold\n",
    "    ds = ds.frequency > 0.01\n",
    "    \n",
    "    #calculate area of pixels\n",
    "    area_per_pixel = query[\"resolution\"][1]**2 / 1000**2\n",
    "    \n",
    "    #area of water for each year\n",
    "    g0, g1, g2 = gc.get_threshold()\n",
    "    gc.set_threshold(g0*2, g1*2, g2*2)\n",
    "\n",
    "    ds_area = (ds.sum(dim=['x', 'y']) * area_per_pixel).compute()\n",
    "    \n",
    "    #summary stats for area of water from 1984-2020\n",
    "    ds_area_mean = ds_area.mean().values.item()\n",
    "    ds_area_std = ds_area.std().values.item()\n",
    "    ds_area_max = ds_area.max().values.item()\n",
    "    ds_area_idxmax = int(ds_area.idxmax().dt.year.values)\n",
    "    ds_area_min = ds_area.min().values.item()\n",
    "    ds_area_idxmin = int(ds_area.idxmin().dt.year.values)\n",
    "    \n",
    "    #area in year of interest\n",
    "    ds_area_year = ds_area.sel(time=year).values.item()\n",
    "    \n",
    "    #compare area\n",
    "    diff_area = ds_area_year - ds_area_mean\n",
    "    diff_percent = diff_area / ds_area_mean * 100\n",
    "    anomaly_year = (ds_area_year - ds_area_mean) / ds_area_std\n",
    "    \n",
    "    #output results in dict\n",
    "    country=str(row[attribute_col])\n",
    "    \n",
    "    year_area.update({country: ds_area_year})\n",
    "    area_mean.update({country: ds_area_mean})\n",
    "    area_std.update({country: ds_area_std})\n",
    "    area_max.update({country: ds_area_max})\n",
    "    area_min.update({country: ds_area_min})\n",
    "    area_idxmin.update({country: ds_area_idxmin})\n",
    "    area_idxmax.update({country: ds_area_idxmax}) \n",
    "    diff.update({country: diff_area})\n",
    "    change_perc.update({country: diff_percent})\n",
    "    anomaly.update({country: anomaly_year})\n",
    "    i += 1"
   ]
  },
  {
   "cell_type": "code",
   "execution_count": null,
   "id": "53dcadb6-4ab5-4252-89a9-1dfd69a37015",
   "metadata": {},
   "outputs": [],
   "source": [
    "df = pd.DataFrame.from_dict(\n",
    "    [\n",
    "        year_area,\n",
    "        area_mean,\n",
    "        area_std,\n",
    "        area_max,\n",
    "        area_min,\n",
    "        area_idxmax,\n",
    "        area_idxmin,\n",
    "        diff,\n",
    "        change_perc,\n",
    "        anomaly,\n",
    "    ]\n",
    ").T.rename(\n",
    "    {\n",
    "        0: \"Water Extent \" + year + \" (km2)\",\n",
    "        1: \"Mean Water Extent 2000-2020 (km2)\",\n",
    "        2: \"Std. Dev. Water Extent 2000-2020 (km2)\",\n",
    "        3: \"Max Water Extent 2000-2020 (km2)\",\n",
    "        4: \"Min Water Extent 2000-2020 (km2)\",\n",
    "        5: \"Year of Max Water Extent 2000-2020 (km2)\",\n",
    "        6: \"Year of Min Water Extent 2000-2020 (km2)\",\n",
    "        7: \"Difference in Water Extent: \" + year + \" - Mean (km2)\",\n",
    "        8: \"Percentage Difference in Water Extent: \" + year + \" - Mean (km2)\",\n",
    "        9: \"Standardised Anomaly in Water Extent: (\" + year + \" - Mean) / Std.dev.\",\n",
    "    },\n",
    "    axis=1,\n",
    ")\n",
    "\n",
    "df.head()"
   ]
  },
  {
   "cell_type": "markdown",
   "id": "dc3044d0-1c35-4548-a945-4bce40c9ec2d",
   "metadata": {},
   "source": [
    "## Join results onto geodataframe and export"
   ]
  },
  {
   "cell_type": "code",
   "execution_count": null,
   "id": "2d249288-5054-4142-9107-557b19979887",
   "metadata": {},
   "outputs": [],
   "source": [
    "gdf = gdf.join(df, 'name')"
   ]
  },
  {
   "cell_type": "code",
   "execution_count": null,
   "id": "4ecdc40d-3cb7-4b5d-b9e5-57169809b221",
   "metadata": {},
   "outputs": [],
   "source": [
    "gdf.to_file('results/geojsons/wofs_water_extent_africa_'+year+'.geojson')"
   ]
  },
  {
   "cell_type": "markdown",
   "id": "88fc0155-973c-4077-819a-25045c620d70",
   "metadata": {},
   "source": [
    "## Explore results"
   ]
  },
  {
   "cell_type": "code",
   "execution_count": null,
   "id": "f182cf34-e8ff-42e0-8856-a9d36291a2a5",
   "metadata": {},
   "outputs": [],
   "source": [
    "#simplify so plotting is fast\n",
    "gdf = gdf.to_crs('epsg:6933')\n",
    "gdf['geometry'] = gdf['geometry'].simplify(2500)\n"
   ]
  },
  {
   "cell_type": "code",
   "execution_count": null,
   "id": "ef5d4af9-672d-48ab-8915-691780acbea8",
   "metadata": {},
   "outputs": [],
   "source": [
    "gdf.explore(column=)"
   ]
  },
  {
   "cell_type": "markdown",
   "id": "8bf0246c-eb87-4af2-b310-fd660e55ea09",
   "metadata": {
    "tags": []
   },
   "source": [
    "## 2 - Plot WOfS with country boundaries\n",
    "**Use this section to edit existing plot title, bounds, etc.**"
   ]
  },
  {
   "cell_type": "markdown",
   "id": "9b9d87c8-c027-4409-b771-ab9d5fdd00b2",
   "metadata": {},
   "source": [
    "If you have successfully exported the previous shapefile but started a new instance, there is no need to re-process the data. It can be read in from the shapefile by uncommenting and running the code below. Be sure the vector file path is to the correct shapefile title."
   ]
  },
  {
   "cell_type": "code",
   "execution_count": null,
   "id": "193b99f4-bcfc-4b25-9b7a-8abd9322c312",
   "metadata": {},
   "outputs": [],
   "source": [
    "# vector_file = \"Plot_WOfS_by_country-data/wofs_pc_change_2020_vs_alltime_60-100.geojson\"\n",
    "# gdf = gpd.read_file(vector_file)"
   ]
  },
  {
   "cell_type": "code",
   "execution_count": null,
   "id": "99b8073f-b179-4101-b10b-8b10bc87d447",
   "metadata": {},
   "outputs": [],
   "source": [
    "gdf.head()"
   ]
  },
  {
   "cell_type": "markdown",
   "id": "7cc9ec19-5ba1-4835-b3ea-5049585bda5c",
   "metadata": {},
   "source": [
    "### Customise the plot"
   ]
  },
  {
   "cell_type": "code",
   "execution_count": null,
   "id": "11950f98-b986-4b38-bbce-7fa59d7ecdc9",
   "metadata": {},
   "outputs": [],
   "source": [
    "# Define plot and colourbar axes\n",
    "fig, ax = plt.subplots(1,1, figsize=(10,10))\n",
    "fig.subplots_adjust(bottom=0.2)\n",
    "cax = fig.add_axes([0.16, 0.15, 0.70, 0.03])\n",
    "\n",
    "# Define colour map\n",
    "cmap = mpl.cm.RdYlBu\n",
    "bounds = list(range(-100, 101, 10))\n",
    "norm = mpl.colors.BoundaryNorm(bounds, cmap.N)#, extend='both')\n",
    "cbar = mpl.colorbar.ColorbarBase(cax, cmap=cmap,\n",
    "                                norm=norm,\n",
    "                                orientation='horizontal')\n",
    "\n",
    "# Define colourbar labelling\n",
    "cbar.set_ticks([]) #list(range(-100, 101, 25)))\n",
    "# cbar.set_ticklabels(list('{:2}%'.format(i) for i in (list(range(-100, 101, 25)))))\n",
    "# cbar.set_label(\"% change\", fontsize='14')\n",
    "\n",
    "# Turn off lon-lat ticks and labels\n",
    "ax.set_yticklabels([])\n",
    "ax.set_xticklabels([])\n",
    "ax.set_xticks([])\n",
    "ax.set_yticks([])\n",
    "\n",
    "# Remove frame\n",
    "ax.spines['top'].set_visible(False)\n",
    "ax.spines['right'].set_visible(False)\n",
    "ax.spines['bottom'].set_visible(False)\n",
    "ax.spines['left'].set_visible(False)\n",
    "\n",
    "# plot 'pc_change' and 'geometry' boundary lines\n",
    "gdf.plot('pc_change', ax=ax, cmap=cmap, vmin=-100, vmax=100, norm=norm)\n",
    "gdf.geometry.plot(ax=ax, linewidth=0.8, edgecolor='black', facecolor=\"none\")\n",
    "\n",
    "# Additional text boxes\n",
    "ax.text(-25, -52, s=\"Less water than usual\", color='black', fontsize='14')\n",
    "ax.text(34, -52, s=\"More water than usual\", color='black', fontsize='14')\n",
    "\n",
    "# Plot title - include frequency range\n",
    "ax.set_title(\"Surface water area \"+str(int(lower*100))+\"-\"+str(int(upper*100))+\"% \"+year+\"\\nDifference from all-time summary\", fontsize='18')\n",
    "#Plot title - concise title\n",
    "# ax.set_title(\"Surface water area - \"+year+\"\\nDifference from all-time summary\", fontsize='18')\n",
    "\n",
    "\n",
    "# Export figure\n",
    "fig.savefig('wofs_pc_change_'+year+'_vs_alltime_'+str(int(lower*100))+'-'+str(int(upper*100))+\"_\"+str(resolution[1])+'m-res.png', \n",
    "            bbox_inches='tight',\n",
    "            dpi=200, \n",
    "            facecolor=\"white\")"
   ]
  },
  {
   "cell_type": "markdown",
   "id": "78dc3ce4-70b1-40c8-adae-b962496bf5f2",
   "metadata": {
    "tags": []
   },
   "source": [
    "## 3 - Average rainfall and anomalies for the given year\n",
    "This can be used to sense-check a country that has a year which deviates a lot from the all-time statistics. Check the `Plot_WOfS_by_country-data` folder to see if CHIRPS for that year has already been pre-calculated. If so, skip down to the plotting section."
   ]
  },
  {
   "cell_type": "code",
   "execution_count": null,
   "id": "07b3d184-33ef-4776-9f2d-c41c99e116de",
   "metadata": {},
   "outputs": [],
   "source": [
    "vector_file = \"Plot_WOfS_by_country-data/african_countries.shp\"\n",
    "gdf = gpd.read_file(vector_file)"
   ]
  },
  {
   "cell_type": "code",
   "execution_count": null,
   "id": "4bb41e45-bb1a-44b5-ab2d-842ae80b9a3e",
   "metadata": {},
   "outputs": [],
   "source": [
    "attribute_col = 'name'\n",
    "year = '2015'\n",
    "\n",
    "resolution = (-5000, 5000) # native CHIRPS resolution\n",
    "output_crs = 'EPSG:6933'\n",
    "measurements = ['rainfall']\n",
    "\n",
    "query = {'measurements': measurements,\n",
    "         'resolution': resolution,\n",
    "         'output_crs': output_crs,\n",
    "         }"
   ]
  },
  {
   "cell_type": "markdown",
   "id": "e70d60af-2639-474b-85a2-ee47df33fe88",
   "metadata": {
    "tags": []
   },
   "source": [
    "### Long-term average (climatology) per country using CHPclim\n",
    "This gives a suitable baseline to compare the yearly CHIRPS data to. The CHPclim netcdf summary file is generated in the `digitalearthafrica/thematic-layers` repository and has been copied here to preserve filepaths."
   ]
  },
  {
   "cell_type": "code",
   "execution_count": null,
   "id": "f05c30c2-d1ff-41ff-80a5-10fe746b0bab",
   "metadata": {
    "tags": []
   },
   "outputs": [],
   "source": [
    "def rainfall_per_polygon(gdf, year):\n",
    "    num_pixels_year = {}\n",
    "    num_pixels_alltime = {}\n",
    "\n",
    "    # A progress indicator\n",
    "    i = 0\n",
    "\n",
    "    # Loop through polygons in geodataframe and extract satellite data\n",
    "    for index, row in gdf.iterrows():\n",
    "\n",
    "        print(\" Feature {:02}/{:02}\\r\".format(i + 1, len(gdf)),\n",
    "                      end='')\n",
    "\n",
    "        # Get the geometry\n",
    "        geom = geometry.Geometry(row.geometry.__geo_interface__,\n",
    "                                 geometry.CRS(f'EPSG:{gdf.crs.to_epsg()}'))\n",
    "\n",
    "        # Update dc query with geometry      \n",
    "        query.update({'geopolygon': geom}) \n",
    "\n",
    "        # Load CHIRPS monthly (hide print statements)\n",
    "        with HiddenPrints():\n",
    "            ds = dc.load(product=['rainfall_chirps_monthly'],\n",
    "                             time= year,\n",
    "                             group_by='solar_day',\n",
    "                             measurements = ['rainfall'],\n",
    "                             resolution = (-5000, 5000), # native CHIRPS resolution\n",
    "                             output_crs = 'EPSG:6933')\n",
    "\n",
    "        # set -9999 no-data values to NaN\n",
    "        ds = ds.where(ds !=-9999.)      \n",
    "\n",
    "        # find sum over 12 months (ie total for that year)\n",
    "        ds = ds.sum(dim='time')\n",
    "\n",
    "        # Load CHPclim climatology and set to same projection as monthly\n",
    "        ds_chpclim = assign_crs(xr.open_dataarray('Plot_WOfS_by_country-data/chpclim_africa_12month_sum.nc'),  \n",
    "                                    crs='epsg:4326')\n",
    "        ds_chpclim = xr_reproject(ds_chpclim, ds.geobox)\n",
    "        ds_chpclim = assign_crs(ds_chpclim, crs=ds.geobox.crs)\n",
    "\n",
    "        # Generate a polygon mask to keep only data within the polygon\n",
    "        with HiddenPrints():\n",
    "            mask = xr_rasterize(gdf.iloc[[index]], ds)\n",
    "            mask_chpclim = xr_rasterize(gdf.iloc[[index]], ds_chpclim)\n",
    "\n",
    "        # Mask dataset to set pixels outside the polygon to `NaN`\n",
    "        ds = ds.where(mask)\n",
    "        ds_chpclim = ds_chpclim.where(mask_chpclim)\n",
    "\n",
    "        # Find mean rainfall over country area \n",
    "        ds = ds.mean(dim=['x','y'])\n",
    "        ds_chpclim = ds_chpclim.mean(dim=['x','y'])\n",
    "\n",
    "        # Append results to dictionary\n",
    "        num_pixels_year.update({str(row[attribute_col]) : ds.rainfall.values.flatten()[0]})\n",
    "        num_pixels_alltime.update({str(row[attribute_col]) : ds_chpclim.values.flatten()[0]})\n",
    "\n",
    "        # Update counter\n",
    "        i += 1\n",
    "        \n",
    "    return num_pixels_year, num_pixels_alltime"
   ]
  },
  {
   "cell_type": "code",
   "execution_count": null,
   "id": "cfbe96fe-6fab-49c3-87e7-67cc4fd20934",
   "metadata": {},
   "outputs": [],
   "source": [
    "chirps_year, chpclim_year = rainfall_per_polygon(gdf, year)"
   ]
  },
  {
   "cell_type": "code",
   "execution_count": null,
   "id": "10728dd8-b84a-4fcb-b424-c08543581ab5",
   "metadata": {},
   "outputs": [],
   "source": [
    "# Assign to geodataframe\n",
    "pd_chirps = pd.Series(chirps_year)\n",
    "pd_chpclim = pd.Series(chpclim_year)\n",
    "pdrain_diff = pd_chirps - pd_chpclim\n",
    "\n",
    "gdf = gdf.assign(avg_chirps=pd_chirps.values)\n",
    "gdf = gdf.assign(avg_chpclim=pd_chpclim.values)\n",
    "gdf = gdf.assign(rain_diff=pdrain_diff.values)\n",
    "\n",
    "# Calculate percentage difference\n",
    "rain_pc_change = (gdf.rain_diff/gdf.avg_chpclim*100).fillna(0)\n",
    "gdf = gdf.assign(pc_rain=rain_pc_change.values)"
   ]
  },
  {
   "cell_type": "code",
   "execution_count": null,
   "id": "d8023879-82fc-44bc-8eee-8e0d6c9b32c1",
   "metadata": {},
   "outputs": [],
   "source": [
    "gdf.head()"
   ]
  },
  {
   "cell_type": "code",
   "execution_count": null,
   "id": "dccc1da1-1e6d-420e-9a98-7184e78e7750",
   "metadata": {
    "tags": []
   },
   "outputs": [],
   "source": [
    "# Export average CHIRPS for that year, and CHPclim, per country as geojson\n",
    "gdf.to_file(\"Plot_WOfS_by_country-data/chirps_per_country_\"+year+\"_5km.geojson\", driver='GeoJSON')"
   ]
  },
  {
   "cell_type": "markdown",
   "id": "6489b8c1-e81d-4b67-9f06-fcda96d704ab",
   "metadata": {
    "tags": []
   },
   "source": [
    "## 4 - Plot rainfall anomalies, to compare to WOfS"
   ]
  },
  {
   "cell_type": "markdown",
   "id": "721e4d07-798f-4235-8094-ca356ba9f355",
   "metadata": {},
   "source": [
    "If the data for that year has previously been generated, uncomment and import the data using the file read code below."
   ]
  },
  {
   "cell_type": "code",
   "execution_count": null,
   "id": "efefbee1-3793-49bc-b5a0-a233640cc525",
   "metadata": {},
   "outputs": [],
   "source": [
    "# vector_file = \"Plot_WOfS_by_country-data/chirps_per_country_\"+year+\"_5km.geojson\"\n",
    "# gdf = gpd.read_file(vector_file)"
   ]
  },
  {
   "cell_type": "code",
   "execution_count": null,
   "id": "ab0c09c1-e7de-4d6a-88dc-c09be3be0ece",
   "metadata": {},
   "outputs": [],
   "source": [
    "# Define plot and colourbar axes\n",
    "fig, ax = plt.subplots(1,1, figsize=(10,10))\n",
    "fig.subplots_adjust(bottom=0.2)\n",
    "cax = fig.add_axes([0.16, 0.15, 0.70, 0.03])\n",
    "\n",
    "# Define colour map\n",
    "cmap = mpl.cm.RdYlBu\n",
    "bounds = list(range(-100, 101, 10))\n",
    "norm = mpl.colors.BoundaryNorm(bounds, cmap.N)#, extend='both')\n",
    "cbar = mpl.colorbar.ColorbarBase(cax, cmap=cmap,\n",
    "                                norm=norm,\n",
    "                                orientation='horizontal')\n",
    "\n",
    "# Define colourbar labelling\n",
    "cbar.set_ticks([])\n",
    "# cbar.set_ticklabels(list('{:2}%'.format(i) for i in (list(range(-100, 101, 25)))))\n",
    "# cbar.set_label(\"Rainfall (mm)\", fontsize='14')\n",
    "\n",
    "# Turn off lon-lat ticks and labels\n",
    "ax.set_yticklabels([])\n",
    "ax.set_xticklabels([])\n",
    "ax.set_xticks([])\n",
    "ax.set_yticks([])\n",
    "\n",
    "# Remove frame\n",
    "ax.spines['top'].set_visible(False)\n",
    "ax.spines['right'].set_visible(False)\n",
    "ax.spines['bottom'].set_visible(False)\n",
    "ax.spines['left'].set_visible(False)\n",
    "\n",
    "# plot 'pc_change' and 'geometry' boundary lines\n",
    "gdf.plot('pc_rain', ax=ax, cmap=cmap, norm=norm)\n",
    "gdf.geometry.plot(ax=ax, linewidth=0.8, edgecolor='black', facecolor=\"none\")\n",
    "\n",
    "# Additional text boxes\n",
    "ax.text(-25, -52, s=\"Less rain than usual\", color='black', fontsize='14')\n",
    "ax.text(34, -52, s=\"More rain than usual\", color='black', fontsize='14')\n",
    "\n",
    "# Plot title\n",
    "ax.set_title(\"Rainfall anomaly \"+year+\" - CHIRPS\", fontsize='18')\n",
    "\n",
    "# Export figure\n",
    "fig.savefig('rainfall_anomaly_per_country_'+year+'_5km.png', \n",
    "            bbox_inches='tight',\n",
    "            dpi=200, \n",
    "            facecolor=\"white\")"
   ]
  },
  {
   "cell_type": "markdown",
   "id": "3804dccd-6c37-4beb-b5c7-8caa7b8c1546",
   "metadata": {
    "tags": []
   },
   "source": [
    "## 4 - Investigate a single country\n",
    "\n",
    "Use this section to do any of the following\n",
    "* plot a single country of data\n",
    "* verify the function defined in Part (1) \n",
    "* check the effects of a boundary buffer on the results "
   ]
  },
  {
   "cell_type": "code",
   "execution_count": null,
   "id": "c1bab8f7-7711-4b13-bf0c-9baa2438c5ba",
   "metadata": {},
   "outputs": [],
   "source": [
    "# import the original country shapefile\n",
    "vector_file = \"african_countries.shp\"\n",
    "gdf = gpd.read_file(vector_file)"
   ]
  },
  {
   "cell_type": "code",
   "execution_count": null,
   "id": "3eb284ca-120d-4eb4-88ae-b108e125ba91",
   "metadata": {},
   "outputs": [],
   "source": [
    "gdf.head()"
   ]
  },
  {
   "cell_type": "code",
   "execution_count": null,
   "id": "1dd56a7d-1f80-432d-a38c-6264c0a58866",
   "metadata": {},
   "outputs": [],
   "source": [
    "gdf_somalia = gdf.loc[gdf['name'] == 'Somalia'] "
   ]
  },
  {
   "cell_type": "code",
   "execution_count": null,
   "id": "e7cf0423-76c7-4e8e-9eb9-0ae66e071fbe",
   "metadata": {},
   "outputs": [],
   "source": [
    "gdf_somalia"
   ]
  },
  {
   "cell_type": "code",
   "execution_count": null,
   "id": "4be46faf-9da1-4e9b-a8a1-244d373cff94",
   "metadata": {},
   "outputs": [],
   "source": [
    "# If you want to check the results of a buffer\n",
    "# buffer value is defined in the same units as the CRS\n",
    "\n",
    "# gdf_somalia['geometry'] = gdf_somalia.geometry.buffer(-0.005)\n",
    "# gdf_somalia"
   ]
  },
  {
   "cell_type": "code",
   "execution_count": null,
   "id": "08fbb455-22b5-4f91-8105-ed0a6ad91c75",
   "metadata": {},
   "outputs": [],
   "source": [
    "geom = geometry.Geometry(gdf_somalia.unary_union, gdf_somalia.crs)\n",
    "geom\n",
    "\n",
    "query = {'measurements': measurements,\n",
    "         'resolution': resolution,\n",
    "         'output_crs': output_crs,\n",
    "         }"
   ]
  },
  {
   "cell_type": "code",
   "execution_count": null,
   "id": "33ab29fa-7c8d-4281-9b10-e260d45f41a7",
   "metadata": {},
   "outputs": [],
   "source": [
    "#load wofs alltime\n",
    "ds_alltime = dc.load(product='wofs_ls_summary_alltime',\n",
    "                     geopolygon = geom,\n",
    "                     **query)"
   ]
  },
  {
   "cell_type": "code",
   "execution_count": null,
   "id": "e3da79c6-2071-472b-8ee7-327365ad8293",
   "metadata": {},
   "outputs": [],
   "source": [
    "ds_alltime.frequency.plot()"
   ]
  },
  {
   "cell_type": "code",
   "execution_count": null,
   "id": "f64f3946-7189-40fc-b1a0-cbad2c332a1a",
   "metadata": {},
   "outputs": [],
   "source": [
    "ds = dc.load(product=\"wofs_ls_summary_annual\",\n",
    "                  time=('2020'),\n",
    "                  resampling='nearest',\n",
    "                  like=ds_alltime.geobox\n",
    "                  ).frequency"
   ]
  },
  {
   "cell_type": "code",
   "execution_count": null,
   "id": "be115c37-0248-4229-b0c5-4159f42f1b52",
   "metadata": {},
   "outputs": [],
   "source": [
    "ds.plot()"
   ]
  },
  {
   "cell_type": "markdown",
   "id": "623a1037-4efb-468e-af7a-3dcf94ee6b7f",
   "metadata": {},
   "source": [
    "### Mask NaNs"
   ]
  },
  {
   "cell_type": "code",
   "execution_count": null,
   "id": "e7131ebc-6fdf-4a31-b21f-e5ae5ad36688",
   "metadata": {},
   "outputs": [],
   "source": [
    "mask = xr_rasterize(gdf_somalia, ds)"
   ]
  },
  {
   "cell_type": "code",
   "execution_count": null,
   "id": "3f92afc7-15de-4b85-a1bc-1f99097888fa",
   "metadata": {},
   "outputs": [],
   "source": [
    "ds = ds.where(mask)"
   ]
  },
  {
   "cell_type": "code",
   "execution_count": null,
   "id": "c84399c2-52ed-43c3-9d97-974398669d84",
   "metadata": {},
   "outputs": [],
   "source": [
    "ds.plot()"
   ]
  },
  {
   "cell_type": "code",
   "execution_count": null,
   "id": "c32a57ce-42e7-4d06-9410-e2c3b34a0984",
   "metadata": {},
   "outputs": [],
   "source": [
    "ds.count()"
   ]
  },
  {
   "cell_type": "code",
   "execution_count": null,
   "id": "ed28e08d-f4e9-4e45-87a5-ed7f206789a3",
   "metadata": {},
   "outputs": [],
   "source": [
    "mask_alltime = xr_rasterize(gdf_somalia, ds_alltime)"
   ]
  },
  {
   "cell_type": "code",
   "execution_count": null,
   "id": "3eae8ac2-1501-4a7d-8d75-5e02f65e274e",
   "metadata": {},
   "outputs": [],
   "source": [
    "ds_alltime = ds_alltime.where(mask)"
   ]
  },
  {
   "cell_type": "code",
   "execution_count": null,
   "id": "6c27bc01-d90c-4a22-9390-1b9d18547739",
   "metadata": {},
   "outputs": [],
   "source": [
    "ds_alltime.frequency.plot()"
   ]
  },
  {
   "cell_type": "code",
   "execution_count": null,
   "id": "1939d017-e8a3-4b26-83fc-463951b6efe2",
   "metadata": {},
   "outputs": [],
   "source": [
    "ds_alltime.frequency.count()"
   ]
  },
  {
   "cell_type": "markdown",
   "id": "1a9f9ef2-6c30-434d-890a-c90f1fc1bbff",
   "metadata": {},
   "source": [
    "### Check number of thresholded values and compare to the original (unbuffered) function"
   ]
  },
  {
   "cell_type": "code",
   "execution_count": null,
   "id": "7784c635-3c7d-412b-98ae-d3d356c95788",
   "metadata": {},
   "outputs": [],
   "source": [
    "alltime_water = ds_alltime.frequency.where(ds_alltime.frequency > 0.6)\n",
    "alltime_water.count()"
   ]
  },
  {
   "cell_type": "code",
   "execution_count": null,
   "id": "ca209498-66c8-4b0d-bc62-f15f313043d3",
   "metadata": {},
   "outputs": [],
   "source": [
    "ds_water = ds.where(ds > 0.6)\n",
    "ds_water.count()"
   ]
  },
  {
   "cell_type": "code",
   "execution_count": null,
   "id": "d4c38c54-b1e2-4248-8bcc-f447aaf463eb",
   "metadata": {},
   "outputs": [],
   "source": [
    "ds_water.plot()"
   ]
  },
  {
   "cell_type": "code",
   "execution_count": null,
   "id": "1e620be6-03c6-411e-b8bd-908cea344bf2",
   "metadata": {},
   "outputs": [],
   "source": [
    "alltime_water.plot()"
   ]
  },
  {
   "cell_type": "markdown",
   "id": "aede638d-af1c-4b81-8545-4bdae30daa68",
   "metadata": {},
   "source": [
    "---\n",
    "\n",
    "## Additional information\n",
    "\n",
    "**License:** The code in this notebook is licensed under the [Apache License, Version 2.0](https://www.apache.org/licenses/LICENSE-2.0). \n",
    "Digital Earth Africa data is licensed under the [Creative Commons by Attribution 4.0](https://creativecommons.org/licenses/by/4.0/) license.\n",
    "\n",
    "**Contact:** If you need assistance, please post a question on the [Open Data Cube Slack channel](http://slack.opendatacube.org/) or on the [GIS Stack Exchange](https://gis.stackexchange.com/questions/ask?tags=open-data-cube) using the `open-data-cube` tag (you can view previously asked questions [here](https://gis.stackexchange.com/questions/tagged/open-data-cube)).\n",
    "\n",
    "**Compatible datacube version:**"
   ]
  },
  {
   "cell_type": "code",
   "execution_count": null,
   "id": "b5027a63-d3c5-44ab-ab51-4592699ca706",
   "metadata": {},
   "outputs": [],
   "source": [
    "print(datacube.__version__)"
   ]
  },
  {
   "cell_type": "markdown",
   "id": "f7b54bd4-2456-4091-a2e1-36146b72a844",
   "metadata": {},
   "source": [
    "**Last Tested:**"
   ]
  },
  {
   "cell_type": "code",
   "execution_count": null,
   "id": "d79114c9-b6c2-40c0-baf0-e861447d7ae1",
   "metadata": {
    "tags": []
   },
   "outputs": [],
   "source": [
    "from datetime import datetime\n",
    "datetime.today().strftime('%Y-%m-%d')"
   ]
  }
 ],
 "metadata": {
  "kernelspec": {
   "display_name": "Python 3 (ipykernel)",
   "language": "python",
   "name": "python3"
  },
  "language_info": {
   "codemirror_mode": {
    "name": "ipython",
    "version": 3
   },
   "file_extension": ".py",
   "mimetype": "text/x-python",
   "name": "python",
   "nbconvert_exporter": "python",
   "pygments_lexer": "ipython3",
   "version": "3.8.10"
  }
 },
 "nbformat": 4,
 "nbformat_minor": 5
}
