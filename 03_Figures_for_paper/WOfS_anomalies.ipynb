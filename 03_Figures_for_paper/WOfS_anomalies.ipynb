{
 "cells": [
  {
   "cell_type": "markdown",
   "id": "5b13a065-3a30-4464-b50b-578d1ec07dc8",
   "metadata": {},
   "source": [
    "# WOfS anomalies averaged over polygons"
   ]
  },
  {
   "cell_type": "markdown",
   "id": "2d914be4-6903-47d8-8b63-295a385cf495",
   "metadata": {},
   "source": [
    "## Load packages, connect to datacube"
   ]
  },
  {
   "cell_type": "code",
   "execution_count": 1,
   "id": "259e0f89-f2b1-457e-95af-ceb6297eac8c",
   "metadata": {},
   "outputs": [
    {
     "name": "stderr",
     "output_type": "stream",
     "text": [
      "/usr/local/lib/python3.8/dist-packages/geopandas/_compat.py:112: UserWarning: The Shapely GEOS version (3.8.0-CAPI-1.13.1 ) is incompatible with the GEOS version PyGEOS was compiled with (3.10.3-CAPI-1.16.1). Conversions between both will be slow.\n",
      "  warnings.warn(\n"
     ]
    }
   ],
   "source": [
    "%matplotlib inline\n",
    "\n",
    "import datacube\n",
    "import gc\n",
    "import numpy as np\n",
    "import matplotlib.pyplot as plt\n",
    "import geopandas as gpd\n",
    "from datacube.utils import geometry\n",
    "import pandas as pd\n",
    "import matplotlib as mpl\n",
    "import xarray as xr\n",
    "from odc.algo import xr_reproject\n",
    "from datacube.utils.geometry import assign_crs\n",
    "\n",
    "from deafrica_tools.spatial import xr_rasterize\n",
    "from deafrica_tools.dask import create_local_dask_cluster\n",
    "\n",
    "dc = datacube.Datacube(app=\"WOfS-figure\")\n",
    "\n",
    "import warnings\n",
    "warnings.filterwarnings(\"ignore\", message=\"Iteration over multi-part geometries is deprecated and will be removed in \")"
   ]
  },
  {
   "cell_type": "code",
   "execution_count": 2,
   "id": "861564c5-2411-4ece-bb73-32b8e88add44",
   "metadata": {},
   "outputs": [
    {
     "data": {
      "text/html": [
       "<table style=\"border: 2px solid white;\">\n",
       "<tr>\n",
       "<td style=\"vertical-align: top; border: 0px solid white\">\n",
       "<h3 style=\"text-align: left;\">Client</h3>\n",
       "<ul style=\"text-align: left; list-style: none; margin: 0; padding: 0;\">\n",
       "  <li><b>Scheduler: </b>tcp://127.0.0.1:35283</li>\n",
       "  <li><b>Dashboard: </b><a href='/user/fang.yuan@digitalearthafrica.org/proxy/8787/status' target='_blank'>/user/fang.yuan@digitalearthafrica.org/proxy/8787/status</a></li>\n",
       "</ul>\n",
       "</td>\n",
       "<td style=\"vertical-align: top; border: 0px solid white\">\n",
       "<h3 style=\"text-align: left;\">Cluster</h3>\n",
       "<ul style=\"text-align: left; list-style:none; margin: 0; padding: 0;\">\n",
       "  <li><b>Workers: </b>1</li>\n",
       "  <li><b>Cores: </b>15</li>\n",
       "  <li><b>Memory: </b>104.37 GB</li>\n",
       "</ul>\n",
       "</td>\n",
       "</tr>\n",
       "</table>"
      ],
      "text/plain": [
       "<Client: 'tcp://127.0.0.1:35283' processes=1 threads=15, memory=104.37 GB>"
      ]
     },
     "metadata": {},
     "output_type": "display_data"
    }
   ],
   "source": [
    "create_local_dask_cluster()"
   ]
  },
  {
   "cell_type": "markdown",
   "id": "643d77ca-6c7e-4647-b455-bd4f5278280f",
   "metadata": {},
   "source": [
    "## Analysis parameters\n",
    "\n",
    "* `year`: The year the anomaly will be calculated for ie, if '2020' then the WOfS area for 2020 will be subtracted from the long-term mean\n",
    "* `vector_file`: The shapefile (geojson) over which the anomalies are iterated. The final results are appended to this dataframe on this file\n",
    "* `attribute_col`: the column in the \"vector_file\" that is used to label the results. ie if this is a shapefile with Africam country boundary then the attribute_col should be the column containg the country names\n",
    "* `output_suffix`: a filename suffix added to the exported  results geojson to identify what the results refer to. ie. if iterating over African countries then make this parameter something like 'countries'. "
   ]
  },
  {
   "cell_type": "code",
   "execution_count": 3,
   "id": "6a17829d-6bb4-452b-98b1-a0de061224aa",
   "metadata": {},
   "outputs": [],
   "source": [
    "# Set the year you want to compare\n",
    "year = '2020'\n",
    "vector_file = \"data/african_countries.shp\"\n",
    "attribute_col = 'name'\n",
    "output_suffix = 'countries'\n",
    "wofs_threshold = 0.30"
   ]
  },
  {
   "cell_type": "markdown",
   "id": "6edde19c-adca-45b5-a804-33168618888d",
   "metadata": {},
   "source": [
    "## Open vector file and set-up ODC query"
   ]
  },
  {
   "cell_type": "code",
   "execution_count": 4,
   "id": "062293ad-f8f2-430d-83e1-e571540886a5",
   "metadata": {
    "tags": []
   },
   "outputs": [
    {
     "data": {
      "text/html": [
       "<div>\n",
       "<style scoped>\n",
       "    .dataframe tbody tr th:only-of-type {\n",
       "        vertical-align: middle;\n",
       "    }\n",
       "\n",
       "    .dataframe tbody tr th {\n",
       "        vertical-align: top;\n",
       "    }\n",
       "\n",
       "    .dataframe thead th {\n",
       "        text-align: right;\n",
       "    }\n",
       "</style>\n",
       "<table border=\"1\" class=\"dataframe\">\n",
       "  <thead>\n",
       "    <tr style=\"text-align: right;\">\n",
       "      <th></th>\n",
       "      <th>name</th>\n",
       "      <th>geometry</th>\n",
       "    </tr>\n",
       "  </thead>\n",
       "  <tbody>\n",
       "    <tr>\n",
       "      <th>0</th>\n",
       "      <td>Sudan</td>\n",
       "      <td>MULTIPOLYGON (((38.58148 18.02542, 38.58203 18...</td>\n",
       "    </tr>\n",
       "    <tr>\n",
       "      <th>1</th>\n",
       "      <td>Angola</td>\n",
       "      <td>MULTIPOLYGON (((11.79481 -16.81925, 11.79375 -...</td>\n",
       "    </tr>\n",
       "    <tr>\n",
       "      <th>2</th>\n",
       "      <td>Benin</td>\n",
       "      <td>MULTIPOLYGON (((1.86343 6.28872, 1.86292 6.288...</td>\n",
       "    </tr>\n",
       "    <tr>\n",
       "      <th>3</th>\n",
       "      <td>Botswana</td>\n",
       "      <td>POLYGON ((25.17447 -17.77881, 25.18476 -17.783...</td>\n",
       "    </tr>\n",
       "    <tr>\n",
       "      <th>4</th>\n",
       "      <td>Burkina Faso</td>\n",
       "      <td>POLYGON ((-0.45567 15.08082, -0.45411 15.07937...</td>\n",
       "    </tr>\n",
       "  </tbody>\n",
       "</table>\n",
       "</div>"
      ],
      "text/plain": [
       "           name                                           geometry\n",
       "0         Sudan  MULTIPOLYGON (((38.58148 18.02542, 38.58203 18...\n",
       "1        Angola  MULTIPOLYGON (((11.79481 -16.81925, 11.79375 -...\n",
       "2         Benin  MULTIPOLYGON (((1.86343 6.28872, 1.86292 6.288...\n",
       "3      Botswana  POLYGON ((25.17447 -17.77881, 25.18476 -17.783...\n",
       "4  Burkina Faso  POLYGON ((-0.45567 15.08082, -0.45411 15.07937..."
      ]
     },
     "execution_count": 4,
     "metadata": {},
     "output_type": "execute_result"
    }
   ],
   "source": [
    "gdf = gpd.read_file(vector_file)\n",
    "gdf.head()"
   ]
  },
  {
   "cell_type": "code",
   "execution_count": 5,
   "id": "3e91f97a-00ab-420c-a9fe-e0ff6bf86d44",
   "metadata": {},
   "outputs": [],
   "source": [
    "measurements = ['frequency']\n",
    "resolution = (-30,30)\n",
    "output_crs = 'EPSG:6933'"
   ]
  },
  {
   "cell_type": "code",
   "execution_count": 6,
   "id": "4f0c938f-2b5a-46b4-a11b-1f8cc0c6ff5e",
   "metadata": {},
   "outputs": [],
   "source": [
    "query = {'measurements': measurements,\n",
    "         'resolution': resolution,\n",
    "         'output_crs': output_crs,\n",
    "         'dask_chunks':dict(x=1000,y=1000)\n",
    "         }"
   ]
  },
  {
   "cell_type": "markdown",
   "id": "af8aeb7c-8232-4823-bf11-2dd4609deadc",
   "metadata": {},
   "source": [
    "### Loop through polygons and process WOfS data\n",
    "\n"
   ]
  },
  {
   "cell_type": "code",
   "execution_count": 7,
   "id": "6ac6d72b-ac25-4adb-950b-7f5b34600af5",
   "metadata": {},
   "outputs": [],
   "source": [
    "#store results in dict\n",
    "year_area = {}\n",
    "area_mean = {}\n",
    "area_std = {}\n",
    "area_min = {}\n",
    "area_idxmin = {}\n",
    "area_max = {}\n",
    "area_idxmax = {}\n",
    "diff = {}\n",
    "change_perc = {}\n",
    "anomaly = {}"
   ]
  },
  {
   "cell_type": "code",
   "execution_count": null,
   "id": "7e60edce-f761-4b60-baa5-82a77597a6a5",
   "metadata": {},
   "outputs": [
    {
     "name": "stdout",
     "output_type": "stream",
     "text": [
      " Feature 37/55\r"
     ]
    }
   ],
   "source": [
    "# Try to prevent garbage collection warning from dask\n",
    "g0, g1, g2 = gc.get_threshold()\n",
    "gc.set_threshold(g0*3, g1*3, g2*3)\n",
    "\n",
    "# A progress indicator\n",
    "i = 0\n",
    "\n",
    "# Loop through polygons in geodataframe and extract satellite data\n",
    "for index, row in gdf.iterrows():\n",
    "\n",
    "    print(\" Feature {:02}/{:02}\\r\".format(i + 1, len(gdf)),\n",
    "          end='')\n",
    "\n",
    "    country = str(row[attribute_col])\n",
    "\n",
    "    # Get the geometry\n",
    "    geom = geometry.Geometry(row.geometry.__geo_interface__,\n",
    "                             geometry.CRS(gdf.crs))\n",
    "\n",
    "    # Update dc query with geometry\n",
    "    query.update({'geopolygon': geom})\n",
    "\n",
    "    # Load wofs\n",
    "    ds = dc.load(product='wofs_ls_summary_annual',\n",
    "                 time=('2000', '2020'),\n",
    "                 **query)\n",
    "\n",
    "    # Generate a polygon mask to keep only data within the polygon\n",
    "    mask = xr_rasterize(gdf.iloc[[index]], ds, verbose=False)\n",
    "    ds = ds.where(mask)\n",
    "\n",
    "    # threshold\n",
    "    ds = ds.frequency >= wofs_threshold\n",
    "\n",
    "    # calculate area of pixels\n",
    "    area_per_pixel = query[\"resolution\"][1]**2 / 1000**2\n",
    "    ds_area = (ds.sum(dim=['x', 'y']) * area_per_pixel).compute()\n",
    "\n",
    "    # Save timeseries of water area for reference\n",
    "    plt.ioff()  # turn off plotting\n",
    "    fig, ax = plt.subplots(1, 1, figsize=(11, 5))\n",
    "    ds_area.plot(ax=ax, marker='o', color='#9467bd')\n",
    "    plt.title(f'Observed Annual Area of Water :'+country+', 2000 to 2020')\n",
    "    plt.xlabel('Year')\n",
    "    plt.ylabel('Waterbody area (km$^2$)')\n",
    "    plt.tight_layout()\n",
    "    fig.savefig('results/pngs/wofs/wofs_area_'+country+'_2000_2020.png',\n",
    "                bbox_inches='tight',\n",
    "                dpi=200,\n",
    "                facecolor=\"white\")\n",
    "    plt.close(fig)\n",
    "\n",
    "    # summary stats for area of water from 1984-2020\n",
    "    ds_area_mean = ds_area.mean().values.item()\n",
    "    ds_area_std = ds_area.std().values.item()\n",
    "    ds_area_max = ds_area.max().values.item()\n",
    "    ds_area_idxmax = int(ds_area.idxmax().dt.year.values)\n",
    "    ds_area_min = ds_area.min().values.item()\n",
    "    ds_area_idxmin = int(ds_area.idxmin().dt.year.values)\n",
    "\n",
    "    # area in year of interest\n",
    "    ds_area_year = ds_area.sel(time=year).values.item()\n",
    "\n",
    "    # compare area\n",
    "    diff_area = ds_area_year - ds_area_mean\n",
    "    diff_percent = diff_area / ds_area_mean * 100\n",
    "    anomaly_year = (ds_area_year - ds_area_mean) / ds_area_std\n",
    "\n",
    "    # output results in dict\n",
    "    year_area.update({country: ds_area_year})\n",
    "    area_mean.update({country: ds_area_mean})\n",
    "    area_std.update({country: ds_area_std})\n",
    "    area_max.update({country: ds_area_max})\n",
    "    area_min.update({country: ds_area_min})\n",
    "    area_idxmin.update({country: ds_area_idxmin})\n",
    "    area_idxmax.update({country: ds_area_idxmax})\n",
    "    diff.update({country: diff_area})\n",
    "    change_perc.update({country: diff_percent})\n",
    "    anomaly.update({country: anomaly_year})\n",
    "    i += 1"
   ]
  },
  {
   "cell_type": "markdown",
   "id": "15902a1e-5936-44b5-a246-4c0bb933fc74",
   "metadata": {},
   "source": [
    "## Concatenate results in a dataframe"
   ]
  },
  {
   "cell_type": "code",
   "execution_count": null,
   "id": "53dcadb6-4ab5-4252-89a9-1dfd69a37015",
   "metadata": {},
   "outputs": [],
   "source": [
    "df = pd.DataFrame.from_dict(\n",
    "    [\n",
    "        year_area,\n",
    "        area_mean,\n",
    "        area_std,\n",
    "        area_max,\n",
    "        area_min,\n",
    "        area_idxmax,\n",
    "        area_idxmin,\n",
    "        diff,\n",
    "        change_perc,\n",
    "        anomaly,\n",
    "    ]\n",
    ").T.rename(\n",
    "    {\n",
    "        0: \"Water Extent \" + year + \" (km2)\",\n",
    "        1: \"Mean Water Extent 2000-2020 (km2)\",\n",
    "        2: \"Std. Dev. Water Extent 2000-2020 (km2)\",\n",
    "        3: \"Max Water Extent 2000-2020 (km2)\",\n",
    "        4: \"Min Water Extent 2000-2020 (km2)\",\n",
    "        5: \"Year of Max Water Extent 2000-2020\",\n",
    "        6: \"Year of Min Water Extent 2000-2020\",\n",
    "        7: \"Difference in Water Extent: \" + year + \" - Mean (km2)\",\n",
    "        8: \"Percentage Difference in Water Extent: \" + year + \" - Mean\",\n",
    "        9: \"Standardised Anomaly in Water Extent: (\" + year + \" - Mean) / Std.dev.\",\n",
    "    },\n",
    "    axis=1,\n",
    ")\n",
    "\n",
    "df.head()"
   ]
  },
  {
   "cell_type": "markdown",
   "id": "dc3044d0-1c35-4548-a945-4bce40c9ec2d",
   "metadata": {},
   "source": [
    "## Join results onto geodataframe and export"
   ]
  },
  {
   "cell_type": "code",
   "execution_count": null,
   "id": "1dfdb9c6-de90-45eb-adbb-1f4b946262c6",
   "metadata": {},
   "outputs": [],
   "source": [
    "gdf = gdf.join(df, attribute_col)"
   ]
  },
  {
   "cell_type": "code",
   "execution_count": null,
   "id": "4ecdc40d-3cb7-4b5d-b9e5-57169809b221",
   "metadata": {},
   "outputs": [],
   "source": [
    "gdf.to_file('results/geojsons/wofs_anomalies_africa_'+output_suffix+'_'+year+'.geojson')"
   ]
  },
  {
   "cell_type": "markdown",
   "id": "88fc0155-973c-4077-819a-25045c620d70",
   "metadata": {},
   "source": [
    "## Explore results\n",
    "\n",
    "You can read in the geojson if returning to this notebook by uncommenting the cell directly below.\n",
    "\n",
    "The geodataframe is 'simplified' to speed up processing.\n",
    "\n",
    "Change the `col_to_plot` parameter to change which variable is plotted\n"
   ]
  },
  {
   "cell_type": "code",
   "execution_count": null,
   "id": "da0157e8-246e-4269-b0f1-40f804d56dde",
   "metadata": {
    "tags": []
   },
   "outputs": [],
   "source": [
    "# gdf = gpd.read_file('results/geojsons/wofs_anomalies_africa_'+output_suffix+'_'+year+'.geojson')"
   ]
  },
  {
   "cell_type": "code",
   "execution_count": null,
   "id": "c528466a-7830-45f2-92e9-13d822cb393a",
   "metadata": {},
   "outputs": [],
   "source": [
    "gdf.columns"
   ]
  },
  {
   "cell_type": "code",
   "execution_count": null,
   "id": "f182cf34-e8ff-42e0-8856-a9d36291a2a5",
   "metadata": {
    "tags": []
   },
   "outputs": [],
   "source": [
    "#simplify so plotting is fast\n",
    "gdf_simple = gdf.to_crs('epsg:6933')\n",
    "gdf_simple['geometry'] = gdf_simple['geometry'].simplify(2500)\n"
   ]
  },
  {
   "cell_type": "code",
   "execution_count": null,
   "id": "a3d94d30-b3da-4687-927c-38d4c22e6dc9",
   "metadata": {},
   "outputs": [],
   "source": [
    "col_to_plot = \"Mean Water Extent 2000-2020 (km2)\"\n",
    "\n",
    "gdf_simple.explore(\n",
    "    column=col_to_plot,\n",
    "    cmap=\"plasma\",\n",
    "#     vmin=-3.0,\n",
    "    vmax=45000,\n",
    "    style_kwds={\"fillOpacity\": 1.0},\n",
    "    tiles=\"CartoDB positron\",\n",
    ")"
   ]
  },
  {
   "cell_type": "markdown",
   "id": "794c34cf-93ee-4fe7-8f97-d82d35adf6fb",
   "metadata": {},
   "source": [
    "# ------FIGURES CODE ----------------------------------------------"
   ]
  },
  {
   "cell_type": "markdown",
   "id": "5901a56f-4da2-48d1-92a2-b8ff4bd9c83d",
   "metadata": {},
   "source": [
    "### Plot WOfS with country boundaries\n",
    "**Use this section to edit existing plot title, bounds, etc.**"
   ]
  },
  {
   "cell_type": "markdown",
   "id": "8e5949a8-5847-4549-b2c5-f30e3c7ce117",
   "metadata": {
    "tags": []
   },
   "source": [
    "If you have successfully exported the previous shapefile but started a new instance, there is no need to re-process the data. It can be read in from the shapefile by uncommenting and running the code below. Be sure the vector file path is to the correct shapefile title."
   ]
  },
  {
   "cell_type": "code",
   "execution_count": null,
   "id": "a54e5b52-c5b4-4622-97c9-c08d802f9049",
   "metadata": {
    "tags": []
   },
   "outputs": [],
   "source": [
    "gdf = gpd.read_file('results/geojsons/wofs_anomalies_africa_'+output_suffix+'_'+year+'.geojson')"
   ]
  },
  {
   "cell_type": "code",
   "execution_count": null,
   "id": "5dd39952-b0fc-48a4-81da-194849fdc164",
   "metadata": {
    "tags": []
   },
   "outputs": [],
   "source": [
    "col_to_plot = \"Standardised Anomaly in Water Extent: (2020 - Mean) / Std.dev.\""
   ]
  },
  {
   "cell_type": "markdown",
   "id": "fd7350e9-c786-4199-83c2-d5611808b5fb",
   "metadata": {
    "tags": []
   },
   "source": [
    "### Customise the plot"
   ]
  },
  {
   "cell_type": "code",
   "execution_count": null,
   "id": "d3cf64a4-fb64-4fd3-bbcf-6a95b372cf57",
   "metadata": {},
   "outputs": [],
   "source": [
    "vmin, vmax = -3,3.1\n",
    "steps = 0.5\n",
    "title = 'Standardised Anomaly in Surface Water Extent 2020'\n",
    "export_path = 'results/pngs/wofs/std_anomaly_wofs.png'"
   ]
  },
  {
   "cell_type": "code",
   "execution_count": null,
   "id": "3560692b-8c83-4018-bcc1-6a1d6c768d84",
   "metadata": {
    "tags": []
   },
   "outputs": [],
   "source": [
    "# Define plot and colourbar axes\n",
    "fig, ax = plt.subplots(1,1, figsize=(10,10))\n",
    "fig.subplots_adjust(bottom=0.2)\n",
    "cax = fig.add_axes([0.16, 0.15, 0.70, 0.03])\n",
    "\n",
    "\n",
    "# Define colour map\n",
    "cmap = mpl.cm.RdBu\n",
    "bounds = list(np.arange(vmin,vmax,steps))\n",
    "norm = mpl.colors.BoundaryNorm(bounds, cmap.N)#, extend='both')\n",
    "cbar = mpl.colorbar.ColorbarBase(cax, cmap=cmap,\n",
    "                                norm=norm,\n",
    "                                orientation='horizontal')\n",
    "\n",
    "# Define colourbar labelling\n",
    "# cbar.set_ticks([])\n",
    "cbar.set_ticks([i for i in np.arange(vmin,vmax,steps)])\n",
    "cbar.set_ticklabels(list('{:2}'.format(i) for i in (list(np.arange(vmin, vmax, steps)))))\n",
    "cbar.set_label(title, fontsize='14')\n",
    "\n",
    "# Turn off lon-lat ticks and labels\n",
    "ax.set_yticklabels([])\n",
    "ax.set_xticklabels([])\n",
    "ax.set_xticks([])\n",
    "ax.set_yticks([])\n",
    "\n",
    "# # Remove frame\n",
    "ax.spines['top'].set_visible(False)\n",
    "ax.spines['right'].set_visible(False)\n",
    "ax.spines['bottom'].set_visible(False)\n",
    "ax.spines['left'].set_visible(False)\n",
    "\n",
    "# plot 'pc_change' and 'geometry' boundary lines\n",
    "gdf.plot(col_to_plot, ax=ax, cmap=cmap, norm=norm)\n",
    "gdf.geometry.plot(ax=ax, linewidth=0.8, edgecolor='black', facecolor=\"none\")\n",
    "\n",
    "# Export figure\n",
    "fig.savefig(export_path, \n",
    "            bbox_inches='tight',\n",
    "            dpi=200, \n",
    "            facecolor=\"white\")"
   ]
  },
  {
   "cell_type": "markdown",
   "id": "aede638d-af1c-4b81-8545-4bdae30daa68",
   "metadata": {},
   "source": [
    "---\n",
    "\n",
    "## Additional information\n",
    "\n",
    "**License:** The code in this notebook is licensed under the [Apache License, Version 2.0](https://www.apache.org/licenses/LICENSE-2.0). \n",
    "Digital Earth Africa data is licensed under the [Creative Commons by Attribution 4.0](https://creativecommons.org/licenses/by/4.0/) license.\n",
    "\n",
    "**Contact:** If you need assistance, please post a question on the [Open Data Cube Slack channel](http://slack.opendatacube.org/) or on the [GIS Stack Exchange](https://gis.stackexchange.com/questions/ask?tags=open-data-cube) using the `open-data-cube` tag (you can view previously asked questions [here](https://gis.stackexchange.com/questions/tagged/open-data-cube)).\n",
    "\n",
    "**Compatible datacube version:**"
   ]
  },
  {
   "cell_type": "code",
   "execution_count": null,
   "id": "b5027a63-d3c5-44ab-ab51-4592699ca706",
   "metadata": {},
   "outputs": [],
   "source": [
    "print(datacube.__version__)"
   ]
  },
  {
   "cell_type": "markdown",
   "id": "f7b54bd4-2456-4091-a2e1-36146b72a844",
   "metadata": {},
   "source": [
    "**Last Tested:**"
   ]
  },
  {
   "cell_type": "code",
   "execution_count": null,
   "id": "d79114c9-b6c2-40c0-baf0-e861447d7ae1",
   "metadata": {
    "tags": []
   },
   "outputs": [],
   "source": [
    "from datetime import datetime\n",
    "datetime.today().strftime('%Y-%m-%d')"
   ]
  }
 ],
 "metadata": {
  "kernelspec": {
   "display_name": "Python 3 (ipykernel)",
   "language": "python",
   "name": "python3"
  },
  "language_info": {
   "codemirror_mode": {
    "name": "ipython",
    "version": 3
   },
   "file_extension": ".py",
   "mimetype": "text/x-python",
   "name": "python",
   "nbconvert_exporter": "python",
   "pygments_lexer": "ipython3",
   "version": "3.8.10"
  }
 },
 "nbformat": 4,
 "nbformat_minor": 5
}
